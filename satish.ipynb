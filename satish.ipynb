{
 "cells": [
  {
   "cell_type": "markdown",
   "id": "cf51fb88",
   "metadata": {},
   "source": [
    "Task 1:\n",
    "\n",
    "    Load the file 'about_python.txt'into your jupyter notebook. \n",
    "     a. Correct wrong statements about python fatures  \n",
    "     b. How many charactaers present in the data \n",
    "    c. How many times 'Python' word is repeated. \n",
    "    d. after correcting all ..print complete valid features of the python. "
   ]
  },
  {
   "cell_type": "code",
   "execution_count": 3,
   "id": "693cd662",
   "metadata": {},
   "outputs": [],
   "source": [
    "f = open(\"C:\\\\Users\\\\Satish\\\\OneDrive\\\\Desktop\\\\about_python.txt\",'r')"
   ]
  },
  {
   "cell_type": "code",
   "execution_count": 4,
   "id": "7e8a92b7",
   "metadata": {},
   "outputs": [],
   "source": [
    "replacing = f.read()"
   ]
  },
  {
   "cell_type": "code",
   "execution_count": 5,
   "id": "68d659d4",
   "metadata": {},
   "outputs": [],
   "source": [
    "replacing = replacing.replace('notfree','an free')\n",
    "replacing = replacing.replace('noteasy','an easy')\n",
    "replacing = replacing.replace('notobject','an object')\n",
    "replacing = replacing.replace('notGUI','an GUI')\n",
    "replacing = replacing.replace('low','high')\n",
    "replacing = replacing.replace('not for','an')\n",
    "replacing = replacing.replace('not','an')\n",
    "replacing = replacing.replace('not','an')"
   ]
  },
  {
   "cell_type": "code",
   "execution_count": 6,
   "id": "7f9aba5f",
   "metadata": {},
   "outputs": [
    {
     "name": "stdout",
     "output_type": "stream",
     "text": [
      "python is anFree and Open Source.\n",
      "python is anEasy to code.\n",
      "python is anObject-Oriented Language.\n",
      "python is an GUI Programming Support.\n",
      "python is an high-Level Language.\n",
      "python is an Large Community Support.\n",
      "Python is an Portable language.\n",
      "Python is an Integrated language.\n"
     ]
    }
   ],
   "source": [
    "print(replacing)"
   ]
  },
  {
   "cell_type": "code",
   "execution_count": 7,
   "id": "dcece703",
   "metadata": {},
   "outputs": [],
   "source": [
    "f.close()"
   ]
  },
  {
   "cell_type": "code",
   "execution_count": 8,
   "id": "88ac3551",
   "metadata": {},
   "outputs": [
    {
     "data": {
      "text/plain": [
       "273"
      ]
     },
     "execution_count": 8,
     "metadata": {},
     "output_type": "execute_result"
    }
   ],
   "source": [
    "len(replacing)"
   ]
  },
  {
   "cell_type": "code",
   "execution_count": 9,
   "id": "f00b5cc5",
   "metadata": {},
   "outputs": [
    {
     "data": {
      "text/plain": [
       "6"
      ]
     },
     "execution_count": 9,
     "metadata": {},
     "output_type": "execute_result"
    }
   ],
   "source": [
    "replacing.count(\"python\")"
   ]
  },
  {
   "cell_type": "markdown",
   "id": "d9b47094",
   "metadata": {},
   "source": [
    "Task2:\n",
    "\n",
    "Create a file 'File.txt'which expalains python file handling whatever you have learnt today(creating,reading,wring and appending...etc) in detail.That reaload the saved file(i.e File.txt) to jupyter notebook."
   ]
  },
  {
   "cell_type": "code",
   "execution_count": 2,
   "id": "dde0d118",
   "metadata": {},
   "outputs": [],
   "source": [
    "f2 = open('fle.txt','x')"
   ]
  },
  {
   "cell_type": "code",
   "execution_count": 3,
   "id": "3cd35eb7",
   "metadata": {},
   "outputs": [],
   "source": [
    "f2 = open('fle.txt','w')"
   ]
  },
  {
   "cell_type": "code",
   "execution_count": 4,
   "id": "1f7e13c0",
   "metadata": {},
   "outputs": [],
   "source": [
    "f2.writelines(['faile handling\\n','faile handling is a process storing data in file using python programming\\n','in file handling we have reading mode to read the file\\n','in fail handling we have write to write inthe faile\\n','we have append to add the data at end'])"
   ]
  },
  {
   "cell_type": "code",
   "execution_count": 5,
   "id": "7deaf4d3",
   "metadata": {},
   "outputs": [],
   "source": [
    "f2.close()"
   ]
  },
  {
   "cell_type": "code",
   "execution_count": 6,
   "id": "76971b7a",
   "metadata": {},
   "outputs": [],
   "source": [
    "f2 = open('fle.txt','r')"
   ]
  },
  {
   "cell_type": "code",
   "execution_count": 7,
   "id": "5fcd0a83",
   "metadata": {},
   "outputs": [
    {
     "data": {
      "text/plain": [
       "<_io.TextIOWrapper name='fle.txt' mode='r' encoding='cp1252'>"
      ]
     },
     "execution_count": 7,
     "metadata": {},
     "output_type": "execute_result"
    }
   ],
   "source": []
  },
  {
   "cell_type": "code",
   "execution_count": null,
   "id": "28d99e26",
   "metadata": {},
   "outputs": [],
   "source": []
  }
 ],
 "metadata": {
  "kernelspec": {
   "display_name": "Python 3 (ipykernel)",
   "language": "python",
   "name": "python3"
  },
  "language_info": {
   "codemirror_mode": {
    "name": "ipython",
    "version": 3
   },
   "file_extension": ".py",
   "mimetype": "text/x-python",
   "name": "python",
   "nbconvert_exporter": "python",
   "pygments_lexer": "ipython3",
   "version": "3.11.4"
  }
 },
 "nbformat": 4,
 "nbformat_minor": 5
}
