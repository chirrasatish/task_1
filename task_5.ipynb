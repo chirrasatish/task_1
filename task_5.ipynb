{
 "cells": [
  {
   "cell_type": "markdown",
   "id": "8faca556",
   "metadata": {},
   "source": [
    "Task1: Append and Modify Elements\n",
    "\n",
    "Create an empty list called numbers. Append the numbers 1, 2, and 3 to the list.\n",
    "\n",
    "Modify the element at index 1 to be 4.\n",
    "\n",
    "Print the updated list.\n",
    "\n",
    "Task2: Slicing and Concatenation\n",
    "\n",
    "Create a list called fruits with elements 'apple', 'banana', 'orange', 'mango', and 'kiwi'.\n",
    "\n",
    "Create a new list by slicing fruits to include only the citrus fruits ('orange' and 'mango\"). * Create a new list called tropical by slicing fruits to include only the tropical fruits ('banana\" and \"kiwi').\n",
    "\n",
    "Concatenate citrus and tropical lists to create a new list called combined. Print combined.\n",
    "\n",
    "Task3: Counting and Removing Elements\n",
    "\n",
    "Create a list called colors with repeated elements 'red', 'blue', 'red', 'green', 'red'. Print the number of occurrences of 'red' in the list. Remove all occurrences of 'red' from the list. Print the updated list.\n",
    "\n",
    "Task 4: List Manipulation\n",
    "\n",
    "Add 'cheese' to the end of the list. Remove 'milk' from the list.\n",
    "\n",
    "Create a list called groceries with initial items: 'bread', 'milk', 'eggs', 'butter'. Print the final list of groceries. Insert 'yogurt' at index 1."
   ]
  },
  {
   "cell_type": "markdown",
   "id": "de2a7bce",
   "metadata": {},
   "source": [
    "Task1: Append and Modify Elements\n",
    "\n",
    "Create an empty list called numbers. Append the numbers 1, 2, and 3 to the list.\n",
    "\n",
    "Modify the element at index 1 to be 4.\n",
    "\n",
    "Print the updated list."
   ]
  },
  {
   "cell_type": "code",
   "execution_count": 1,
   "id": "5d7a6065",
   "metadata": {},
   "outputs": [],
   "source": [
    "number = []"
   ]
  },
  {
   "cell_type": "code",
   "execution_count": 2,
   "id": "e5d42ccc",
   "metadata": {},
   "outputs": [],
   "source": [
    "number.append(1)"
   ]
  },
  {
   "cell_type": "code",
   "execution_count": 3,
   "id": "a0041e6f",
   "metadata": {},
   "outputs": [],
   "source": [
    "number.append(2)"
   ]
  },
  {
   "cell_type": "code",
   "execution_count": 4,
   "id": "671aeeea",
   "metadata": {},
   "outputs": [],
   "source": [
    "number.append(3)"
   ]
  },
  {
   "cell_type": "code",
   "execution_count": 5,
   "id": "ca457157",
   "metadata": {},
   "outputs": [
    {
     "data": {
      "text/plain": [
       "[1, 2, 3]"
      ]
     },
     "execution_count": 5,
     "metadata": {},
     "output_type": "execute_result"
    }
   ],
   "source": [
    "number"
   ]
  },
  {
   "cell_type": "code",
   "execution_count": 6,
   "id": "f43df45c",
   "metadata": {},
   "outputs": [],
   "source": [
    "number.insert(1,4)"
   ]
  },
  {
   "cell_type": "code",
   "execution_count": 7,
   "id": "aaded3ea",
   "metadata": {},
   "outputs": [
    {
     "data": {
      "text/plain": [
       "[1, 4, 2, 3]"
      ]
     },
     "execution_count": 7,
     "metadata": {},
     "output_type": "execute_result"
    }
   ],
   "source": [
    "number"
   ]
  },
  {
   "cell_type": "markdown",
   "id": "f6852ed7",
   "metadata": {},
   "source": [
    "Task2: Slicing and Concatenation\n",
    "\n",
    "1)Create a list called fruits with elements 'apple', 'banana', 'orange', 'mango', and 'kiwi'.\n",
    "\n",
    "2)Create a new list by slicing fruits to include only the citrus fruits ('orange' and 'mango\"). * Create a new list called tropical by slicing fruits to include only the tropical fruits ('banana\" and \"kiwi').\n",
    "\n",
    "3)Concatenate citrus and tropical lists to create a new list called combined. Print combined."
   ]
  },
  {
   "cell_type": "code",
   "execution_count": 9,
   "id": "6f403d75",
   "metadata": {},
   "outputs": [],
   "source": [
    "fruits = ['apple', 'banana', 'orange', 'mango', 'kiwi']"
   ]
  },
  {
   "cell_type": "code",
   "execution_count": 10,
   "id": "20b1f78f",
   "metadata": {},
   "outputs": [],
   "source": [
    "citrus_fruits = fruits[2:4]"
   ]
  },
  {
   "cell_type": "code",
   "execution_count": 11,
   "id": "0140fdc4",
   "metadata": {},
   "outputs": [
    {
     "data": {
      "text/plain": [
       "['orange', 'mango']"
      ]
     },
     "execution_count": 11,
     "metadata": {},
     "output_type": "execute_result"
    }
   ],
   "source": [
    "citrus_fruits"
   ]
  },
  {
   "cell_type": "code",
   "execution_count": 12,
   "id": "e0530ea9",
   "metadata": {},
   "outputs": [],
   "source": [
    "tropical_fruits = fruits[1::3]"
   ]
  },
  {
   "cell_type": "code",
   "execution_count": 13,
   "id": "e02c0944",
   "metadata": {},
   "outputs": [
    {
     "data": {
      "text/plain": [
       "['banana', 'kiwi']"
      ]
     },
     "execution_count": 13,
     "metadata": {},
     "output_type": "execute_result"
    }
   ],
   "source": [
    "tropical_fruits "
   ]
  },
  {
   "cell_type": "code",
   "execution_count": 14,
   "id": "28e499f2",
   "metadata": {},
   "outputs": [],
   "source": [
    "combined_list =  citrus_fruits + tropical_fruits"
   ]
  },
  {
   "cell_type": "code",
   "execution_count": 15,
   "id": "c2419da0",
   "metadata": {},
   "outputs": [
    {
     "data": {
      "text/plain": [
       "['orange', 'mango', 'banana', 'kiwi']"
      ]
     },
     "execution_count": 15,
     "metadata": {},
     "output_type": "execute_result"
    }
   ],
   "source": [
    "combined_list"
   ]
  },
  {
   "cell_type": "markdown",
   "id": "54983ab5",
   "metadata": {},
   "source": [
    "Task3: Counting and Removing Elements\n",
    "\n",
    "Create a list called colors with repeated elements 'red', 'blue', 'red', 'green', 'red'. Print the number of occurrences of 'red' in the list. Remove all occurrences of 'red' from the list. Print the updated list."
   ]
  },
  {
   "cell_type": "code",
   "execution_count": 16,
   "id": "e2ce0698",
   "metadata": {},
   "outputs": [],
   "source": [
    "colors = ['red', 'blue', 'red', 'green', 'red']"
   ]
  },
  {
   "cell_type": "code",
   "execution_count": 17,
   "id": "6c433ce9",
   "metadata": {},
   "outputs": [
    {
     "data": {
      "text/plain": [
       "3"
      ]
     },
     "execution_count": 17,
     "metadata": {},
     "output_type": "execute_result"
    }
   ],
   "source": [
    "colors.count(\"red\")"
   ]
  },
  {
   "cell_type": "code",
   "execution_count": 18,
   "id": "f48a9913",
   "metadata": {},
   "outputs": [
    {
     "data": {
      "text/plain": [
       "['red', 'blue', 'red', 'green', 'red']"
      ]
     },
     "execution_count": 18,
     "metadata": {},
     "output_type": "execute_result"
    }
   ],
   "source": [
    "colors"
   ]
  },
  {
   "cell_type": "code",
   "execution_count": 21,
   "id": "32cb6f78",
   "metadata": {},
   "outputs": [],
   "source": [
    "colors.remove(\"red\")"
   ]
  },
  {
   "cell_type": "code",
   "execution_count": 23,
   "id": "d2960bb6",
   "metadata": {},
   "outputs": [],
   "source": [
    "colors.remove(\"red\")"
   ]
  },
  {
   "cell_type": "code",
   "execution_count": 25,
   "id": "1e3067ab",
   "metadata": {},
   "outputs": [
    {
     "name": "stdout",
     "output_type": "stream",
     "text": [
      "['blue', 'green']\n"
     ]
    }
   ],
   "source": [
    "updated_list = print(colors)"
   ]
  },
  {
   "cell_type": "markdown",
   "id": "64a819d0",
   "metadata": {},
   "source": [
    "Task 4: List Manipulation\n",
    "\n",
    "Add 'cheese' to the end of the list. Remove 'milk' from the list.\n",
    "\n",
    "Create a list called groceries with initial items: 'bread', 'milk', 'eggs', 'butter'. Print the final list of groceries. Insert 'yogurt' at index 1."
   ]
  },
  {
   "cell_type": "code",
   "execution_count": 26,
   "id": "78596800",
   "metadata": {},
   "outputs": [],
   "source": [
    "groceries = ['bread', 'milk', 'eggs','butter']"
   ]
  },
  {
   "cell_type": "code",
   "execution_count": 27,
   "id": "3d330bdb",
   "metadata": {},
   "outputs": [],
   "source": [
    "groceries.append('cheese' )"
   ]
  },
  {
   "cell_type": "code",
   "execution_count": 28,
   "id": "9f003698",
   "metadata": {},
   "outputs": [
    {
     "data": {
      "text/plain": [
       "['bread', 'milk', 'eggs', 'butter', 'cheese']"
      ]
     },
     "execution_count": 28,
     "metadata": {},
     "output_type": "execute_result"
    }
   ],
   "source": [
    "groceries"
   ]
  },
  {
   "cell_type": "code",
   "execution_count": 29,
   "id": "9e056966",
   "metadata": {},
   "outputs": [],
   "source": [
    "groceries.remove(\"milk\")"
   ]
  },
  {
   "cell_type": "code",
   "execution_count": 30,
   "id": "3a43006f",
   "metadata": {},
   "outputs": [],
   "source": [
    "groceries.insert(1,\"yogurt\")"
   ]
  },
  {
   "cell_type": "code",
   "execution_count": 31,
   "id": "8502abdc",
   "metadata": {},
   "outputs": [
    {
     "data": {
      "text/plain": [
       "['bread', 'yogurt', 'eggs', 'butter', 'cheese']"
      ]
     },
     "execution_count": 31,
     "metadata": {},
     "output_type": "execute_result"
    }
   ],
   "source": [
    "groceries"
   ]
  },
  {
   "cell_type": "code",
   "execution_count": null,
   "id": "2144ef19",
   "metadata": {},
   "outputs": [],
   "source": []
  }
 ],
 "metadata": {
  "kernelspec": {
   "display_name": "Python 3 (ipykernel)",
   "language": "python",
   "name": "python3"
  },
  "language_info": {
   "codemirror_mode": {
    "name": "ipython",
    "version": 3
   },
   "file_extension": ".py",
   "mimetype": "text/x-python",
   "name": "python",
   "nbconvert_exporter": "python",
   "pygments_lexer": "ipython3",
   "version": "3.11.4"
  }
 },
 "nbformat": 4,
 "nbformat_minor": 5
}
