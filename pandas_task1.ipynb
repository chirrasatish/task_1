{
 "cells": [
  {
   "cell_type": "markdown",
   "id": "b2a4b463",
   "metadata": {},
   "source": [
    "# pandas Series\n",
    "1. Create pandas series with different data types in different ways\n",
    "2. Find the attributes of Series of [10,30,40,1,3,6,14,18,23] with index starts from 100\n",
    "3. create salaries of 30 employee salaries randomly from 30000-90000 then measure and describe the data using pandas series.\n",
    "4. What are the similaraties and differences between pandas series and nnumpy array.Prove it with code.\n",
    "5. create pandas series with ranges from 100 to 150 then apply indexing and slicing on it.\n",
    "Create pandas series with different data types in different ways"
   ]
  },
  {
   "cell_type": "code",
   "execution_count": 2,
   "id": "985635c9",
   "metadata": {},
   "outputs": [],
   "source": [
    "# Create pandas series with different data types in different ways"
   ]
  },
  {
   "cell_type": "code",
   "execution_count": 6,
   "id": "182b5ce4",
   "metadata": {},
   "outputs": [],
   "source": [
    "import pandas as pd\n",
    "import numpy as np"
   ]
  },
  {
   "cell_type": "code",
   "execution_count": 4,
   "id": "cb41a8ce",
   "metadata": {},
   "outputs": [],
   "source": [
    "# list\n",
    "a = [10,20,30,40,50,60,70,80,90,100]"
   ]
  },
  {
   "cell_type": "code",
   "execution_count": 5,
   "id": "f50b7dbf",
   "metadata": {},
   "outputs": [
    {
     "data": {
      "text/plain": [
       "0     10\n",
       "1     20\n",
       "2     30\n",
       "3     40\n",
       "4     50\n",
       "5     60\n",
       "6     70\n",
       "7     80\n",
       "8     90\n",
       "9    100\n",
       "dtype: int64"
      ]
     },
     "execution_count": 5,
     "metadata": {},
     "output_type": "execute_result"
    }
   ],
   "source": [
    "pd.Series(a)"
   ]
  },
  {
   "cell_type": "code",
   "execution_count": 7,
   "id": "c964865d",
   "metadata": {},
   "outputs": [],
   "source": [
    "# tuple\n",
    "b = (1,2,3,4,5,6,7,8,9)"
   ]
  },
  {
   "cell_type": "code",
   "execution_count": 8,
   "id": "cfe02037",
   "metadata": {},
   "outputs": [
    {
     "data": {
      "text/plain": [
       "0    1\n",
       "1    2\n",
       "2    3\n",
       "3    4\n",
       "4    5\n",
       "5    6\n",
       "6    7\n",
       "7    8\n",
       "8    9\n",
       "dtype: int64"
      ]
     },
     "execution_count": 8,
     "metadata": {},
     "output_type": "execute_result"
    }
   ],
   "source": [
    "pd.Series(b)"
   ]
  },
  {
   "cell_type": "code",
   "execution_count": 9,
   "id": "5b317205",
   "metadata": {},
   "outputs": [],
   "source": [
    "arr = np.random.randint(100,200,9)"
   ]
  },
  {
   "cell_type": "code",
   "execution_count": 10,
   "id": "79ec8846",
   "metadata": {},
   "outputs": [
    {
     "data": {
      "text/plain": [
       "0    112\n",
       "1    188\n",
       "2    142\n",
       "3    168\n",
       "4    151\n",
       "5    102\n",
       "6    110\n",
       "7    151\n",
       "8    189\n",
       "dtype: int32"
      ]
     },
     "execution_count": 10,
     "metadata": {},
     "output_type": "execute_result"
    }
   ],
   "source": [
    "pd.Series(arr)"
   ]
  },
  {
   "cell_type": "markdown",
   "id": "a6d64983",
   "metadata": {},
   "source": [
    "Find the attributes of Series of [10,30,40,1,3,6,14,18,23] with index starts from 100"
   ]
  },
  {
   "cell_type": "code",
   "execution_count": 11,
   "id": "9a59a36e",
   "metadata": {},
   "outputs": [
    {
     "data": {
      "text/plain": [
       "100    10\n",
       "101    30\n",
       "102    40\n",
       "103     1\n",
       "104     3\n",
       "105     6\n",
       "106    14\n",
       "107    18\n",
       "108    23\n",
       "dtype: int64"
      ]
     },
     "execution_count": 11,
     "metadata": {},
     "output_type": "execute_result"
    }
   ],
   "source": [
    "series= [10,30,40,1,3,6,14,18,23]\n",
    "n=len(series)\n",
    "a=pd.Series(series,index=list(range(100,100+n)))\n",
    "a"
   ]
  },
  {
   "cell_type": "code",
   "execution_count": 12,
   "id": "096abc02",
   "metadata": {},
   "outputs": [
    {
     "name": "stdout",
     "output_type": "stream",
     "text": [
      "<class 'pandas.core.series.Series'>\n",
      "Index: 9 entries, 100 to 108\n",
      "Series name: None\n",
      "Non-Null Count  Dtype\n",
      "--------------  -----\n",
      "9 non-null      int64\n",
      "dtypes: int64(1)\n",
      "memory usage: 144.0 bytes\n"
     ]
    }
   ],
   "source": [
    "a.info()"
   ]
  },
  {
   "cell_type": "code",
   "execution_count": 13,
   "id": "7c24b840",
   "metadata": {},
   "outputs": [
    {
     "data": {
      "text/plain": [
       "100    10\n",
       "101    30\n",
       "102    40\n",
       "103     1\n",
       "104     3\n",
       "dtype: int64"
      ]
     },
     "execution_count": 13,
     "metadata": {},
     "output_type": "execute_result"
    }
   ],
   "source": [
    "a.head()"
   ]
  },
  {
   "cell_type": "code",
   "execution_count": 14,
   "id": "9dcd03b6",
   "metadata": {},
   "outputs": [
    {
     "data": {
      "text/plain": [
       "104     3\n",
       "105     6\n",
       "106    14\n",
       "107    18\n",
       "108    23\n",
       "dtype: int64"
      ]
     },
     "execution_count": 14,
     "metadata": {},
     "output_type": "execute_result"
    }
   ],
   "source": [
    "a.tail()"
   ]
  },
  {
   "cell_type": "code",
   "execution_count": 15,
   "id": "22a531b8",
   "metadata": {},
   "outputs": [
    {
     "data": {
      "text/plain": [
       "count     9.000000\n",
       "mean     16.111111\n",
       "std      13.033078\n",
       "min       1.000000\n",
       "25%       6.000000\n",
       "50%      14.000000\n",
       "75%      23.000000\n",
       "max      40.000000\n",
       "dtype: float64"
      ]
     },
     "execution_count": 15,
     "metadata": {},
     "output_type": "execute_result"
    }
   ],
   "source": [
    "a.describe()"
   ]
  },
  {
   "cell_type": "code",
   "execution_count": 16,
   "id": "f4269d81",
   "metadata": {},
   "outputs": [
    {
     "data": {
      "text/plain": [
       "144"
      ]
     },
     "execution_count": 16,
     "metadata": {},
     "output_type": "execute_result"
    }
   ],
   "source": [
    "a.memory_usage()"
   ]
  },
  {
   "cell_type": "markdown",
   "id": "73aab7b9",
   "metadata": {},
   "source": [
    "create salaries of 30 employee salaries randomly from 30000-90000 then measure and describe the data using pandas series."
   ]
  },
  {
   "cell_type": "code",
   "execution_count": 21,
   "id": "0937e398",
   "metadata": {},
   "outputs": [],
   "source": [
    "salaries=np.random.randint(30000,90000,30)"
   ]
  },
  {
   "cell_type": "code",
   "execution_count": 27,
   "id": "7469a946",
   "metadata": {},
   "outputs": [
    {
     "data": {
      "text/plain": [
       "array([42480, 58192, 73804, 65853, 61435, 55545, 57473, 84344, 64013,\n",
       "       74398, 45995, 70593, 87638, 53033, 50571, 68751, 89835, 67412,\n",
       "       55715, 43122, 51829, 39534, 85238, 58701, 67956, 64047, 66386,\n",
       "       63000, 34778, 54564])"
      ]
     },
     "execution_count": 27,
     "metadata": {},
     "output_type": "execute_result"
    }
   ],
   "source": [
    "salaries"
   ]
  },
  {
   "cell_type": "code",
   "execution_count": 28,
   "id": "80a3c089",
   "metadata": {},
   "outputs": [],
   "source": [
    "sal = pd.Series(salaries,index = list(range(1,31)))"
   ]
  },
  {
   "cell_type": "code",
   "execution_count": 29,
   "id": "a2bfee4a",
   "metadata": {},
   "outputs": [
    {
     "data": {
      "text/plain": [
       "1     42480\n",
       "2     58192\n",
       "3     73804\n",
       "4     65853\n",
       "5     61435\n",
       "6     55545\n",
       "7     57473\n",
       "8     84344\n",
       "9     64013\n",
       "10    74398\n",
       "11    45995\n",
       "12    70593\n",
       "13    87638\n",
       "14    53033\n",
       "15    50571\n",
       "16    68751\n",
       "17    89835\n",
       "18    67412\n",
       "19    55715\n",
       "20    43122\n",
       "21    51829\n",
       "22    39534\n",
       "23    85238\n",
       "24    58701\n",
       "25    67956\n",
       "26    64047\n",
       "27    66386\n",
       "28    63000\n",
       "29    34778\n",
       "30    54564\n",
       "dtype: int32"
      ]
     },
     "execution_count": 29,
     "metadata": {},
     "output_type": "execute_result"
    }
   ],
   "source": [
    "sal"
   ]
  },
  {
   "cell_type": "code",
   "execution_count": 30,
   "id": "28b07daa",
   "metadata": {},
   "outputs": [
    {
     "data": {
      "text/plain": [
       "61874.5"
      ]
     },
     "execution_count": 30,
     "metadata": {},
     "output_type": "execute_result"
    }
   ],
   "source": [
    "sal.mean()"
   ]
  },
  {
   "cell_type": "code",
   "execution_count": 31,
   "id": "92c50041",
   "metadata": {},
   "outputs": [
    {
     "data": {
      "text/plain": [
       "62217.5"
      ]
     },
     "execution_count": 31,
     "metadata": {},
     "output_type": "execute_result"
    }
   ],
   "source": [
    "sal.median()"
   ]
  },
  {
   "cell_type": "code",
   "execution_count": 32,
   "id": "692e3bf2",
   "metadata": {},
   "outputs": [
    {
     "data": {
      "text/plain": [
       "0     34778\n",
       "1     39534\n",
       "2     42480\n",
       "3     43122\n",
       "4     45995\n",
       "5     50571\n",
       "6     51829\n",
       "7     53033\n",
       "8     54564\n",
       "9     55545\n",
       "10    55715\n",
       "11    57473\n",
       "12    58192\n",
       "13    58701\n",
       "14    61435\n",
       "15    63000\n",
       "16    64013\n",
       "17    64047\n",
       "18    65853\n",
       "19    66386\n",
       "20    67412\n",
       "21    67956\n",
       "22    68751\n",
       "23    70593\n",
       "24    73804\n",
       "25    74398\n",
       "26    84344\n",
       "27    85238\n",
       "28    87638\n",
       "29    89835\n",
       "dtype: int32"
      ]
     },
     "execution_count": 32,
     "metadata": {},
     "output_type": "execute_result"
    }
   ],
   "source": [
    "sal.mode()"
   ]
  },
  {
   "cell_type": "code",
   "execution_count": 33,
   "id": "dd2049d1",
   "metadata": {},
   "outputs": [
    {
     "data": {
      "text/plain": [
       "89835"
      ]
     },
     "execution_count": 33,
     "metadata": {},
     "output_type": "execute_result"
    }
   ],
   "source": [
    "sal.max()"
   ]
  },
  {
   "cell_type": "code",
   "execution_count": 34,
   "id": "18722be3",
   "metadata": {},
   "outputs": [
    {
     "data": {
      "text/plain": [
       "34778"
      ]
     },
     "execution_count": 34,
     "metadata": {},
     "output_type": "execute_result"
    }
   ],
   "source": [
    "sal.min()"
   ]
  },
  {
   "cell_type": "code",
   "execution_count": 36,
   "id": "ebdb45cb",
   "metadata": {},
   "outputs": [
    {
     "data": {
      "text/plain": [
       "53415.75"
      ]
     },
     "execution_count": 36,
     "metadata": {},
     "output_type": "execute_result"
    }
   ],
   "source": [
    "sal.quantile(0.25)"
   ]
  },
  {
   "cell_type": "code",
   "execution_count": 37,
   "id": "e292bdc4",
   "metadata": {},
   "outputs": [
    {
     "data": {
      "text/plain": [
       "62217.5"
      ]
     },
     "execution_count": 37,
     "metadata": {},
     "output_type": "execute_result"
    }
   ],
   "source": [
    "sal.quantile(0.5)"
   ]
  },
  {
   "cell_type": "code",
   "execution_count": 38,
   "id": "bb2f8f5b",
   "metadata": {},
   "outputs": [
    {
     "data": {
      "text/plain": [
       "68552.25"
      ]
     },
     "execution_count": 38,
     "metadata": {},
     "output_type": "execute_result"
    }
   ],
   "source": [
    "sal.quantile(0.75)"
   ]
  },
  {
   "cell_type": "code",
   "execution_count": 39,
   "id": "05ad47eb",
   "metadata": {},
   "outputs": [
    {
     "data": {
      "text/plain": [
       "197513639.9827586"
      ]
     },
     "execution_count": 39,
     "metadata": {},
     "output_type": "execute_result"
    }
   ],
   "source": [
    "sal.var()"
   ]
  },
  {
   "cell_type": "code",
   "execution_count": 40,
   "id": "657b1ce4",
   "metadata": {},
   "outputs": [
    {
     "data": {
      "text/plain": [
       "14053.954602984833"
      ]
     },
     "execution_count": 40,
     "metadata": {},
     "output_type": "execute_result"
    }
   ],
   "source": [
    "sal.std()"
   ]
  },
  {
   "cell_type": "code",
   "execution_count": 41,
   "id": "fbdd8d4d",
   "metadata": {},
   "outputs": [
    {
     "data": {
      "text/plain": [
       "count       30.000000\n",
       "mean     61874.500000\n",
       "std      14053.954603\n",
       "min      34778.000000\n",
       "25%      53415.750000\n",
       "50%      62217.500000\n",
       "75%      68552.250000\n",
       "max      89835.000000\n",
       "dtype: float64"
      ]
     },
     "execution_count": 41,
     "metadata": {},
     "output_type": "execute_result"
    }
   ],
   "source": [
    "sal.describe()"
   ]
  },
  {
   "cell_type": "markdown",
   "id": "1d2957e2",
   "metadata": {},
   "source": [
    "What are the similaraties and differences between pandas series and nnumpy array.Prove it with code.\n",
    "\n"
   ]
  },
  {
   "cell_type": "markdown",
   "id": "e4de95c9",
   "metadata": {},
   "source": [
    "* Numpy deals with numerical values only\n",
    "* Pandas deals with numerical values and string values"
   ]
  },
  {
   "cell_type": "code",
   "execution_count": 42,
   "id": "ffc12923",
   "metadata": {},
   "outputs": [
    {
     "data": {
      "text/plain": [
       "1     42480\n",
       "2     58192\n",
       "3     73804\n",
       "4     65853\n",
       "5     61435\n",
       "6     55545\n",
       "7     57473\n",
       "8     84344\n",
       "9     64013\n",
       "10    74398\n",
       "11    45995\n",
       "12    70593\n",
       "13    87638\n",
       "14    53033\n",
       "15    50571\n",
       "16    68751\n",
       "17    89835\n",
       "18    67412\n",
       "19    55715\n",
       "20    43122\n",
       "21    51829\n",
       "22    39534\n",
       "23    85238\n",
       "24    58701\n",
       "25    67956\n",
       "26    64047\n",
       "27    66386\n",
       "28    63000\n",
       "29    34778\n",
       "30    54564\n",
       "dtype: int32"
      ]
     },
     "execution_count": 42,
     "metadata": {},
     "output_type": "execute_result"
    }
   ],
   "source": [
    "sal"
   ]
  },
  {
   "cell_type": "code",
   "execution_count": 43,
   "id": "9b44d160",
   "metadata": {},
   "outputs": [
    {
     "data": {
      "text/plain": [
       "1"
      ]
     },
     "execution_count": 43,
     "metadata": {},
     "output_type": "execute_result"
    }
   ],
   "source": [
    "sal.ndim"
   ]
  },
  {
   "cell_type": "code",
   "execution_count": 45,
   "id": "7831ac0a",
   "metadata": {},
   "outputs": [
    {
     "data": {
      "text/plain": [
       "array([[[1, 2, 3, 4, 5, 6, 7, 8, 9]]])"
      ]
     },
     "execution_count": 45,
     "metadata": {},
     "output_type": "execute_result"
    }
   ],
   "source": [
    "sal = np.array([1,2,3,4,5,6,7,8,9],ndmin = 3)\n",
    "sal"
   ]
  },
  {
   "cell_type": "code",
   "execution_count": 46,
   "id": "ae9053d1",
   "metadata": {},
   "outputs": [
    {
     "data": {
      "text/plain": [
       "3"
      ]
     },
     "execution_count": 46,
     "metadata": {},
     "output_type": "execute_result"
    }
   ],
   "source": [
    "sal.ndim"
   ]
  },
  {
   "cell_type": "markdown",
   "id": "19d9f350",
   "metadata": {},
   "source": [
    "create pandas series with ranges from 100 to 150 then apply indexing and slicing on it."
   ]
  },
  {
   "cell_type": "code",
   "execution_count": 49,
   "id": "23ecad00",
   "metadata": {},
   "outputs": [
    {
     "data": {
      "text/plain": [
       "[100,\n",
       " 101,\n",
       " 102,\n",
       " 103,\n",
       " 104,\n",
       " 105,\n",
       " 106,\n",
       " 107,\n",
       " 108,\n",
       " 109,\n",
       " 110,\n",
       " 111,\n",
       " 112,\n",
       " 113,\n",
       " 114,\n",
       " 115,\n",
       " 116,\n",
       " 117,\n",
       " 118,\n",
       " 119,\n",
       " 120,\n",
       " 121,\n",
       " 122,\n",
       " 123,\n",
       " 124,\n",
       " 125,\n",
       " 126,\n",
       " 127,\n",
       " 128,\n",
       " 129,\n",
       " 130,\n",
       " 131,\n",
       " 132,\n",
       " 133,\n",
       " 134,\n",
       " 135,\n",
       " 136,\n",
       " 137,\n",
       " 138,\n",
       " 139,\n",
       " 140,\n",
       " 141,\n",
       " 142,\n",
       " 143,\n",
       " 144,\n",
       " 145,\n",
       " 146,\n",
       " 147,\n",
       " 148,\n",
       " 149]"
      ]
     },
     "execution_count": 49,
     "metadata": {},
     "output_type": "execute_result"
    }
   ],
   "source": [
    "number = list(range(100,150))\n",
    "number"
   ]
  },
  {
   "cell_type": "code",
   "execution_count": 50,
   "id": "6c886e3d",
   "metadata": {},
   "outputs": [],
   "source": [
    "num = pd.Series(number)"
   ]
  },
  {
   "cell_type": "code",
   "execution_count": 53,
   "id": "eb274b0c",
   "metadata": {},
   "outputs": [
    {
     "data": {
      "text/plain": [
       "140"
      ]
     },
     "execution_count": 53,
     "metadata": {},
     "output_type": "execute_result"
    }
   ],
   "source": [
    "num[40]"
   ]
  },
  {
   "cell_type": "code",
   "execution_count": 54,
   "id": "c05fad7f",
   "metadata": {},
   "outputs": [
    {
     "data": {
      "text/plain": [
       "10    110\n",
       "15    115\n",
       "20    120\n",
       "25    125\n",
       "30    130\n",
       "35    135\n",
       "40    140\n",
       "dtype: int64"
      ]
     },
     "execution_count": 54,
     "metadata": {},
     "output_type": "execute_result"
    }
   ],
   "source": [
    "num[10:45:5]"
   ]
  },
  {
   "cell_type": "code",
   "execution_count": null,
   "id": "41d842f2",
   "metadata": {},
   "outputs": [],
   "source": []
  }
 ],
 "metadata": {
  "kernelspec": {
   "display_name": "Python 3 (ipykernel)",
   "language": "python",
   "name": "python3"
  },
  "language_info": {
   "codemirror_mode": {
    "name": "ipython",
    "version": 3
   },
   "file_extension": ".py",
   "mimetype": "text/x-python",
   "name": "python",
   "nbconvert_exporter": "python",
   "pygments_lexer": "ipython3",
   "version": "3.11.4"
  }
 },
 "nbformat": 4,
 "nbformat_minor": 5
}
