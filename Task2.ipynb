{
 "cells": [
  {
   "cell_type": "markdown",
   "id": "b8536ea7",
   "metadata": {},
   "source": [
    "* Write a program that calculates the `sum, difference, product, and quotient` of two numbers: 10 and 5.\n",
    "* Create a program that calculates the `area of a circle` with a radius of 4.5 units."
   ]
  },
  {
   "cell_type": "code",
   "execution_count": 1,
   "id": "b9d2c7b5",
   "metadata": {},
   "outputs": [],
   "source": [
    "x = 10\n",
    "y = 5"
   ]
  },
  {
   "cell_type": "code",
   "execution_count": 2,
   "id": "a6ad2ce5",
   "metadata": {},
   "outputs": [
    {
     "name": "stdout",
     "output_type": "stream",
     "text": [
      "15\n"
     ]
    }
   ],
   "source": [
    "print(x+y)      #sum"
   ]
  },
  {
   "cell_type": "code",
   "execution_count": 3,
   "id": "e1340a11",
   "metadata": {},
   "outputs": [
    {
     "name": "stdout",
     "output_type": "stream",
     "text": [
      "5\n"
     ]
    }
   ],
   "source": [
    "print(x-y)  #difference"
   ]
  },
  {
   "cell_type": "code",
   "execution_count": 4,
   "id": "bad7731c",
   "metadata": {},
   "outputs": [
    {
     "name": "stdout",
     "output_type": "stream",
     "text": [
      "50\n"
     ]
    }
   ],
   "source": [
    "print(x*y)     #product"
   ]
  },
  {
   "cell_type": "code",
   "execution_count": 5,
   "id": "9d052be2",
   "metadata": {},
   "outputs": [
    {
     "name": "stdout",
     "output_type": "stream",
     "text": [
      "2\n"
     ]
    }
   ],
   "source": [
    "print(x//y)   #quotient"
   ]
  },
  {
   "cell_type": "code",
   "execution_count": 16,
   "id": "8ee548cd",
   "metadata": {},
   "outputs": [],
   "source": [
    "x = 22/7     #value of pie"
   ]
  },
  {
   "cell_type": "code",
   "execution_count": 17,
   "id": "f8e208f4",
   "metadata": {},
   "outputs": [
    {
     "data": {
      "text/plain": [
       "3.142857142857143"
      ]
     },
     "execution_count": 17,
     "metadata": {},
     "output_type": "execute_result"
    }
   ],
   "source": [
    "x"
   ]
  },
  {
   "cell_type": "code",
   "execution_count": 18,
   "id": "3a3a555a",
   "metadata": {},
   "outputs": [],
   "source": [
    "y = 4.5  #redius given"
   ]
  },
  {
   "cell_type": "code",
   "execution_count": 19,
   "id": "3688bd22",
   "metadata": {},
   "outputs": [
    {
     "data": {
      "text/plain": [
       "63.64285714285714"
      ]
     },
     "execution_count": 19,
     "metadata": {},
     "output_type": "execute_result"
    }
   ],
   "source": [
    "x*(y**2)   #area of circle"
   ]
  },
  {
   "cell_type": "markdown",
   "id": "3f81b9d8",
   "metadata": {},
   "source": [
    "*  Write a program that `swaps` the values of two variables: x with a value of 5 and \"y\" with a value of 10.\n",
    "* Create a program that calculates `compound interest` for a principal amount of $1000, an interest rate of 5%, and a time period of 3 years."
   ]
  },
  {
   "cell_type": "code",
   "execution_count": 20,
   "id": "bcdd2660",
   "metadata": {},
   "outputs": [],
   "source": [
    "x = 5\n",
    "y = 10"
   ]
  },
  {
   "cell_type": "code",
   "execution_count": 21,
   "id": "48c232d4",
   "metadata": {},
   "outputs": [],
   "source": [
    "x,y=y,x      #swaps"
   ]
  },
  {
   "cell_type": "code",
   "execution_count": 22,
   "id": "c5d626fe",
   "metadata": {},
   "outputs": [
    {
     "data": {
      "text/plain": [
       "10"
      ]
     },
     "execution_count": 22,
     "metadata": {},
     "output_type": "execute_result"
    }
   ],
   "source": [
    "x"
   ]
  },
  {
   "cell_type": "code",
   "execution_count": 23,
   "id": "3c04067e",
   "metadata": {},
   "outputs": [
    {
     "data": {
      "text/plain": [
       "5"
      ]
     },
     "execution_count": 23,
     "metadata": {},
     "output_type": "execute_result"
    }
   ],
   "source": [
    "y"
   ]
  },
  {
   "cell_type": "markdown",
   "id": "711d65e5",
   "metadata": {},
   "source": [
    "*Compound Interest formula CI = Amount - Principal"
   ]
  },
  {
   "cell_type": "code",
   "execution_count": 27,
   "id": "dbc5f04a",
   "metadata": {},
   "outputs": [],
   "source": [
    "principal = 1000\n",
    "rate = 5\n",
    "time = 3 "
   ]
  },
  {
   "cell_type": "code",
   "execution_count": 38,
   "id": "af97346c",
   "metadata": {},
   "outputs": [],
   "source": [
    "amount = principal*((1+(rate/100))**3)"
   ]
  },
  {
   "cell_type": "code",
   "execution_count": 39,
   "id": "bbd603e9",
   "metadata": {},
   "outputs": [
    {
     "data": {
      "text/plain": [
       "1157.6250000000002"
      ]
     },
     "execution_count": 39,
     "metadata": {},
     "output_type": "execute_result"
    }
   ],
   "source": [
    "amount"
   ]
  },
  {
   "cell_type": "code",
   "execution_count": 41,
   "id": "08be9f0f",
   "metadata": {},
   "outputs": [],
   "source": [
    "CI= amount-principal"
   ]
  },
  {
   "cell_type": "code",
   "execution_count": 42,
   "id": "03cafb64",
   "metadata": {},
   "outputs": [
    {
     "data": {
      "text/plain": [
       "157.62500000000023"
      ]
     },
     "execution_count": 42,
     "metadata": {},
     "output_type": "execute_result"
    }
   ],
   "source": [
    "CI"
   ]
  },
  {
   "cell_type": "markdown",
   "id": "768483d0",
   "metadata": {},
   "source": [
    "* Write a program that `compares` two numbers: 7 and 12, and determines whether the first number is greater than, less than, or equal to the second number.\n",
    "* Create a program that `checks` if a person of age 18 is eligible to vote based on the voting age requirement.(True/False)"
   ]
  },
  {
   "cell_type": "code",
   "execution_count": 43,
   "id": "939e6f86",
   "metadata": {},
   "outputs": [],
   "source": [
    "x = 7\n",
    "y = 12"
   ]
  },
  {
   "cell_type": "code",
   "execution_count": 44,
   "id": "d64508ea",
   "metadata": {},
   "outputs": [
    {
     "data": {
      "text/plain": [
       "False"
      ]
     },
     "execution_count": 44,
     "metadata": {},
     "output_type": "execute_result"
    }
   ],
   "source": [
    "x>y"
   ]
  },
  {
   "cell_type": "code",
   "execution_count": 45,
   "id": "0fcc6167",
   "metadata": {},
   "outputs": [
    {
     "data": {
      "text/plain": [
       "True"
      ]
     },
     "execution_count": 45,
     "metadata": {},
     "output_type": "execute_result"
    }
   ],
   "source": [
    "x<y"
   ]
  },
  {
   "cell_type": "code",
   "execution_count": 46,
   "id": "301740c8",
   "metadata": {},
   "outputs": [
    {
     "data": {
      "text/plain": [
       "False"
      ]
     },
     "execution_count": 46,
     "metadata": {},
     "output_type": "execute_result"
    }
   ],
   "source": [
    "x == y"
   ]
  },
  {
   "cell_type": "code",
   "execution_count": 47,
   "id": "9b75cefe",
   "metadata": {},
   "outputs": [],
   "source": [
    "age = 18\n",
    "voting = 18"
   ]
  },
  {
   "cell_type": "code",
   "execution_count": 48,
   "id": "a9bd6c43",
   "metadata": {},
   "outputs": [
    {
     "data": {
      "text/plain": [
       "True"
      ]
     },
     "execution_count": 48,
     "metadata": {},
     "output_type": "execute_result"
    }
   ],
   "source": [
    "age>=voting"
   ]
  },
  {
   "cell_type": "code",
   "execution_count": 85,
   "id": "2793e98f",
   "metadata": {},
   "outputs": [
    {
     "name": "stdout",
     "output_type": "stream",
     "text": [
      "eligible\n"
     ]
    }
   ],
   "source": [
    "age = 18 \n",
    "if age>= 18:\n",
    "    print(\"eligible\")\n",
    "else:\n",
    "    print(\"not eligible\")"
   ]
  },
  {
   "cell_type": "markdown",
   "id": "7881a204",
   "metadata": {},
   "source": [
    "* Create a program that `swaps` the values of two integers: `a` with a value of 10 and `b` with a value of 20 using\n",
    " *  bitwise XOR (^) operator.\n",
    " * Logical AND\n",
    " * Logical OR\n",
    " * Logical NOT"
   ]
  },
  {
   "cell_type": "code",
   "execution_count": 81,
   "id": "7f3399ed",
   "metadata": {},
   "outputs": [],
   "source": [
    "a = 10\n",
    "b = 20                    #xor(^)"
   ]
  },
  {
   "cell_type": "code",
   "execution_count": 82,
   "id": "260af3f4",
   "metadata": {},
   "outputs": [],
   "source": [
    "a = a^b\n",
    "b = a^b\n",
    "a=c"
   ]
  },
  {
   "cell_type": "code",
   "execution_count": 86,
   "id": "86341554",
   "metadata": {},
   "outputs": [
    {
     "data": {
      "text/plain": [
       "10"
      ]
     },
     "execution_count": 86,
     "metadata": {},
     "output_type": "execute_result"
    }
   ],
   "source": [
    "a"
   ]
  },
  {
   "cell_type": "code",
   "execution_count": 87,
   "id": "99b85455",
   "metadata": {},
   "outputs": [
    {
     "data": {
      "text/plain": [
       "10"
      ]
     },
     "execution_count": 87,
     "metadata": {},
     "output_type": "execute_result"
    }
   ],
   "source": [
    "b"
   ]
  },
  {
   "cell_type": "code",
   "execution_count": 88,
   "id": "10e5a8cb",
   "metadata": {},
   "outputs": [
    {
     "data": {
      "text/plain": [
       "30"
      ]
     },
     "execution_count": 88,
     "metadata": {},
     "output_type": "execute_result"
    }
   ],
   "source": [
    "10^20"
   ]
  },
  {
   "cell_type": "code",
   "execution_count": 89,
   "id": "475000c9",
   "metadata": {},
   "outputs": [
    {
     "data": {
      "text/plain": [
       "20"
      ]
     },
     "execution_count": 89,
     "metadata": {},
     "output_type": "execute_result"
    }
   ],
   "source": [
    "30^10"
   ]
  },
  {
   "cell_type": "code",
   "execution_count": 78,
   "id": "e54f7b7a",
   "metadata": {},
   "outputs": [],
   "source": [
    "a = 10\n",
    "b = 20    #and"
   ]
  },
  {
   "cell_type": "code",
   "execution_count": 66,
   "id": "fc50c648",
   "metadata": {},
   "outputs": [
    {
     "data": {
      "text/plain": [
       "False"
      ]
     },
     "execution_count": 66,
     "metadata": {},
     "output_type": "execute_result"
    }
   ],
   "source": [
    "(a==b) and (b>=b)"
   ]
  },
  {
   "cell_type": "code",
   "execution_count": 67,
   "id": "4b32ba76",
   "metadata": {},
   "outputs": [
    {
     "data": {
      "text/plain": [
       "True"
      ]
     },
     "execution_count": 67,
     "metadata": {},
     "output_type": "execute_result"
    }
   ],
   "source": [
    "(b>=a) and (b!=a)"
   ]
  },
  {
   "cell_type": "code",
   "execution_count": 68,
   "id": "a02b365a",
   "metadata": {},
   "outputs": [],
   "source": [
    "a = 10\n",
    "b = 20    #or"
   ]
  },
  {
   "cell_type": "code",
   "execution_count": 69,
   "id": "30a42c09",
   "metadata": {},
   "outputs": [
    {
     "data": {
      "text/plain": [
       "False"
      ]
     },
     "execution_count": 69,
     "metadata": {},
     "output_type": "execute_result"
    }
   ],
   "source": [
    "(a==b) or (a>=b)"
   ]
  },
  {
   "cell_type": "code",
   "execution_count": 70,
   "id": "3456d25b",
   "metadata": {},
   "outputs": [
    {
     "data": {
      "text/plain": [
       "True"
      ]
     },
     "execution_count": 70,
     "metadata": {},
     "output_type": "execute_result"
    }
   ],
   "source": [
    "(a<=b) or (a!=b)"
   ]
  },
  {
   "cell_type": "code",
   "execution_count": 71,
   "id": "84c5b247",
   "metadata": {},
   "outputs": [],
   "source": [
    "a = 10\n",
    "b = 20       #not"
   ]
  },
  {
   "cell_type": "code",
   "execution_count": 73,
   "id": "fbeef1cc",
   "metadata": {},
   "outputs": [
    {
     "data": {
      "text/plain": [
       "True"
      ]
     },
     "execution_count": 73,
     "metadata": {},
     "output_type": "execute_result"
    }
   ],
   "source": [
    "not(a>b)"
   ]
  },
  {
   "cell_type": "code",
   "execution_count": 74,
   "id": "6ab72758",
   "metadata": {},
   "outputs": [
    {
     "data": {
      "text/plain": [
       "True"
      ]
     },
     "execution_count": 74,
     "metadata": {},
     "output_type": "execute_result"
    }
   ],
   "source": [
    "not(a>b)"
   ]
  },
  {
   "cell_type": "markdown",
   "id": "1844e65c",
   "metadata": {},
   "source": [
    "*  Create a Python program that calculates the `area of a rectangle`. Prompt the `user to enter` the length and width of the rectangle, `store them` in variables, and compute the area using the formula:area length width.Finally, `print the calculated area.\n",
    "\n",
    "* Create a Python program that calculates the `average` of three exam scores. Prompt the user to enter the scores, `store them` in variables, calculate the average, and print the result.\n",
    "\n",
    "* Write a Python program that `converts` temperature from Celsius to Fahrenheit. Prompt the user to enter a temperature in Celsius, store it in a variable, and convert it to Fahrenheit using the formula: `Fahrenheit = (Celsius* 9/5)+32`, and print the converted temperature.\n",
    "\n",
    "* What are the `logical operators` in Python? Explain `each one` with an example.\n",
    "\n",
    "* What are the `membership` operators in Python? Explain their usage with examples\n",
    "\n",
    "* List and briefly explain the `basic data types` available in Python.\n",
    "\n",
    "* Write a Python code snippet that `assigns a value to a variable `and determines its `data type` using the type() function."
   ]
  },
  {
   "cell_type": "code",
   "execution_count": 91,
   "id": "2d39665f",
   "metadata": {},
   "outputs": [
    {
     "name": "stdout",
     "output_type": "stream",
     "text": [
      "enter the length12\n",
      "enter the width10\n",
      "120\n"
     ]
    }
   ],
   "source": [
    "length = int(input(\"enter the length\"))\n",
    "width = int(input(\"enter the width\"))\n",
    "area = length*width\n",
    "print(area)"
   ]
  },
  {
   "cell_type": "code",
   "execution_count": 90,
   "id": "677677d4",
   "metadata": {},
   "outputs": [
    {
     "name": "stdout",
     "output_type": "stream",
     "text": [
      "enter score_1:70\n",
      "enter score_2:85\n",
      "enter score_3:90\n",
      "81.66666666666667\n"
     ]
    }
   ],
   "source": [
    "score_1 = int(input(\"enter score_1:\"))\n",
    "score_2 = int(input(\"enter score_2:\"))\n",
    "score_3 = int(input(\"enter score_3:\"))\n",
    "no_of_students = 3\n",
    "sum_scores = score_1 + score_2 + score_3\n",
    "average = sum_scores/no_of_students\n",
    "print(average)"
   ]
  },
  {
   "cell_type": "code",
   "execution_count": 98,
   "id": "d83e00cc",
   "metadata": {},
   "outputs": [
    {
     "name": "stdout",
     "output_type": "stream",
     "text": [
      "enter the celsius:45\n",
      "113.0\n"
     ]
    }
   ],
   "source": [
    "Celsius = int(input(\"enter the celsius:\"))\n",
    "Fahrenheit = (celsius*9/5)+32\n",
    "print(Fahrenheit)"
   ]
  },
  {
   "cell_type": "markdown",
   "id": "5248356b",
   "metadata": {},
   "source": [
    "Logical operator are : and , or and not\n",
    "\n",
    "* 'and' logical operator --> has condition and value\n",
    "\n",
    "*  if any condition false, the complete condition is false.\n",
    "\n",
    " * in value 'and' operator takes the last value ."
   ]
  },
  {
   "cell_type": "code",
   "execution_count": 100,
   "id": "bbd2189f",
   "metadata": {},
   "outputs": [
    {
     "data": {
      "text/plain": [
       "False"
      ]
     },
     "execution_count": 100,
     "metadata": {},
     "output_type": "execute_result"
    }
   ],
   "source": [
    "#ex\n",
    "a = 10\n",
    "b = 20\n",
    "(a>b) and (a<b)"
   ]
  },
  {
   "cell_type": "code",
   "execution_count": 101,
   "id": "3bfd71f0",
   "metadata": {},
   "outputs": [
    {
     "data": {
      "text/plain": [
       "30"
      ]
     },
     "execution_count": 101,
     "metadata": {},
     "output_type": "execute_result"
    }
   ],
   "source": [
    "10 and 20 and 30"
   ]
  },
  {
   "cell_type": "markdown",
   "id": "81b4d5ad",
   "metadata": {},
   "source": [
    "* or logical operator --> has condition and value\n",
    "\n",
    "* if any condition is True , the complete condition is true\n",
    "\n",
    "* in value 'or' operator takes first value"
   ]
  },
  {
   "cell_type": "code",
   "execution_count": 104,
   "id": "3755d954",
   "metadata": {},
   "outputs": [
    {
     "data": {
      "text/plain": [
       "True"
      ]
     },
     "execution_count": 104,
     "metadata": {},
     "output_type": "execute_result"
    }
   ],
   "source": [
    "a = 10\n",
    "b = 20\n",
    "(a>b) or (a<b)"
   ]
  },
  {
   "cell_type": "code",
   "execution_count": 106,
   "id": "3e2e3ae5",
   "metadata": {},
   "outputs": [
    {
     "data": {
      "text/plain": [
       "11"
      ]
     },
     "execution_count": 106,
     "metadata": {},
     "output_type": "execute_result"
    }
   ],
   "source": [
    "11 or 27 or 39"
   ]
  },
  {
   "cell_type": "markdown",
   "id": "4db57155",
   "metadata": {},
   "source": [
    "* not logical operator --> condition and value\n",
    "\n",
    "*   if condition is true its gives output as false\n",
    "\n",
    "*   only 0, 0.0 , \"\" this values are consider as False remaining are True"
   ]
  },
  {
   "cell_type": "code",
   "execution_count": 108,
   "id": "20f8a5ae",
   "metadata": {},
   "outputs": [
    {
     "data": {
      "text/plain": [
       "True"
      ]
     },
     "execution_count": 108,
     "metadata": {},
     "output_type": "execute_result"
    }
   ],
   "source": [
    "a = 10\n",
    "b = 20\n",
    "not(a>b)"
   ]
  },
  {
   "cell_type": "code",
   "execution_count": 109,
   "id": "c13019b8",
   "metadata": {},
   "outputs": [
    {
     "data": {
      "text/plain": [
       "False"
      ]
     },
     "execution_count": 109,
     "metadata": {},
     "output_type": "execute_result"
    }
   ],
   "source": [
    "not 15"
   ]
  },
  {
   "cell_type": "code",
   "execution_count": 111,
   "id": "045b35b9",
   "metadata": {},
   "outputs": [
    {
     "data": {
      "text/plain": [
       "True"
      ]
     },
     "execution_count": 111,
     "metadata": {},
     "output_type": "execute_result"
    }
   ],
   "source": [
    "not 0.000"
   ]
  },
  {
   "cell_type": "markdown",
   "id": "c3456b6f",
   "metadata": {},
   "source": [
    "* Membership operator(in, not in)\n",
    "* its check the characters of the string wheather its present or not --> which give the output as True or False\n",
    "\n",
    "* its even the checks the spaces to ."
   ]
  },
  {
   "cell_type": "code",
   "execution_count": 113,
   "id": "a0e29249",
   "metadata": {},
   "outputs": [],
   "source": [
    "#ex\n",
    "name = \"satish\""
   ]
  },
  {
   "cell_type": "code",
   "execution_count": 117,
   "id": "01c09525",
   "metadata": {},
   "outputs": [
    {
     "data": {
      "text/plain": [
       "True"
      ]
     },
     "execution_count": 117,
     "metadata": {},
     "output_type": "execute_result"
    }
   ],
   "source": [
    "\"a\" in name"
   ]
  },
  {
   "cell_type": "code",
   "execution_count": 119,
   "id": "fae1cb65",
   "metadata": {},
   "outputs": [
    {
     "data": {
      "text/plain": [
       "False"
      ]
     },
     "execution_count": 119,
     "metadata": {},
     "output_type": "execute_result"
    }
   ],
   "source": [
    "\"satish\"  not in name"
   ]
  },
  {
   "cell_type": "markdown",
   "id": "f04ccebc",
   "metadata": {},
   "source": [
    "\n",
    "Basic data types\n",
    "its in single .\n",
    "They are :\n",
    "\n",
    "    - numerical\n",
    "    - non numerical \n",
    "In numerical :\n",
    "\n",
    "- int (3,45,5,4,)\n",
    "\n",
    "- float(9.4,4.5)\n",
    "\n",
    "- complex (23+6j)\n",
    "\n",
    "In non numerical :\n",
    "\n",
    "- bool(True or False)\n",
    "\n",
    "- string (\"hjguygfuyg\") ---> its acts both basic and collection\n",
    "Write a Python code snippet that assigns a value to a variable and determines its data type using the type() function."
   ]
  },
  {
   "cell_type": "code",
   "execution_count": 120,
   "id": "fd93e96c",
   "metadata": {},
   "outputs": [
    {
     "name": "stdout",
     "output_type": "stream",
     "text": [
      "55\n"
     ]
    },
    {
     "data": {
      "text/plain": [
       "int"
      ]
     },
     "execution_count": 120,
     "metadata": {},
     "output_type": "execute_result"
    }
   ],
   "source": [
    "number = 55\n",
    "print(number)\n",
    "type(number)"
   ]
  },
  {
   "cell_type": "code",
   "execution_count": 121,
   "id": "673d7721",
   "metadata": {},
   "outputs": [
    {
     "name": "stdout",
     "output_type": "stream",
     "text": [
      "6.6\n"
     ]
    },
    {
     "data": {
      "text/plain": [
       "float"
      ]
     },
     "execution_count": 121,
     "metadata": {},
     "output_type": "execute_result"
    }
   ],
   "source": [
    "higth = 6.6\n",
    "print(higth)\n",
    "type(higth)"
   ]
  },
  {
   "cell_type": "code",
   "execution_count": 122,
   "id": "81f480b6",
   "metadata": {},
   "outputs": [
    {
     "name": "stdout",
     "output_type": "stream",
     "text": [
      "gfdsmfuyr\n"
     ]
    },
    {
     "data": {
      "text/plain": [
       "str"
      ]
     },
     "execution_count": 122,
     "metadata": {},
     "output_type": "execute_result"
    }
   ],
   "source": [
    "string = \"gfdsmfuyr\"\n",
    "print(string)\n",
    "type(string)"
   ]
  },
  {
   "cell_type": "code",
   "execution_count": 123,
   "id": "bc078c80",
   "metadata": {},
   "outputs": [
    {
     "name": "stdout",
     "output_type": "stream",
     "text": [
      "True\n"
     ]
    },
    {
     "data": {
      "text/plain": [
       "bool"
      ]
     },
     "execution_count": 123,
     "metadata": {},
     "output_type": "execute_result"
    }
   ],
   "source": [
    "mynum = True\n",
    "print(mynum)\n",
    "type(mynum)"
   ]
  },
  {
   "cell_type": "markdown",
   "id": "95ed62b5",
   "metadata": {},
   "source": [
    "Assignment: Basic Python Operators\n",
    "\n",
    "**Task 1: Arithmetic Operators**\n",
    "1. Write a Python program that takes two user-input numbers and displays their sum using the addition operator.\n",
    "2. Create a program to calculate the area of a rectangle. Prompt the user for the length and width, then use multiplication to find the area.\n",
    "3. Implement a program that converts temperature from Celsius to Fahrenheit using the formula: Fahrenheit = (Celsius * 9/5) + 32.\n",
    "\n",
    "**Task 2: Comparison Operators**\n",
    "1. Write a program that compares two user-input numbers and prints whether the first number is greater than the second number or not.\n",
    "2. Create a program that determines whether a user-input year is a leap year or not. A leap year is divisible by 4 and not divisible by 100, unless it is also divisible by 400.\n",
    "3. Implement a simple guessing game. Generate a random number between 1 and 100 and have the user guess the number. Provide feedback if their guess is too high or too low, and let them know when they've guessed correctly.\n",
    "\n",
    "**Task 3: Logical Operators**\n",
    "1. Write a program that checks whether a user-input number is positive and even using logical AND (`and`) operator.\n",
    "2. Create a login system where you define a correct username and password. Ask the user for their input and compare it with the correct credentials using logical OR (`or`) operator. Provide access if either the username or password is correct.\n",
    "3. Implement a program that determines whether a given year is a leap year and divisible by 7 using logical NOT (`not`) operator.\n",
    "\n",
    "**Task 4: Assignment Operators**\n",
    "1. Write a program to calculate the square of a number using the exponentiation operator (`**`) and assign it back to the same variable.\n",
    "2. Create a program that keeps track of the total score in a game. Prompt the user for their latest score and update the total score using the addition assignment operator (`+=`).\n",
    "3. Implement a program to convert seconds into hours, minutes, and remaining seconds using both division and modulo operators, and then assign each value using assignment operators.\n",
    "\n",
    "**Task 5: Bitwise Operators**\n",
    "1. Write a program that performs a bitwise AND operation between two user-input numbers and displays the result.\n",
    "2. Create a program to toggle the nth bit of a given number. Ask the user for the number and the value of n, then use bitwise XOR (^) operator to toggle the bit.\n",
    "3. Implement a program to swap the values of two variables without using a temporary variable, only using bitwise XOR (^) operator.\n",
    "\n"
   ]
  },
  {
   "cell_type": "code",
   "execution_count": 1,
   "id": "04ee446a",
   "metadata": {},
   "outputs": [
    {
     "name": "stdout",
     "output_type": "stream",
     "text": [
      "enter number54622346\n",
      "enter age22\n",
      "54622368\n"
     ]
    }
   ],
   "source": [
    " #1\n",
    "a =int(input(\"enter number\"))\n",
    "b =int(input(\"enter age\"))\n",
    "sum = a + b\n",
    "print(sum)"
   ]
  },
  {
   "cell_type": "code",
   "execution_count": 2,
   "id": "7bf2e2d3",
   "metadata": {},
   "outputs": [
    {
     "name": "stdout",
     "output_type": "stream",
     "text": [
      "enter a year2000\n",
      "Its a leap year\n"
     ]
    }
   ],
   "source": [
    "#2\n",
    "year = int(input(\"enter a year\"))\n",
    "if (year% 4 == 0 ) and (year != 100):\n",
    "    print(\"Its a leap year\")\n",
    "elif (year % 400 == 0) and (year % 100 == 0):\n",
    "    print(\"its a leap year\")\n",
    "    \n",
    "else:\n",
    "    print(\"its not a leap year\")"
   ]
  },
  {
   "cell_type": "code",
   "execution_count": 3,
   "id": "9a6e9806",
   "metadata": {},
   "outputs": [
    {
     "name": "stdout",
     "output_type": "stream",
     "text": [
      "enter a number between 1 to 100 :55\n",
      "too high\n"
     ]
    }
   ],
   "source": [
    "#3)\n",
    "import random\n",
    "guess_number = int(input(\"enter a number between 1 to 100 :\"))\n",
    "random_number = random.randint(1, 100)\n",
    "if guess_number > random_number:\n",
    "    print(\"too high\")\n",
    "else:\n",
    "    print(\"too low\")"
   ]
  },
  {
   "cell_type": "code",
   "execution_count": 4,
   "id": "08a363d9",
   "metadata": {},
   "outputs": [
    {
     "name": "stdout",
     "output_type": "stream",
     "text": [
      "enter a number:4\n",
      "its a  positive even number \n"
     ]
    }
   ],
   "source": [
    "#4)\n",
    "number = int(input(\"enter a number:\"))\n",
    "if (number>0) and (number%2 == 0 ):\n",
    "    print(\"its a  positive even number \")\n",
    "else: \n",
    "    print(\"its a not a positive even number\")"
   ]
  },
  {
   "cell_type": "code",
   "execution_count": 5,
   "id": "ce309b3b",
   "metadata": {},
   "outputs": [
    {
     "name": "stdout",
     "output_type": "stream",
     "text": [
      "enter a username: satish\n",
      "enter a password: Satish011\n",
      "Access granted\n"
     ]
    }
   ],
   "source": [
    "username = \"satish\"\n",
    "password = \"Satish011\"\n",
    "input_username = input(\"enter a username: \")\n",
    "input_password = input(\"enter a password: \")\n",
    "if (input_username == username) or (input_password == password):\n",
    "    print(\"Access granted\")\n",
    "else:\n",
    "    print(\"Access not granted\")"
   ]
  },
  {
   "cell_type": "code",
   "execution_count": 6,
   "id": "df52ae89",
   "metadata": {},
   "outputs": [
    {
     "name": "stdout",
     "output_type": "stream",
     "text": [
      "enter a year :22\n",
      "its not year is a leap year and divisible by 7 \n"
     ]
    }
   ],
   "source": [
    "year = int(input(\"enter a year :\"))\n",
    "leap_year_7divisible= ((year% 4 == 0 ) and (year != 100) and (year%7 ==0)) or ((year % 400 == 0) and (year % 100 == 0) and (year%7 ==0))\n",
    "if not (leap_year_7divisible):\n",
    "    print(\"its not year is a leap year and divisible by 7 \")\n",
    "else:\n",
    "    print(\"year is a leap year and divisible by 7\")"
   ]
  },
  {
   "cell_type": "code",
   "execution_count": 8,
   "id": "665e5df6",
   "metadata": {},
   "outputs": [
    {
     "data": {
      "text/plain": [
       "256"
      ]
     },
     "execution_count": 8,
     "metadata": {},
     "output_type": "execute_result"
    }
   ],
   "source": [
    "a = 4\n",
    "power= a**a\n",
    "power"
   ]
  },
  {
   "cell_type": "code",
   "execution_count": 9,
   "id": "44eefcd3",
   "metadata": {},
   "outputs": [
    {
     "name": "stdout",
     "output_type": "stream",
     "text": [
      "enter a squre number :6\n"
     ]
    },
    {
     "data": {
      "text/plain": [
       "46656"
      ]
     },
     "execution_count": 9,
     "metadata": {},
     "output_type": "execute_result"
    }
   ],
   "source": [
    "b = int(input(\"enter a squre number :\"))\n",
    "Sqaure_value = b ** b\n",
    "Sqaure_value"
   ]
  },
  {
   "cell_type": "code",
   "execution_count": 10,
   "id": "33716b1d",
   "metadata": {},
   "outputs": [
    {
     "name": "stdout",
     "output_type": "stream",
     "text": [
      "enter the first score :40\n",
      "enter the second score :50\n",
      "enter the last score :65\n",
      "155\n"
     ]
    }
   ],
   "source": [
    "score_1 = int(input(\"enter the first score :\"))\n",
    "score_2= int(input(\"enter the second score :\"))\n",
    "last_score = int(input(\"enter the last score :\"))\n",
    "\n",
    "score_1 += score_2\n",
    "last_score += score_1\n",
    "total_score = last_score\n",
    "print(total_score)"
   ]
  },
  {
   "cell_type": "code",
   "execution_count": 11,
   "id": "1ad6089b",
   "metadata": {},
   "outputs": [
    {
     "name": "stdout",
     "output_type": "stream",
     "text": [
      "enter a seconds:6000\n",
      "hours : 1.6666666666666667\n",
      "minutes : 100.0\n"
     ]
    }
   ],
   "source": [
    "seconds = int(input(\"enter a seconds:\"))\n",
    "hours = seconds/3600\n",
    "minutes = seconds/60\n",
    "print(\"hours :\",hours)\n",
    "print(\"minutes :\", minutes)"
   ]
  },
  {
   "cell_type": "code",
   "execution_count": 12,
   "id": "5463cb36",
   "metadata": {},
   "outputs": [
    {
     "name": "stdout",
     "output_type": "stream",
     "text": [
      "enter a number :2\n",
      "enter a number :3\n"
     ]
    },
    {
     "data": {
      "text/plain": [
       "2"
      ]
     },
     "execution_count": 12,
     "metadata": {},
     "output_type": "execute_result"
    }
   ],
   "source": [
    "a = int(input(\"enter a number :\"))\n",
    "b = int(input(\"enter a number :\"))\n",
    "a & b"
   ]
  },
  {
   "cell_type": "code",
   "execution_count": 13,
   "id": "4bc8cdb6",
   "metadata": {},
   "outputs": [
    {
     "name": "stdout",
     "output_type": "stream",
     "text": [
      "enter a number :20\n",
      "enter a value of n :6\n"
     ]
    },
    {
     "data": {
      "text/plain": [
       "18"
      ]
     },
     "execution_count": 13,
     "metadata": {},
     "output_type": "execute_result"
    }
   ],
   "source": [
    "a = int(input(\"enter a number :\"))\n",
    "n = int(input(\"enter a value of n :\"))\n",
    "a^n"
   ]
  },
  {
   "cell_type": "code",
   "execution_count": 14,
   "id": "ca9efa78",
   "metadata": {},
   "outputs": [],
   "source": [
    "a = 30  \n",
    "b  = 20\n",
    "a= a^b\n",
    "b= a^b\n",
    "a = a^b"
   ]
  },
  {
   "cell_type": "code",
   "execution_count": 15,
   "id": "bc7d0484",
   "metadata": {},
   "outputs": [
    {
     "data": {
      "text/plain": [
       "20"
      ]
     },
     "execution_count": 15,
     "metadata": {},
     "output_type": "execute_result"
    }
   ],
   "source": [
    "a"
   ]
  },
  {
   "cell_type": "code",
   "execution_count": 16,
   "id": "4caf8d79",
   "metadata": {},
   "outputs": [
    {
     "data": {
      "text/plain": [
       "30"
      ]
     },
     "execution_count": 16,
     "metadata": {},
     "output_type": "execute_result"
    }
   ],
   "source": [
    "b"
   ]
  },
  {
   "cell_type": "code",
   "execution_count": null,
   "id": "9ae86a0c",
   "metadata": {},
   "outputs": [],
   "source": []
  }
 ],
 "metadata": {
  "kernelspec": {
   "display_name": "Python 3 (ipykernel)",
   "language": "python",
   "name": "python3"
  },
  "language_info": {
   "codemirror_mode": {
    "name": "ipython",
    "version": 3
   },
   "file_extension": ".py",
   "mimetype": "text/x-python",
   "name": "python",
   "nbconvert_exporter": "python",
   "pygments_lexer": "ipython3",
   "version": "3.11.4"
  }
 },
 "nbformat": 4,
 "nbformat_minor": 5
}
