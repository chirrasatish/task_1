{
 "cells": [
  {
   "cell_type": "markdown",
   "id": "b12aa795",
   "metadata": {},
   "source": [
    "Task 1: Basic If-Else Statements Write a Python program that takes an integer as input from the user and prints whether it is multiple of 3 or not using if-else statements.\n",
    "\n",
    "Task 2: Nested If Statements Create a program that asks the user for their age and nationality. Depending on their age and nationality, display a different message using nested if statements. For example, if they are under 18 and from the USA, display \"You are a minor from the USA.\"\n",
    "\n",
    "Task 3: Grade Calculator Write a program that takes a student's score as input and converts it to a letter grade (A, B, C, D, or F) using if-elif-else statements. Use the following grading scale:\n",
    "\n",
    "A: 90-100 B: 80-89 C: 70-79 D: 60-69 F: Below 60\n",
    "\n",
    "Task 4: Leap Year Checker Create a Python program that checks if a given year is a leap year or not. Use conditional statements to determine whether the year is divisible by 4, 100, and 400 to decide if it's a leap year.\n",
    "\n",
    "Task 5: BMI Calculator Write a program that calculates a person's Body Mass Index (BMI) based on their height and weight. Then, use conditional statements to categorize the BMI as Underweight, Normal, Overweight, or Obese. Provide guidance on the healthy range for BMI.(use BMI Formula)\n",
    "\n",
    "Task 6: Calculator with Menu Build a simple calculator program that provides a menu with options for addition, subtraction, multiplication, and division. Take user input for two numbersand an operation choice. Use conditional statements to perform the selected operation and display the result.\n",
    "\n",
    "Task 7: Temperature Converter Write a program that converts temperatures between Celsius and Fahrenheit. Allow the user to choose the conversion direction and input the temperature value. Use conditional statements to perform the conversion based on the user's choice.(Do with conversion formula)\n",
    "\n",
    "Task 1: Basic If-Else Statements Write a Python program that takes an integer as input from the user and prints whether it is multiple of 3 or not using if-else statements."
   ]
  },
  {
   "cell_type": "code",
   "execution_count": 1,
   "id": "19a27f14",
   "metadata": {},
   "outputs": [
    {
     "name": "stdout",
     "output_type": "stream",
     "text": [
      "Enter the integer :6\n",
      "it's a multiple of 3\n"
     ]
    }
   ],
   "source": [
    "number = int(input(\"Enter the integer :\"))\n",
    "if (number%3==0):\n",
    "    print(\"it's a multiple of 3\")\n",
    "else:\n",
    "    print(\"it's not multiple of 3\")"
   ]
  },
  {
   "cell_type": "markdown",
   "id": "c0c56452",
   "metadata": {},
   "source": [
    "Task 2: Nested If Statements Create a program that asks the user for their age and nationality. Depending on their age and nationality, display a different message using nested if statements. For example, if they are under 18 and from the USA, display \"You are a minor from the USA.\""
   ]
  },
  {
   "cell_type": "code",
   "execution_count": 2,
   "id": "c44045c1",
   "metadata": {},
   "outputs": [
    {
     "name": "stdout",
     "output_type": "stream",
     "text": [
      "enter your agr::22\n",
      "enter a nationalityusa\n",
      "you are a major from the usa\n"
     ]
    }
   ],
   "source": [
    "age = int(input(\"enter your agr::\"))\n",
    "if age<18:\n",
    "    nationality = input(\"enter the nationality\")\n",
    "    print(\"your are a minor from the\",nationality)\n",
    "else:\n",
    "    nationality = input(\"enter a nationality\")\n",
    "    print(\"you are a major from the\",nationality)\n",
    "    "
   ]
  },
  {
   "cell_type": "markdown",
   "id": "894aa84d",
   "metadata": {},
   "source": [
    "    Task 3: Grade Calculator Write a program that takes a student's score as input and converts it to a letter grade (A, B, C, D, or F) using if-elif-else statements. Use the following grading scale:\n",
    "    A: 90-100 B: 80-89 C: 70-79 D: 60-69 F: Below 60"
   ]
  },
  {
   "cell_type": "code",
   "execution_count": 4,
   "id": "04689a6c",
   "metadata": {},
   "outputs": [
    {
     "name": "stdout",
     "output_type": "stream",
     "text": [
      "enter your marks :99\n",
      "A\n"
     ]
    }
   ],
   "source": [
    "marks = int(input(\"enter your marks :\"))\n",
    "if(marks>=90) and (marks<=100):\n",
    "    print(\"A\")\n",
    "elif (marks>=80) and (marks<=89):\n",
    "        print(\"B\")\n",
    "elif (marks>=70) and (marks<=79):\n",
    "    print(\"C\")\n",
    "elif (marks>=60) and (marks<=69):\n",
    "    print(\"D\")\n",
    "elif (marks<0) or (marks>100):\n",
    "    print(\"enter valid marks\")\n",
    "else:\n",
    "    print(\"F\")"
   ]
  },
  {
   "cell_type": "markdown",
   "id": "93e57e3c",
   "metadata": {},
   "source": [
    "Task 4: Leap Year Checker Create a Python program that checks if a given year is a leap year or not. Use conditional statements to determine whether the year is divisible by 4, 100, and 400 to decide if it's a leap year."
   ]
  },
  {
   "cell_type": "code",
   "execution_count": 7,
   "id": "e1265163",
   "metadata": {},
   "outputs": [
    {
     "name": "stdout",
     "output_type": "stream",
     "text": [
      "Enter a year ::4\n",
      "it's a leap year\n"
     ]
    }
   ],
   "source": [
    "year = int(input(\"Enter a year ::\"))\n",
    "if (year%4==0) and (year%100!=0):\n",
    "    print(\"it's a leap year\")\n",
    "else:\n",
    "    print(\"it is not leap year\")"
   ]
  },
  {
   "cell_type": "code",
   "execution_count": null,
   "id": "248f7766",
   "metadata": {},
   "outputs": [],
   "source": []
  },
  {
   "cell_type": "markdown",
   "id": "f2a365a2",
   "metadata": {},
   "source": [
    "Task 5: BMI Calculator Write a program that calculates a person's Body Mass Index (BMI) based on their height and weight. Then, use conditional statements to categorize the BMI as Underweight, Normal, Overweight, or Obese. Provide guidance on the healthy range for BMI.(use BMI Formula)"
   ]
  },
  {
   "cell_type": "code",
   "execution_count": 9,
   "id": "bd67f87b",
   "metadata": {},
   "outputs": [
    {
     "name": "stdout",
     "output_type": "stream",
     "text": [
      "Enter a weight :12\n",
      "Enter a height :5.5\n",
      "under weight\n"
     ]
    }
   ],
   "source": [
    "weight = float(input(\"Enter a weight :\"))\n",
    "height = float(input(\"Enter a height :\"))\n",
    "BMI = weight/height**2\n",
    "if BMI < 18.5:\n",
    "    print(\"under weight\")\n",
    "elif (BMI>=18.5) and (BMI<=24.9):\n",
    "    print(\"normal weight\")\n",
    "elif (BMI>=25) and (BMI<=24.9):\n",
    "    print(\"over weight\")\n",
    "else:\n",
    "    print(\"obese\")"
   ]
  },
  {
   "cell_type": "markdown",
   "id": "fec09f5d",
   "metadata": {},
   "source": [
    "Task 6: Calculator with Menu Build a simple calculator program that provides a menu with options for addition, subtraction, multiplication, and division. Take user input for two numbersand an operation choice. Use conditional statements to perform the selected operation and display the result."
   ]
  },
  {
   "cell_type": "code",
   "execution_count": 16,
   "id": "cb648c97",
   "metadata": {},
   "outputs": [
    {
     "name": "stdout",
     "output_type": "stream",
     "text": [
      "Enter a number::250\n",
      "Enter a number::2\n",
      "Enter a operator::/\n",
      "division of two numbers is 125.0\n"
     ]
    }
   ],
   "source": [
    "num1 = float(input(\"Enter a number::\"))\n",
    "num2 =float(input(\"Enter a number::\"))\n",
    "operation = input(\"Enter a operator::\")\n",
    "if operation == \"+\":\n",
    "    add = num1+num2\n",
    "    print(\"addition of two number is\",add)\n",
    "elif operation == \"-\":\n",
    "    sub = num1-num2\n",
    "    print(\"subtraction of two number is\",sub)\n",
    "elif operation == \"*\":\n",
    "    mul = num1*num2\n",
    "    print(\"multiplication of two numbers is\",mul)\n",
    "elif operation == \"/\":\n",
    "    div = num1/num2\n",
    "    print(\"division of two numbers is\",div)\n",
    "else:\n",
    "    print(\"valed operation\")"
   ]
  },
  {
   "cell_type": "markdown",
   "id": "97f4ab13",
   "metadata": {},
   "source": [
    "Task 7: Temperature Converter Write a program that converts temperatures between Celsius and Fahrenheit. Allow the user to choose the conversion direction and input the temperature value. Use conditional statements to perform the conversion based on the user's choice.(Do with conversion formula)"
   ]
  },
  {
   "cell_type": "code",
   "execution_count": 19,
   "id": "853cc57b",
   "metadata": {},
   "outputs": [
    {
     "name": "stdout",
     "output_type": "stream",
     "text": [
      "Enter a temperature:: 34\n",
      "Enter a conversion::Fahrenheit\n",
      "Fahrenheit 93.2\n"
     ]
    }
   ],
   "source": [
    "temp = float(input(\"Enter a temperature:: \"))\n",
    "conversion = input(\"Enter a conversion::\")\n",
    "if conversion == \"Celsius\":\n",
    "    Celsius = (temp-32)/1.8\n",
    "    print(\"Celsius\",Celsius)\n",
    "elif conversion == \"Fahrenheit\":\n",
    "    fahrenheit = temp * 1.8 + 32\n",
    "    print(\"Fahrenheit\",fahrenheit)\n",
    "else: \n",
    "    print(\"Enter a valid conversion\")"
   ]
  },
  {
   "cell_type": "code",
   "execution_count": null,
   "id": "04d08f10",
   "metadata": {},
   "outputs": [],
   "source": []
  }
 ],
 "metadata": {
  "kernelspec": {
   "display_name": "Python 3 (ipykernel)",
   "language": "python",
   "name": "python3"
  },
  "language_info": {
   "codemirror_mode": {
    "name": "ipython",
    "version": 3
   },
   "file_extension": ".py",
   "mimetype": "text/x-python",
   "name": "python",
   "nbconvert_exporter": "python",
   "pygments_lexer": "ipython3",
   "version": "3.11.4"
  }
 },
 "nbformat": 4,
 "nbformat_minor": 5
}
