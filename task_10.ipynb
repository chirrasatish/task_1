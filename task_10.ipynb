{
 "cells": [
  {
   "cell_type": "markdown",
   "id": "0438fd21",
   "metadata": {},
   "source": [
    "1)Basic List Comprehension: Write a Python program that uses list comprehension to generate a list of cubes of the first 10 positive integers.\n",
    "\n",
    "2)Filtering with List Comprehension: Given a list of integers, create a new list using list comprehension that contains only the multiple of 3 and 5 from the original list.\n",
    "\n",
    "3)String Manipulation with List Comprehension: Given a list of strings, create a new list using list comprehension that contains the lengths of each string.\n",
    "\n",
    "4)List Comprehension with Conditionals: Given a list of numbers, create a new list using list comprehension that contains the squares of even numbers\n",
    "\n",
    "5)Pattern Printing\n",
    "\n",
    "Write a Python program that takes an integer 'n' as input and prints the following pattern:\n",
    "\n",
    "For n = 4, the pattern should look like this:\n",
    "\n",
    "1 1 2 1 2 3 1 2 3 4\n",
    "\n",
    "6)Multiplication Table\n",
    "\n",
    "Create a Python program that generates and prints a multiplication table for a given number 'n'. The table should include values from 1 to 10.\n",
    "\n",
    "For example, if n = 5, the output should be:\n",
    "\n",
    "5 x 1 = 5\n",
    "5 x 2 = 10\n",
    "5 x 3 = 15\n",
    "5 x 4 = 20\n",
    "5 x 5 = 25\n",
    "5 x 6 = 30\n",
    "5 x 7 = 35\n",
    "5 x 8 = 40\n",
    "5 x 9 = 45\n",
    "5 x 10 = 50\n",
    "7)Star Patterns\n",
    "\n",
    "Write a Python program that takes an integer 'n' as input and prints the following patterns:\n",
    "\n",
    "a) Right-angled triangle pattern:\n",
    "\n",
    "**\n",
    "________________________________________________________________________________________________________________________________________________________________________________________________________________________________________________________________________________________________________________________________________________________________________________________________\n",
    "\n",
    "b) Inverted right-angled triangle pattern:\n",
    "\n",
    "**\n",
    "_______________________________________________________________________________________________________________________________________________________________________________________________________________________________________________________________________________________________________________________________________________________________________________________________\n",
    "8)Number Pyramid\n",
    "\n",
    "Create a Python program that takes an integer 'n' as input and prints a number pyramid as shown below:\n",
    "\n",
    "For n = 4, the output should be:\n",
    "\n",
    "1 212 32123 4321234"
   ]
  },
  {
   "cell_type": "markdown",
   "id": "8a141d11",
   "metadata": {},
   "source": [
    "1)Basic List Comprehension: Write a Python program that uses list comprehension to generate a list of cubes of the first 10 positive integers."
   ]
  },
  {
   "cell_type": "code",
   "execution_count": 1,
   "id": "c8b00642",
   "metadata": {},
   "outputs": [
    {
     "data": {
      "text/plain": [
       "[1, 8, 27, 64, 125, 216, 343, 512, 729, 1000]"
      ]
     },
     "execution_count": 1,
     "metadata": {},
     "output_type": "execute_result"
    }
   ],
   "source": [
    "[i**3 for i in range(1,11)]"
   ]
  },
  {
   "cell_type": "code",
   "execution_count": null,
   "id": "05ba1c3d",
   "metadata": {},
   "outputs": [],
   "source": []
  },
  {
   "cell_type": "markdown",
   "id": "750b6c56",
   "metadata": {},
   "source": [
    "2)Filtering with List Comprehension: Given a list of integers, create a new list using list comprehension that contains only the multiple of 3 and 5 from the original list."
   ]
  },
  {
   "cell_type": "code",
   "execution_count": 4,
   "id": "ed5d6397",
   "metadata": {},
   "outputs": [
    {
     "data": {
      "text/plain": [
       "[15, 30, 45, 60, 75, 90]"
      ]
     },
     "execution_count": 4,
     "metadata": {},
     "output_type": "execute_result"
    }
   ],
   "source": [
    "a = list(range(1,100))\n",
    "[i for i in a if (i%3==0) and (i%5==0)]\n",
    "    "
   ]
  },
  {
   "cell_type": "code",
   "execution_count": null,
   "id": "3ce0b54a",
   "metadata": {},
   "outputs": [],
   "source": []
  },
  {
   "cell_type": "markdown",
   "id": "30b37343",
   "metadata": {},
   "source": [
    "3)String Manipulation with List Comprehension: Given a list of strings, create a new list using list comprehension that contains the lengths of each string."
   ]
  },
  {
   "cell_type": "code",
   "execution_count": 5,
   "id": "0f46db53",
   "metadata": {},
   "outputs": [
    {
     "data": {
      "text/plain": [
       "['python length = 6',\n",
       " 'sql length = 3',\n",
       " 'Data analytics length = 14',\n",
       " 'Data Science length = 12',\n",
       " 'Numpys length = 6',\n",
       " 'pandas length = 6']"
      ]
     },
     "execution_count": 5,
     "metadata": {},
     "output_type": "execute_result"
    }
   ],
   "source": [
    "l1 = [\"python\",\"sql\",\"Data analytics\",\"Data Science\",\"Numpys\",\"pandas\"]\n",
    "[(f\"{i} length = {len(i)}\") for i in l1]"
   ]
  },
  {
   "cell_type": "code",
   "execution_count": null,
   "id": "1b55454f",
   "metadata": {},
   "outputs": [],
   "source": []
  },
  {
   "cell_type": "markdown",
   "id": "b68815c0",
   "metadata": {},
   "source": [
    "4)List Comprehension with Conditionals: Given a list of numbers, create a new list using list comprehension that contains the squares of even numbers"
   ]
  },
  {
   "cell_type": "code",
   "execution_count": 10,
   "id": "f8e00a43",
   "metadata": {},
   "outputs": [
    {
     "data": {
      "text/plain": [
       "[4, 16, 36, 64, 100, 144, 196, 256, 324, 400]"
      ]
     },
     "execution_count": 10,
     "metadata": {},
     "output_type": "execute_result"
    }
   ],
   "source": [
    "a = list(range(1,21))\n",
    "[i**2 for i in a if i%2==0]"
   ]
  },
  {
   "cell_type": "code",
   "execution_count": null,
   "id": "79835a0e",
   "metadata": {},
   "outputs": [],
   "source": []
  },
  {
   "cell_type": "markdown",
   "id": "ecef0d9b",
   "metadata": {},
   "source": [
    "5)Pattern Printing\n",
    "\n",
    "Write a Python program that takes an integer 'n' as input and prints the following pattern:\n",
    "\n",
    "For n = 4, the pattern should look like this:\n",
    "\n",
    "1 1 2 1 2 3 1 2 3 4"
   ]
  },
  {
   "cell_type": "code",
   "execution_count": 11,
   "id": "4142d684",
   "metadata": {},
   "outputs": [
    {
     "name": "stdout",
     "output_type": "stream",
     "text": [
      " 1 \n",
      " 1 2 \n",
      " 1 2 3 \n",
      " 1 2 3 4 \n"
     ]
    }
   ],
   "source": [
    "n = 4\n",
    "\n",
    "for i in range(1,n+1):\n",
    "    string = \" \"\n",
    "    for j in range(1,i+1):\n",
    "        string = string +  str(j) + \" \"\n",
    "        \n",
    "    print(string)"
   ]
  },
  {
   "cell_type": "markdown",
   "id": "6a7b7ad8",
   "metadata": {},
   "source": [
    "Create a Python program that generates and prints a multiplication table for a given number 'n'. The table should include values from 1 to 10.\n",
    "\n",
    "For example, if n = 5, the output should be:\n",
    "\n",
    "5 x 1 = 5 5 x 2 = 10 5 x 3 = 15 5 x 4 = 20 5 x 5 = 25 5 x 6 = 30 5 x 7 = 35 5 x 8 = 40 5 x 9 = 45 5 x 10 = 50"
   ]
  },
  {
   "cell_type": "code",
   "execution_count": 1,
   "id": "36675cb8",
   "metadata": {},
   "outputs": [
    {
     "name": "stdout",
     "output_type": "stream",
     "text": [
      "Enter a multiplication::10\n",
      "10 * 1 = 10\n",
      "10 * 2 = 20\n",
      "10 * 3 = 30\n",
      "10 * 4 = 40\n",
      "10 * 5 = 50\n",
      "10 * 6 = 60\n",
      "10 * 7 = 70\n",
      "10 * 8 = 80\n",
      "10 * 9 = 90\n",
      "10 * 10 = 100\n"
     ]
    }
   ],
   "source": [
    "n = int(input(\"Enter a multiplication::\"))\n",
    "for i in range(1,11):\n",
    "    print(f\"{n} * {i} = {n*i}\")"
   ]
  },
  {
   "cell_type": "code",
   "execution_count": null,
   "id": "9538af82",
   "metadata": {},
   "outputs": [],
   "source": []
  },
  {
   "cell_type": "code",
   "execution_count": null,
   "id": "a55c19a9",
   "metadata": {},
   "outputs": [],
   "source": [
    "7)Star Patterns\n",
    "\n",
    "Write a Python program that takes an integer 'n' as input and prints the following patterns:\n",
    "\n",
    "a) Right-angled triangle pattern:\n",
    "\n",
    "*\n",
    "**\n",
    "***\n",
    "****\n",
    "*****\n",
    "b) Inverted right-angled triangle pattern:\n",
    "\n",
    "*****\n",
    "****\n",
    "***\n",
    "**\n",
    "*"
   ]
  },
  {
   "cell_type": "code",
   "execution_count": 3,
   "id": "8aeaec5d",
   "metadata": {},
   "outputs": [
    {
     "name": "stdout",
     "output_type": "stream",
     "text": [
      "Enter a row :10\n",
      "*\n",
      "**\n",
      "***\n",
      "****\n",
      "*****\n",
      "******\n",
      "*******\n",
      "********\n",
      "*********\n",
      "**********\n"
     ]
    }
   ],
   "source": [
    "#right-angled triangled pattern\n",
    "n = int(input(\"Enter a row :\"))\n",
    "for i in range(1,n+1):\n",
    "    print(\"*\"*i)\n"
   ]
  },
  {
   "cell_type": "code",
   "execution_count": 5,
   "id": "baf03ac3",
   "metadata": {},
   "outputs": [
    {
     "name": "stdout",
     "output_type": "stream",
     "text": [
      "Enter a row :10\n",
      "***********\n",
      "**********\n",
      "*********\n",
      "********\n",
      "*******\n",
      "******\n",
      "*****\n",
      "****\n",
      "***\n",
      "**\n",
      "*\n"
     ]
    }
   ],
   "source": [
    "#Inverted right-angled triangle pattern:\n",
    "n = int(input(\"Enter a row :\"))\n",
    "for i in range(n+1,0,-1):\n",
    "    print(\"*\"*i)"
   ]
  },
  {
   "cell_type": "code",
   "execution_count": null,
   "id": "7a6cac23",
   "metadata": {},
   "outputs": [],
   "source": []
  },
  {
   "cell_type": "markdown",
   "id": "60dfd5f7",
   "metadata": {},
   "source": [
    "8)Number Pyramid\n",
    "\n",
    "Create a Python program that takes an integer 'n' as input and prints a number pyramid as shown below:\n",
    "\n",
    "For n = 4, the output should be:\n",
    "\n",
    "1 212 32123 4321234"
   ]
  },
  {
   "cell_type": "code",
   "execution_count": 7,
   "id": "3eadf40c",
   "metadata": {},
   "outputs": [
    {
     "name": "stdout",
     "output_type": "stream",
     "text": [
      "Enter pyramid number :6\n",
      "1\n",
      "212\n",
      "32123\n",
      "4321234\n",
      "543212345\n",
      "65432123456\n"
     ]
    }
   ],
   "source": [
    "n = int(input(\"Enter pyramid number :\"))\n",
    "\n",
    "for i in range(1,n+1):\n",
    "    string = \"\"\n",
    "    for j in range(n-i):\n",
    "        string += \"\"\n",
    "    for j in range(i,0,-1):\n",
    "        string += str(j)\n",
    "    for j in range(2,i+1):\n",
    "        string += str(j)\n",
    "    print(string)    \n"
   ]
  },
  {
   "cell_type": "code",
   "execution_count": null,
   "id": "a55ce843",
   "metadata": {},
   "outputs": [],
   "source": []
  },
  {
   "cell_type": "code",
   "execution_count": null,
   "id": "230b7e8b",
   "metadata": {},
   "outputs": [],
   "source": []
  }
 ],
 "metadata": {
  "kernelspec": {
   "display_name": "Python 3 (ipykernel)",
   "language": "python",
   "name": "python3"
  },
  "language_info": {
   "codemirror_mode": {
    "name": "ipython",
    "version": 3
   },
   "file_extension": ".py",
   "mimetype": "text/x-python",
   "name": "python",
   "nbconvert_exporter": "python",
   "pygments_lexer": "ipython3",
   "version": "3.11.4"
  }
 },
 "nbformat": 4,
 "nbformat_minor": 5
}
