{
 "cells": [
  {
   "cell_type": "markdown",
   "id": "6e5d7754",
   "metadata": {},
   "source": [
    "Assignment Tasks on String Escape Characters, Indexing, and Slicing:\n",
    "\n",
    "String Escape Characters:\n",
    "\n",
    "Task 1:\n",
    "\n",
    "Create a string containing a sentence that includes both single and double quotes.\n",
    "Use escape characters to include quotes within the string.\n",
    "Print the modified string.\n",
    "Task 2:\n",
    "\n",
    "Declare a string with a backslash \\ character in it.\n",
    "Demonstrate the use of the escape character to print the backslash itself.\n",
    "Print the resulting string.\n",
    "Task 3:\n",
    "\n",
    "Construct a string containing newline and tab escape sequences.\n",
    "Print the string to display the formatted output.\n",
    "Indexing and Slicing:\n",
    "\n",
    "Task 4:\n",
    "\n",
    "sentence = \"I want to become Data Scientist\".\n",
    "Access and print the first character of the string using indexing.\n",
    "Access and print the last character of the string using negative indexing.\n",
    "Task 5:\n",
    "\n",
    "What are possible ways yo extract Scientist(use forward and reverse)\n",
    "Use slicing to extract and print the first word from the string.\n",
    "Use slicing to extract and print the last three characters of the string.\n",
    "Task 6:\n",
    "\n",
    "name = \"Innomatics Reserach Labs\"\n",
    "Apply slicing to extract a substring that includes the second to fifth characters.\n",
    "Print the extracted substring.\n",
    "Task 7:\n",
    "\n",
    "string = \"Python@1234\"\n",
    "Use slicing to extract every second character from the string.\n",
    "Print the resulting sliced string.\n",
    "Task 8:\n",
    "\n",
    "print last five letters.\n",
    "Utilize slicing to reverse the word order in the string.\n",
    "Print the string with the words in the reversed order.\n",
    "Task 9:\n",
    "\n",
    "a = \"123123123\"\n",
    "Apply slicing to extract only the numeric characters at odd positions.\n",
    "Print the sliced result.\n",
    "Remember to include explanations or comments for each task's code to ensure clarity. Additionally, encourage students to experiment further with different escape characters and slicing techniques beyond the provided tasks to deepen their understanding."
   ]
  },
  {
   "cell_type": "code",
   "execution_count": 2,
   "id": "fc6639c3",
   "metadata": {},
   "outputs": [
    {
     "name": "stdout",
     "output_type": "stream",
     "text": [
      "satish's plane\n"
     ]
    },
    {
     "data": {
      "text/plain": [
       "\"satish's plane\""
      ]
     },
     "execution_count": 2,
     "metadata": {},
     "output_type": "execute_result"
    }
   ],
   "source": [
    "string = \"satish's plane\"\n",
    "print(string)\n",
    "string"
   ]
  },
  {
   "cell_type": "code",
   "execution_count": 4,
   "id": "7c3ef36e",
   "metadata": {},
   "outputs": [
    {
     "name": "stdout",
     "output_type": "stream",
     "text": [
      "satish has \"plane\"\n"
     ]
    },
    {
     "data": {
      "text/plain": [
       "'satish has \"plane\"'"
      ]
     },
     "execution_count": 4,
     "metadata": {},
     "output_type": "execute_result"
    }
   ],
   "source": [
    "string = 'satish has \"plane\"'\n",
    "print(string)\n",
    "string"
   ]
  },
  {
   "cell_type": "code",
   "execution_count": 5,
   "id": "feefe4e1",
   "metadata": {},
   "outputs": [
    {
     "name": "stdout",
     "output_type": "stream",
     "text": [
      "satish's plane\n"
     ]
    }
   ],
   "source": [
    "string = 'satish\\'s plane'\n",
    "print(string)"
   ]
  },
  {
   "cell_type": "code",
   "execution_count": 11,
   "id": "f5a4c58c",
   "metadata": {},
   "outputs": [
    {
     "name": "stdout",
     "output_type": "stream",
     "text": [
      "satish has\"plane\"\n"
     ]
    }
   ],
   "source": [
    "string = \"satish has\\\"plane\\\"\"\n",
    "print(string)"
   ]
  },
  {
   "cell_type": "code",
   "execution_count": 13,
   "id": "271e5bf9",
   "metadata": {},
   "outputs": [
    {
     "name": "stdout",
     "output_type": "stream",
     "text": [
      "hello  \bworld\n"
     ]
    }
   ],
   "source": [
    "#task 2\n",
    "string = \"hello  \\bworld\"\n",
    "print(string)"
   ]
  },
  {
   "cell_type": "code",
   "execution_count": 14,
   "id": "33b8c07c",
   "metadata": {},
   "outputs": [
    {
     "name": "stdout",
     "output_type": "stream",
     "text": [
      "hello\\world\n"
     ]
    }
   ],
   "source": [
    "string = \"hello\\\\world\"\n",
    "print(string)"
   ]
  },
  {
   "cell_type": "code",
   "execution_count": 5,
   "id": "58baacd1",
   "metadata": {},
   "outputs": [
    {
     "name": "stdout",
     "output_type": "stream",
     "text": [
      " i am satish and \n",
      " i am from hyderabad\n"
     ]
    }
   ],
   "source": [
    "# task 3\n",
    "staring = \" i am satish and \\n i am from hyderabad\"\n",
    "print(staring)"
   ]
  },
  {
   "cell_type": "code",
   "execution_count": 6,
   "id": "c28f6a36",
   "metadata": {},
   "outputs": [
    {
     "name": "stdout",
     "output_type": "stream",
     "text": [
      "sum of numbers \\no.of numbers\n"
     ]
    }
   ],
   "source": [
    "string = \"sum of numbers \\\\no.of numbers\"\n",
    "print(string)"
   ]
  },
  {
   "cell_type": "markdown",
   "id": "81a1e845",
   "metadata": {},
   "source": [
    "\n",
    "Indexing - extracting single character\n",
    "\n",
    "* var_name[index number]\n",
    "\n",
    "* index starts from \"0\""
   ]
  },
  {
   "cell_type": "code",
   "execution_count": 7,
   "id": "e9b5a696",
   "metadata": {},
   "outputs": [],
   "source": [
    "name = \"kazipet\""
   ]
  },
  {
   "cell_type": "code",
   "execution_count": 9,
   "id": "c2b11e18",
   "metadata": {},
   "outputs": [
    {
     "data": {
      "text/plain": [
       "'k'"
      ]
     },
     "execution_count": 9,
     "metadata": {},
     "output_type": "execute_result"
    }
   ],
   "source": [
    "name[0]"
   ]
  },
  {
   "cell_type": "code",
   "execution_count": 10,
   "id": "17745b9c",
   "metadata": {},
   "outputs": [
    {
     "data": {
      "text/plain": [
       "'t'"
      ]
     },
     "execution_count": 10,
     "metadata": {},
     "output_type": "execute_result"
    }
   ],
   "source": [
    "name[-1]"
   ]
  },
  {
   "cell_type": "markdown",
   "id": "b770371f",
   "metadata": {},
   "source": [
    "slicing\n",
    "* accessing group of character from the data\n",
    "\n",
    "* variable_name[start:stop:step]"
   ]
  },
  {
   "cell_type": "code",
   "execution_count": 11,
   "id": "c058f495",
   "metadata": {},
   "outputs": [],
   "source": [
    "name = \"kazipet\""
   ]
  },
  {
   "cell_type": "code",
   "execution_count": 12,
   "id": "4961a5a4",
   "metadata": {},
   "outputs": [
    {
     "data": {
      "text/plain": [
       "'kaz'"
      ]
     },
     "execution_count": 12,
     "metadata": {},
     "output_type": "execute_result"
    }
   ],
   "source": [
    "name[0:3:1]"
   ]
  },
  {
   "cell_type": "code",
   "execution_count": 16,
   "id": "79ff2581",
   "metadata": {},
   "outputs": [
    {
     "data": {
      "text/plain": [
       "'kzp'"
      ]
     },
     "execution_count": 16,
     "metadata": {},
     "output_type": "execute_result"
    }
   ],
   "source": [
    "name[0:6:2]"
   ]
  },
  {
   "cell_type": "markdown",
   "id": "6a5b695b",
   "metadata": {},
   "source": [
    "* Start : if we don't provide start value then it takes first value (index[0])\n",
    "\n",
    "* step : if we don't provide step value, its takes \"1\" as default value\n",
    "\n",
    "* stop : if we don't provide stop value , its takes untill last value\n",
    "\n",
    "* In slicing we give more than index number still it accepts the number and print upto the last index number"
   ]
  },
  {
   "cell_type": "code",
   "execution_count": 17,
   "id": "f74bb2c1",
   "metadata": {},
   "outputs": [
    {
     "data": {
      "text/plain": [
       "'kaz'"
      ]
     },
     "execution_count": 17,
     "metadata": {},
     "output_type": "execute_result"
    }
   ],
   "source": [
    "name[:3:1]"
   ]
  },
  {
   "cell_type": "code",
   "execution_count": 18,
   "id": "5e51e112",
   "metadata": {},
   "outputs": [
    {
     "data": {
      "text/plain": [
       "'zipet'"
      ]
     },
     "execution_count": 18,
     "metadata": {},
     "output_type": "execute_result"
    }
   ],
   "source": [
    "name[2:7]"
   ]
  },
  {
   "cell_type": "code",
   "execution_count": 22,
   "id": "6eb9c9df",
   "metadata": {},
   "outputs": [
    {
     "data": {
      "text/plain": [
       "'ipet'"
      ]
     },
     "execution_count": 22,
     "metadata": {},
     "output_type": "execute_result"
    }
   ],
   "source": [
    "name[3::1]"
   ]
  },
  {
   "cell_type": "code",
   "execution_count": 21,
   "id": "99d0a8a8",
   "metadata": {},
   "outputs": [
    {
     "data": {
      "text/plain": [
       "'kazipet'"
      ]
     },
     "execution_count": 21,
     "metadata": {},
     "output_type": "execute_result"
    }
   ],
   "source": [
    "name[0:10]"
   ]
  },
  {
   "cell_type": "markdown",
   "id": "a26a041b",
   "metadata": {},
   "source": [
    "Task 4:\n",
    "\n",
    "sentence = \"I want to become Data Scientist\".\n",
    "\n",
    "1)Access and print the first character of the string using indexing.\n",
    "\n",
    "2)Access and print the last character of the string using negative indexing."
   ]
  },
  {
   "cell_type": "code",
   "execution_count": 1,
   "id": "c642eccd",
   "metadata": {},
   "outputs": [],
   "source": [
    "sentence = \"i want to become data scientist\""
   ]
  },
  {
   "cell_type": "code",
   "execution_count": 2,
   "id": "931f663a",
   "metadata": {},
   "outputs": [
    {
     "data": {
      "text/plain": [
       "'i'"
      ]
     },
     "execution_count": 2,
     "metadata": {},
     "output_type": "execute_result"
    }
   ],
   "source": [
    "sentence[0]  # starts from '0' index number is 0"
   ]
  },
  {
   "cell_type": "code",
   "execution_count": 3,
   "id": "29b7bafc",
   "metadata": {},
   "outputs": [
    {
     "data": {
      "text/plain": [
       "'t'"
      ]
     },
     "execution_count": 3,
     "metadata": {},
     "output_type": "execute_result"
    }
   ],
   "source": [
    "sentence[-1] # last character index value starts from -1"
   ]
  },
  {
   "cell_type": "markdown",
   "id": "268ccde8",
   "metadata": {},
   "source": [
    "Task 5:\n",
    "\n",
    "1)What are possible ways yo extract Scientist(use forward and reverse)\n",
    "\n",
    "2)Use slicing to extract and print the first word from the string.\n",
    "\n",
    "3)Use slicing to extract and print the last three characters of the string."
   ]
  },
  {
   "cell_type": "code",
   "execution_count": 4,
   "id": "6cde008d",
   "metadata": {},
   "outputs": [],
   "source": [
    "#1) They are tw0 ways we can extract by using forward and reverse slicing"
   ]
  },
  {
   "cell_type": "code",
   "execution_count": 5,
   "id": "8099c34b",
   "metadata": {},
   "outputs": [],
   "source": [
    "sentence = \"I want to become Data Scientist\""
   ]
  },
  {
   "cell_type": "code",
   "execution_count": 6,
   "id": "e5270e94",
   "metadata": {},
   "outputs": [
    {
     "data": {
      "text/plain": [
       "'Scientist'"
      ]
     },
     "execution_count": 6,
     "metadata": {},
     "output_type": "execute_result"
    }
   ],
   "source": [
    "# forward slicing\n",
    "sentence[22::]  # start index value is  22 whivh meanss \"s\" from this  we no need give any value to stop and step its take default value as 1"
   ]
  },
  {
   "cell_type": "code",
   "execution_count": 7,
   "id": "9ee5dfff",
   "metadata": {},
   "outputs": [
    {
     "data": {
      "text/plain": [
       "' Scientist'"
      ]
     },
     "execution_count": 7,
     "metadata": {},
     "output_type": "execute_result"
    }
   ],
   "source": [
    "sentence[-10::]   # reverse silicing"
   ]
  },
  {
   "cell_type": "code",
   "execution_count": 8,
   "id": "7cfe2fdf",
   "metadata": {},
   "outputs": [
    {
     "data": {
      "text/plain": [
       "'I'"
      ]
     },
     "execution_count": 8,
     "metadata": {},
     "output_type": "execute_result"
    }
   ],
   "source": [
    "#2)\n",
    "sentence[0:1] #  from sentence first word is I so its starts from 0 and stops at 1"
   ]
  },
  {
   "cell_type": "code",
   "execution_count": 9,
   "id": "17abccdd",
   "metadata": {},
   "outputs": [
    {
     "data": {
      "text/plain": [
       "'I w'"
      ]
     },
     "execution_count": 9,
     "metadata": {},
     "output_type": "execute_result"
    }
   ],
   "source": [
    "#3)\n",
    "sentence[0:3]    # first three characters are start -0, stop-3 and step is 1"
   ]
  },
  {
   "cell_type": "markdown",
   "id": "1ff5ce44",
   "metadata": {},
   "source": [
    "Task 6:\n",
    "\n",
    "name = \"Innomatics Reserach Labs\"\n",
    "\n",
    "1)Apply slicing to extract a substring that includes the second to fifth characters.\n",
    "\n",
    "2)Print the extracted substring."
   ]
  },
  {
   "cell_type": "code",
   "execution_count": 10,
   "id": "11242f2d",
   "metadata": {},
   "outputs": [],
   "source": [
    "name = \"innomatics reserach labs\""
   ]
  },
  {
   "cell_type": "code",
   "execution_count": 13,
   "id": "13b22e06",
   "metadata": {},
   "outputs": [],
   "source": [
    "#1)\n",
    "extracted_subString = name[1:5]  # starts-1 and stops 5 means its prints nnom which is 2-5 , step value by default its 1\n",
    " "
   ]
  },
  {
   "cell_type": "code",
   "execution_count": 14,
   "id": "5a4ffe24",
   "metadata": {},
   "outputs": [
    {
     "name": "stdout",
     "output_type": "stream",
     "text": [
      "nnom\n"
     ]
    }
   ],
   "source": [
    "#2) \n",
    "print(extracted_subString)"
   ]
  },
  {
   "cell_type": "markdown",
   "id": "5b53315a",
   "metadata": {},
   "source": [
    "Task 7:\n",
    "\n",
    "string = \"Python@1234\"\n",
    "\n",
    "1)Use slicing to extract every second character from the string.\n",
    "\n",
    "2)Print the resulting sliced string."
   ]
  },
  {
   "cell_type": "code",
   "execution_count": 16,
   "id": "56a319b7",
   "metadata": {},
   "outputs": [
    {
     "data": {
      "text/plain": [
       "'yhn13'"
      ]
     },
     "execution_count": 16,
     "metadata": {},
     "output_type": "execute_result"
    }
   ],
   "source": [
    "string = \"python@1234\"\n",
    "resulted_string = string[1::2] # here i use step as 2 because we need every second character from the string  and starts with 1 because i didn't reqire first char\n",
    "string[1::2]"
   ]
  },
  {
   "cell_type": "code",
   "execution_count": 17,
   "id": "19c180a1",
   "metadata": {},
   "outputs": [
    {
     "name": "stdout",
     "output_type": "stream",
     "text": [
      "yhn13\n"
     ]
    }
   ],
   "source": [
    "print(resulted_string)"
   ]
  },
  {
   "cell_type": "markdown",
   "id": "59401add",
   "metadata": {},
   "source": [
    "Task 8:\n",
    "\n",
    "print last five letters.\n",
    "\n",
    "Utilize slicing to reverse the word order in the string.\n",
    "\n",
    "Print the string with the words in the reversed order."
   ]
  },
  {
   "cell_type": "code",
   "execution_count": 18,
   "id": "7a03b68c",
   "metadata": {},
   "outputs": [],
   "source": [
    "string = \"puthon@1234\""
   ]
  },
  {
   "cell_type": "code",
   "execution_count": 19,
   "id": "99afe542",
   "metadata": {},
   "outputs": [
    {
     "data": {
      "text/plain": [
       "'@1234'"
      ]
     },
     "execution_count": 19,
     "metadata": {},
     "output_type": "execute_result"
    }
   ],
   "source": [
    "string[6:]"
   ]
  },
  {
   "cell_type": "code",
   "execution_count": 20,
   "id": "42d9e324",
   "metadata": {},
   "outputs": [
    {
     "name": "stdout",
     "output_type": "stream",
     "text": [
      "@1234\n"
     ]
    }
   ],
   "source": [
    "print(string[6:])"
   ]
  },
  {
   "cell_type": "code",
   "execution_count": 21,
   "id": "7d03b7f6",
   "metadata": {},
   "outputs": [
    {
     "data": {
      "text/plain": [
       "'4321@nohtup'"
      ]
     },
     "execution_count": 21,
     "metadata": {},
     "output_type": "execute_result"
    }
   ],
   "source": [
    "string[::-1]"
   ]
  },
  {
   "cell_type": "code",
   "execution_count": 24,
   "id": "e2b7936f",
   "metadata": {},
   "outputs": [
    {
     "name": "stdout",
     "output_type": "stream",
     "text": [
      "4321@nohtup\n"
     ]
    }
   ],
   "source": [
    "print(string[::-1])"
   ]
  },
  {
   "cell_type": "markdown",
   "id": "9de667ad",
   "metadata": {},
   "source": [
    "Task 9:\n",
    "\n",
    "a = \"123123123\"\n",
    "\n",
    "Apply slicing to extract only the numeric characters at odd positions.\n",
    "\n",
    "Print the sliced result."
   ]
  },
  {
   "cell_type": "code",
   "execution_count": 25,
   "id": "21d3e7bb",
   "metadata": {},
   "outputs": [],
   "source": [
    "a = \"123123123\""
   ]
  },
  {
   "cell_type": "code",
   "execution_count": 26,
   "id": "05471824",
   "metadata": {},
   "outputs": [
    {
     "data": {
      "text/plain": [
       "'13213'"
      ]
     },
     "execution_count": 26,
     "metadata": {},
     "output_type": "execute_result"
    }
   ],
   "source": [
    "result = a[0::2]  # for odd place we need step as 2 which means  index value are  0,2,4,5,6...\n",
    "a[0::2]"
   ]
  },
  {
   "cell_type": "code",
   "execution_count": 27,
   "id": "40354400",
   "metadata": {},
   "outputs": [
    {
     "name": "stdout",
     "output_type": "stream",
     "text": [
      "13213\n"
     ]
    }
   ],
   "source": [
    "print(result)"
   ]
  },
  {
   "cell_type": "code",
   "execution_count": null,
   "id": "65af4603",
   "metadata": {},
   "outputs": [],
   "source": []
  }
 ],
 "metadata": {
  "kernelspec": {
   "display_name": "Python 3 (ipykernel)",
   "language": "python",
   "name": "python3"
  },
  "language_info": {
   "codemirror_mode": {
    "name": "ipython",
    "version": 3
   },
   "file_extension": ".py",
   "mimetype": "text/x-python",
   "name": "python",
   "nbconvert_exporter": "python",
   "pygments_lexer": "ipython3",
   "version": "3.11.4"
  }
 },
 "nbformat": 4,
 "nbformat_minor": 5
}
