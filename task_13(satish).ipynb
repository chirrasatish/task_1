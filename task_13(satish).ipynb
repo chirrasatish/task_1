{
 "cells": [
  {
   "cell_type": "markdown",
   "id": "58f3927d",
   "metadata": {},
   "source": [
    "1.Write a function called \"add_numbers\" that takes two integers as input and returns their sum.\n",
    "\n",
    "2.Write a function called \"multiply_numbers\" that takes two integers as input and returns their product.\n",
    "\n",
    "3.Write a function called \"calculate_average\" that takes a list of numbers as input and returns the average of thosenumbers.\n",
    "\n",
    "4.Write a function called \"is_even\" that takes an integer as input and returns True if the number is even, and False otherwise.\n",
    "\n",
    "5.Write a function called \"reverse_string\" that takes a string as input and returns the reverse of that string.\n",
    "\n",
    "6.Write a function called \"count_vowels\" that takes a string as input and returns the number of vowels (a, e, i, o, u) in that string.\n",
    "\n",
    "7.Write a function called \"find_max\" that takes a list of numbers as input and returns the maximum value in that list.\n",
    "\n",
    "8.write a function called \"find_min\" that takes a list of numbers as input and returns the minimum value in that list.\n",
    "\n",
    " "
   ]
  },
  {
   "cell_type": "markdown",
   "id": "f99f58d7",
   "metadata": {},
   "source": [
    "1.Write a function called \"add_numbers\" that takes two integers as input and returns their sum"
   ]
  },
  {
   "cell_type": "code",
   "execution_count": 4,
   "id": "6a0386ba",
   "metadata": {},
   "outputs": [
    {
     "name": "stdout",
     "output_type": "stream",
     "text": [
      "Enter a number:10\n",
      "Enter a number:20\n",
      "30\n"
     ]
    }
   ],
   "source": [
    "a = int(input(\"Enter a number:\"))\n",
    "b = int(input('Enter a number:'))\n",
    "def add(a,b):\n",
    "    print(a+b)\n",
    "add(a,b)    "
   ]
  },
  {
   "cell_type": "markdown",
   "id": "b69cc871",
   "metadata": {},
   "source": [
    "2.Write a function called \"multiply_numbers\" that takes two integers as input and returns their product."
   ]
  },
  {
   "cell_type": "code",
   "execution_count": 5,
   "id": "10a71f1b",
   "metadata": {},
   "outputs": [
    {
     "name": "stdout",
     "output_type": "stream",
     "text": [
      "200\n"
     ]
    }
   ],
   "source": [
    "def multiply_numbers(a,b):\n",
    "    print(a*b)\n",
    "multiply_numbers(10,b=20)    "
   ]
  },
  {
   "cell_type": "markdown",
   "id": "6623389d",
   "metadata": {},
   "source": [
    "3.Write a function called \"calculate_average\" that takes a list of numbers as input and returns the average of thosenumbers."
   ]
  },
  {
   "cell_type": "code",
   "execution_count": null,
   "id": "c43f0fd6",
   "metadata": {},
   "outputs": [],
   "source": [
    "def calculate_average(a,b):\n",
    "    print()"
   ]
  },
  {
   "cell_type": "markdown",
   "id": "d0cb5114",
   "metadata": {},
   "source": [
    "4.Write a function called \"is_even\" that takes an integer as input and returns True if the number is even, and False otherwise."
   ]
  },
  {
   "cell_type": "code",
   "execution_count": 6,
   "id": "a8c54b0b",
   "metadata": {},
   "outputs": [
    {
     "name": "stdout",
     "output_type": "stream",
     "text": [
      "True\n"
     ]
    }
   ],
   "source": [
    "def is_even(a):\n",
    "    if (a%2==0):\n",
    "        print(\"True\")\n",
    "    else:\n",
    "        print(\"false\")\n",
    "        \n",
    "is_even(10)       "
   ]
  },
  {
   "cell_type": "markdown",
   "id": "20719699",
   "metadata": {},
   "source": [
    "5.Write a function called \"reverse_string\" that takes a string as input and returns the reverse of that string."
   ]
  },
  {
   "cell_type": "code",
   "execution_count": 10,
   "id": "0a9c40c7",
   "metadata": {},
   "outputs": [
    {
     "name": "stdout",
     "output_type": "stream",
     "text": [
      "hsitas\n"
     ]
    }
   ],
   "source": [
    "def reverse_string(a):\n",
    "    print(a[::-1])\n",
    "reverse_string('satish')    "
   ]
  },
  {
   "cell_type": "markdown",
   "id": "6aac7937",
   "metadata": {},
   "source": [
    "6.Write a function called \"count_vowels\" that takes a string as input and returns the number of vowels (a, e, i, o, u) in that string."
   ]
  },
  {
   "cell_type": "code",
   "execution_count": 23,
   "id": "42587c51",
   "metadata": {},
   "outputs": [
    {
     "name": "stdout",
     "output_type": "stream",
     "text": [
      "Enter a string::innomatics\n"
     ]
    }
   ],
   "source": [
    "a = input(\"Enter a string::\")\n",
    "vowels = ['a','e','i','o','u']\n",
    "count = []\n",
    "\n",
    "def count_vowels(a):\n",
    "    for i in a:\n",
    "        if i in vowels:\n",
    "            count.append(i)\n",
    "        print(\"vowels are :\",len(count))     "
   ]
  },
  {
   "cell_type": "code",
   "execution_count": 24,
   "id": "17bd4555",
   "metadata": {},
   "outputs": [
    {
     "name": "stdout",
     "output_type": "stream",
     "text": [
      "vowels are : 1\n",
      "vowels are : 1\n",
      "vowels are : 1\n",
      "vowels are : 2\n",
      "vowels are : 2\n",
      "vowels are : 3\n",
      "vowels are : 3\n",
      "vowels are : 4\n",
      "vowels are : 4\n",
      "vowels are : 4\n"
     ]
    }
   ],
   "source": [
    "count_vowels(a)"
   ]
  },
  {
   "cell_type": "markdown",
   "id": "ba52da79",
   "metadata": {},
   "source": [
    "7.Write a function called \"find_max\" that takes a list of numbers as input and returns the maximum value in that list."
   ]
  },
  {
   "cell_type": "code",
   "execution_count": 27,
   "id": "b4c52f79",
   "metadata": {},
   "outputs": [
    {
     "name": "stdout",
     "output_type": "stream",
     "text": [
      "4000\n"
     ]
    }
   ],
   "source": [
    "def find_max(a,b,c,d,e):\n",
    "    print(max(a,b,c,d,e))\n",
    "find_max(100,200,300,4000,500)    "
   ]
  },
  {
   "cell_type": "markdown",
   "id": "1d7291f1",
   "metadata": {},
   "source": [
    "8..write a function called \"find_min\" that takes a list of numbers as input and returns the minimum value in that list."
   ]
  },
  {
   "cell_type": "code",
   "execution_count": 28,
   "id": "278e7afc",
   "metadata": {},
   "outputs": [
    {
     "name": "stdout",
     "output_type": "stream",
     "text": [
      "10\n"
     ]
    }
   ],
   "source": [
    "def find_min(a):\n",
    "    a = [10,20,30,40]\n",
    "    print(min(a))\n",
    "find_min(a)    "
   ]
  },
  {
   "cell_type": "code",
   "execution_count": null,
   "id": "ea23ad40",
   "metadata": {},
   "outputs": [],
   "source": []
  }
 ],
 "metadata": {
  "kernelspec": {
   "display_name": "Python 3 (ipykernel)",
   "language": "python",
   "name": "python3"
  },
  "language_info": {
   "codemirror_mode": {
    "name": "ipython",
    "version": 3
   },
   "file_extension": ".py",
   "mimetype": "text/x-python",
   "name": "python",
   "nbconvert_exporter": "python",
   "pygments_lexer": "ipython3",
   "version": "3.11.4"
  }
 },
 "nbformat": 4,
 "nbformat_minor": 5
}
