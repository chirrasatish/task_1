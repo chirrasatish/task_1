{
 "cells": [
  {
   "cell_type": "markdown",
   "id": "854183ed",
   "metadata": {},
   "source": [
    "Task 1: Dictionary Basics Create a Python program that defines a dictionary to store information about your favorite book. Include the title, author, publication year, and genre as key-value pairs. Print out the dictionary.and do atleast 5 dictionary methods on it.\n",
    "\n",
    "Task 2: Dictionary Lookup Write a Python program that simulates a simple dictionary for translating English words to Spanish. Define a dictionary containing a few English words as keys and their corresponding Spanish translations as values. Allow users to enter an English word, and then display its Spanish translation if it exists in the dictionary.(use google for English to Spanish translator)\n",
    "\n",
    "Task 3: Student Grades Create a Python program that stores the grades of five students in a dictionary. Allow users to input the names of the students and their respective grades. Calculate and display the average grade of the students.\n",
    "\n",
    "Task 4: Contact List Build a basic contact list using a dictionary. Initially, the dictionary can be empty. Allow users to add new contacts with names and phone numbers. Users should also be able to search for contacts by name and display their phone numbers(use in operator).\n",
    "\n",
    "Task 5: Dictionary Iteration Write a Python program that defines a dictionary containing the names of fruits as keys and their corresponding colors as values (e.g., 'apple': 'red').Do atleast 5 dictionary methods on it.\n",
    "\n",
    "Task 1: Dictionary Basics Create a Python program that defines a dictionary to store information about your favorite book. Include the title, author, publication year, and genre as key-value pairs. Print out the dictionary.and do atleast 5 dictionary methods on it."
   ]
  },
  {
   "cell_type": "code",
   "execution_count": 1,
   "id": "6709f53b",
   "metadata": {},
   "outputs": [],
   "source": [
    "book = {\"Title\" : \"The Power of Your Subconscious mind\",\n",
    "        \"author\" : \"Dr. Joseph murphy\", \n",
    "        \"year\": \"2016\", \n",
    "        \"genre\": \"selfhelp\"}"
   ]
  },
  {
   "cell_type": "code",
   "execution_count": 2,
   "id": "61cb4873",
   "metadata": {},
   "outputs": [
    {
     "data": {
      "text/plain": [
       "{'Title': 'The Power of Your Subconscious mind',\n",
       " 'author': 'Dr. Joseph murphy',\n",
       " 'year': '2016',\n",
       " 'genre': 'selfhelp'}"
      ]
     },
     "execution_count": 2,
     "metadata": {},
     "output_type": "execute_result"
    }
   ],
   "source": [
    "book"
   ]
  },
  {
   "cell_type": "code",
   "execution_count": 3,
   "id": "f2420611",
   "metadata": {},
   "outputs": [
    {
     "data": {
      "text/plain": [
       "'The Power of Your Subconscious mind'"
      ]
     },
     "execution_count": 3,
     "metadata": {},
     "output_type": "execute_result"
    }
   ],
   "source": [
    "book.get(\"Title\")"
   ]
  },
  {
   "cell_type": "code",
   "execution_count": 4,
   "id": "397ae93d",
   "metadata": {},
   "outputs": [
    {
     "data": {
      "text/plain": [
       "dict_keys(['Title', 'author', 'year', 'genre'])"
      ]
     },
     "execution_count": 4,
     "metadata": {},
     "output_type": "execute_result"
    }
   ],
   "source": [
    "book.keys()"
   ]
  },
  {
   "cell_type": "code",
   "execution_count": 5,
   "id": "a81a252a",
   "metadata": {},
   "outputs": [
    {
     "data": {
      "text/plain": [
       "dict_items([('Title', 'The Power of Your Subconscious mind'), ('author', 'Dr. Joseph murphy'), ('year', '2016'), ('genre', 'selfhelp')])"
      ]
     },
     "execution_count": 5,
     "metadata": {},
     "output_type": "execute_result"
    }
   ],
   "source": [
    "book.items()"
   ]
  },
  {
   "cell_type": "code",
   "execution_count": 6,
   "id": "ac00028e",
   "metadata": {},
   "outputs": [],
   "source": [
    "book.update({\"rating \": \"5\"})"
   ]
  },
  {
   "cell_type": "code",
   "execution_count": 7,
   "id": "edd65588",
   "metadata": {},
   "outputs": [
    {
     "data": {
      "text/plain": [
       "{'Title': 'The Power of Your Subconscious mind',\n",
       " 'author': 'Dr. Joseph murphy',\n",
       " 'year': '2016',\n",
       " 'genre': 'selfhelp',\n",
       " 'rating ': '5'}"
      ]
     },
     "execution_count": 7,
     "metadata": {},
     "output_type": "execute_result"
    }
   ],
   "source": [
    "book\n"
   ]
  },
  {
   "cell_type": "code",
   "execution_count": 8,
   "id": "1c5b9840",
   "metadata": {},
   "outputs": [
    {
     "data": {
      "text/plain": [
       "dict_values(['The Power of Your Subconscious mind', 'Dr. Joseph murphy', '2016', 'selfhelp', '5'])"
      ]
     },
     "execution_count": 8,
     "metadata": {},
     "output_type": "execute_result"
    }
   ],
   "source": [
    "book.values()"
   ]
  },
  {
   "cell_type": "code",
   "execution_count": 9,
   "id": "99a26b2d",
   "metadata": {},
   "outputs": [
    {
     "data": {
      "text/plain": [
       "'10 million'"
      ]
     },
     "execution_count": 9,
     "metadata": {},
     "output_type": "execute_result"
    }
   ],
   "source": [
    "book.setdefault(\"sold\",\"10 million\")"
   ]
  },
  {
   "cell_type": "code",
   "execution_count": 10,
   "id": "c909d461",
   "metadata": {},
   "outputs": [
    {
     "data": {
      "text/plain": [
       "{'Title': 'The Power of Your Subconscious mind',\n",
       " 'author': 'Dr. Joseph murphy',\n",
       " 'year': '2016',\n",
       " 'genre': 'selfhelp',\n",
       " 'rating ': '5',\n",
       " 'sold': '10 million'}"
      ]
     },
     "execution_count": 10,
     "metadata": {},
     "output_type": "execute_result"
    }
   ],
   "source": [
    "book"
   ]
  },
  {
   "cell_type": "code",
   "execution_count": null,
   "id": "368b7309",
   "metadata": {},
   "outputs": [],
   "source": [
    "\n",
    "\n",
    "\n"
   ]
  },
  {
   "cell_type": "markdown",
   "id": "206ae405",
   "metadata": {},
   "source": [
    "Task 2: Dictionary Lookup Write a Python program that simulates a simple dictionary for translating English words to Spanish. Define a dictionary containing a few English words as keys and their corresponding Spanish translations as values. Allow users to enter an English word, and then display its Spanish translation if it exists in the dictionary.(use google for English to Spanish translator)"
   ]
  },
  {
   "cell_type": "code",
   "execution_count": 11,
   "id": "7660fe7c",
   "metadata": {},
   "outputs": [],
   "source": [
    "#method 1"
   ]
  },
  {
   "cell_type": "code",
   "execution_count": 2,
   "id": "9cface22",
   "metadata": {},
   "outputs": [],
   "source": [
    "english_spanish ={\n",
    "    \"hai\":\"hello\",\n",
    "    \"good morning\":\"buenos dias\",\n",
    "    \"beutifull\":\"hermoso\",\n",
    "    \"bye\":\"adios\"\n",
    "}"
   ]
  },
  {
   "cell_type": "code",
   "execution_count": 5,
   "id": "5648ccd3",
   "metadata": {},
   "outputs": [
    {
     "name": "stdout",
     "output_type": "stream",
     "text": [
      "Enter the english words :hai\n",
      "The translation of 'hai' is 'hello'.\n"
     ]
    }
   ],
   "source": [
    "translate =input(\"Enter the english words :\")\n",
    "\n",
    "if translate in english_spanish:\n",
    "    word = english_spanish[translate]\n",
    "    print(f\"The translation of '{translate}' is '{word}'.\" )\n",
    "\n",
    "else:\n",
    "    print(\"the word is not found\")"
   ]
  },
  {
   "cell_type": "code",
   "execution_count": 6,
   "id": "964af5c3",
   "metadata": {},
   "outputs": [],
   "source": [
    "# method 2"
   ]
  },
  {
   "cell_type": "code",
   "execution_count": 8,
   "id": "e19bcdbd",
   "metadata": {},
   "outputs": [],
   "source": [
    "words ={\n",
    "    \"hai\":\"hello\",\n",
    "    \"good morning\":\"buenos dias\",\n",
    "    \"beutifull\":\"hermoso\",\n",
    "    \"bye\":\"adios\"\n",
    "}"
   ]
  },
  {
   "cell_type": "code",
   "execution_count": 9,
   "id": "2863874e",
   "metadata": {},
   "outputs": [
    {
     "name": "stdout",
     "output_type": "stream",
     "text": [
      "Enter an english word :hai\n"
     ]
    },
    {
     "data": {
      "text/plain": [
       "'hello'"
      ]
     },
     "execution_count": 9,
     "metadata": {},
     "output_type": "execute_result"
    }
   ],
   "source": [
    "translate = input(\"Enter an english word :\")\n",
    "words.get(translate)"
   ]
  },
  {
   "cell_type": "markdown",
   "id": "219181f8",
   "metadata": {},
   "source": [
    "Task 3: Student Grades Create a Python program that stores the grades of five students in a dictionary. Allow users to input the names of the students and their respective grades. Calculate and display the average grade of the students."
   ]
  },
  {
   "cell_type": "code",
   "execution_count": 11,
   "id": "bb908fe8",
   "metadata": {},
   "outputs": [
    {
     "name": "stdout",
     "output_type": "stream",
     "text": [
      "Enter the name of the student1 :sai\n",
      "Enter the marks of the student1 :95\n",
      "Enter the name of the student2 :nani\n",
      "Enter the marks of the student2 :88\n",
      "Enter the name of the student3 : shiva sai\n",
      "Enter the marks of the student3 : 85\n",
      "Enter the name of the student4 : khani\n",
      "Enter the marks of the student4 : 80\n",
      "Enter the name of the student5 : satish\n",
      "Enter the marks of the student5 :99\n"
     ]
    }
   ],
   "source": [
    "student = {}\n",
    "name1 = input(\"Enter the name of the student1 :\")\n",
    "grade1 = int(input(\"Enter the marks of the student1 :\"))\n",
    "name2 = input(\"Enter the name of the student2 :\")\n",
    "grade2 = int(input(\"Enter the marks of the student2 :\"))\n",
    "name3 = input(\"Enter the name of the student3 : \")\n",
    "grade3 = int(input(\"Enter the marks of the student3 : \"))\n",
    "name4 = input(\"Enter the name of the student4 : \")\n",
    "grade4 = int(input(\"Enter the marks of the student4 : \"))\n",
    "name5 = input(\"Enter the name of the student5 : \")\n",
    "grade5 = int(input(\"Enter the marks of the student5 :\"))"
   ]
  },
  {
   "cell_type": "code",
   "execution_count": 16,
   "id": "5921dd98",
   "metadata": {},
   "outputs": [],
   "source": [
    "name =[name1,name2,name3,name4,name5]\n",
    "grades = [grade1,grade2,grade3,grade4,grade5]\n",
    "students = dict(zip(name,grades))"
   ]
  },
  {
   "cell_type": "code",
   "execution_count": 17,
   "id": "95a54457",
   "metadata": {},
   "outputs": [
    {
     "data": {
      "text/plain": [
       "{'sai': 95, 'nani': 88, 'shiva sai': 85, 'khani': 80, 'satish': 99}"
      ]
     },
     "execution_count": 17,
     "metadata": {},
     "output_type": "execute_result"
    }
   ],
   "source": [
    "students"
   ]
  },
  {
   "cell_type": "code",
   "execution_count": 18,
   "id": "81a7f1eb",
   "metadata": {},
   "outputs": [],
   "source": [
    "total = sum(grades)"
   ]
  },
  {
   "cell_type": "code",
   "execution_count": 19,
   "id": "37ac0b51",
   "metadata": {},
   "outputs": [
    {
     "data": {
      "text/plain": [
       "447"
      ]
     },
     "execution_count": 19,
     "metadata": {},
     "output_type": "execute_result"
    }
   ],
   "source": [
    "total"
   ]
  },
  {
   "cell_type": "code",
   "execution_count": 20,
   "id": "13423bdf",
   "metadata": {},
   "outputs": [
    {
     "data": {
      "text/plain": [
       "5"
      ]
     },
     "execution_count": 20,
     "metadata": {},
     "output_type": "execute_result"
    }
   ],
   "source": [
    "len(grades)"
   ]
  },
  {
   "cell_type": "code",
   "execution_count": 22,
   "id": "225db429",
   "metadata": {},
   "outputs": [],
   "source": [
    "average = total/len(grades)"
   ]
  },
  {
   "cell_type": "code",
   "execution_count": 23,
   "id": "2417fc1b",
   "metadata": {},
   "outputs": [
    {
     "data": {
      "text/plain": [
       "89.4"
      ]
     },
     "execution_count": 23,
     "metadata": {},
     "output_type": "execute_result"
    }
   ],
   "source": [
    "average"
   ]
  },
  {
   "cell_type": "code",
   "execution_count": null,
   "id": "f1d69337",
   "metadata": {},
   "outputs": [],
   "source": []
  },
  {
   "cell_type": "markdown",
   "id": "2c6c26dd",
   "metadata": {},
   "source": [
    "Task 4: Contact List Build a basic contact list using a dictionary. Initially, the dictionary can be empty. Allow users to add new contacts with names and phone numbers. Users should also be able to search for contacts by name and display their phone numbers(use in operator).`"
   ]
  },
  {
   "cell_type": "code",
   "execution_count": 2,
   "id": "e034e975",
   "metadata": {},
   "outputs": [
    {
     "name": "stdout",
     "output_type": "stream",
     "text": [
      "enter the contacts name1: satish\n",
      "enter the contacts phone number1: 9177936222\n",
      "enter the contacts name2: ashmi\n",
      "enter the contacts phone number2: 9515867106\n",
      "enter the contacts name3: mom\n",
      "enter the contacts phone number3: 9177438359\n",
      "enter the contacts name4: dad\n",
      "enter the contacts phone number4: 8297767284\n"
     ]
    }
   ],
   "source": [
    "contacts = {}\n",
    "name1 = input(\"enter the contacts name1: \")\n",
    "phone_number1 = int(input(\"enter the contacts phone number1: \"))\n",
    "name2 = input(\"enter the contacts name2: \")\n",
    "phone_number2 = int(input(\"enter the contacts phone number2: \"))\n",
    "name3 = input(\"enter the contacts name3: \")\n",
    "phone_number3 = int(input(\"enter the contacts phone number3: \"))\n",
    "name4 = input(\"enter the contacts name4: \")\n",
    "phone_number4 = int(input(\"enter the contacts phone number4: \"))"
   ]
  },
  {
   "cell_type": "code",
   "execution_count": 3,
   "id": "445823d6",
   "metadata": {},
   "outputs": [
    {
     "data": {
      "text/plain": [
       "{'satish': 9177936222,\n",
       " 'ashmi': 9515867106,\n",
       " 'mom': 9177438359,\n",
       " 'dad': 8297767284}"
      ]
     },
     "execution_count": 3,
     "metadata": {},
     "output_type": "execute_result"
    }
   ],
   "source": [
    "contacts[name1] = phone_number1\n",
    "contacts[name2] = phone_number2\n",
    "contacts[name3] = phone_number3\n",
    "contacts[name4] = phone_number4\n",
    "contacts"
   ]
  },
  {
   "cell_type": "code",
   "execution_count": 4,
   "id": "5b25b1c9",
   "metadata": {},
   "outputs": [
    {
     "data": {
      "text/plain": [
       "{'satish': 9177936222,\n",
       " 'ashmi': 9515867106,\n",
       " 'mom': 9177438359,\n",
       " 'dad': 8297767284}"
      ]
     },
     "execution_count": 4,
     "metadata": {},
     "output_type": "execute_result"
    }
   ],
   "source": [
    "contacts"
   ]
  },
  {
   "cell_type": "code",
   "execution_count": 10,
   "id": "7833d9c9",
   "metadata": {},
   "outputs": [
    {
     "data": {
      "text/plain": [
       "False"
      ]
     },
     "execution_count": 10,
     "metadata": {},
     "output_type": "execute_result"
    }
   ],
   "source": [
    "\"9177936222\" in contacts"
   ]
  },
  {
   "cell_type": "code",
   "execution_count": 11,
   "id": "7f9e3b7b",
   "metadata": {},
   "outputs": [
    {
     "data": {
      "text/plain": [
       "True"
      ]
     },
     "execution_count": 11,
     "metadata": {},
     "output_type": "execute_result"
    }
   ],
   "source": [
    "\"ashmi\" in contacts"
   ]
  },
  {
   "cell_type": "code",
   "execution_count": 12,
   "id": "789fd1bc",
   "metadata": {},
   "outputs": [
    {
     "data": {
      "text/plain": [
       "True"
      ]
     },
     "execution_count": 12,
     "metadata": {},
     "output_type": "execute_result"
    }
   ],
   "source": [
    "\"satish\" in contacts"
   ]
  },
  {
   "cell_type": "code",
   "execution_count": 13,
   "id": "042344fe",
   "metadata": {},
   "outputs": [
    {
     "name": "stdout",
     "output_type": "stream",
     "text": [
      "Enter the name:ashmi\n"
     ]
    },
    {
     "data": {
      "text/plain": [
       "9515867106"
      ]
     },
     "execution_count": 13,
     "metadata": {},
     "output_type": "execute_result"
    }
   ],
   "source": [
    "find = input(\"Enter the name:\")\n",
    "contacts[find]"
   ]
  },
  {
   "cell_type": "code",
   "execution_count": null,
   "id": "54e156e4",
   "metadata": {},
   "outputs": [],
   "source": []
  },
  {
   "cell_type": "markdown",
   "id": "8f690781",
   "metadata": {},
   "source": [
    "Task 5: Dictionary Iteration Write a Python program that defines a dictionary containing the names of fruits as keys and their corresponding colors as values (e.g., 'apple': 'red').Do atleast 5 dictionary methods on it."
   ]
  },
  {
   "cell_type": "code",
   "execution_count": 3,
   "id": "9bb79f16",
   "metadata": {},
   "outputs": [],
   "source": [
    "dict = {'jackfruit':'white', 'orange': 'orange','kiwi': 'green', 'banana': 'yellow','apple': 'red'}"
   ]
  },
  {
   "cell_type": "code",
   "execution_count": 4,
   "id": "6e2fc5a8",
   "metadata": {},
   "outputs": [
    {
     "data": {
      "text/plain": [
       "{'jackfruit': 'white',\n",
       " 'orange': 'orange',\n",
       " 'kiwi': 'green',\n",
       " 'banana': 'yellow',\n",
       " 'apple': 'red'}"
      ]
     },
     "execution_count": 4,
     "metadata": {},
     "output_type": "execute_result"
    }
   ],
   "source": [
    "dict"
   ]
  },
  {
   "cell_type": "code",
   "execution_count": 5,
   "id": "cda41e8a",
   "metadata": {},
   "outputs": [
    {
     "data": {
      "text/plain": [
       "'white'"
      ]
     },
     "execution_count": 5,
     "metadata": {},
     "output_type": "execute_result"
    }
   ],
   "source": [
    "dict[\"jackfruit\"]"
   ]
  },
  {
   "cell_type": "code",
   "execution_count": 6,
   "id": "e78fd849",
   "metadata": {},
   "outputs": [
    {
     "data": {
      "text/plain": [
       "'red'"
      ]
     },
     "execution_count": 6,
     "metadata": {},
     "output_type": "execute_result"
    }
   ],
   "source": [
    "dict.get(\"apple\")"
   ]
  },
  {
   "cell_type": "code",
   "execution_count": 7,
   "id": "563905c9",
   "metadata": {},
   "outputs": [
    {
     "data": {
      "text/plain": [
       "dict_keys(['jackfruit', 'orange', 'kiwi', 'banana', 'apple'])"
      ]
     },
     "execution_count": 7,
     "metadata": {},
     "output_type": "execute_result"
    }
   ],
   "source": [
    "dict.keys()"
   ]
  },
  {
   "cell_type": "code",
   "execution_count": 8,
   "id": "66d3d5a3",
   "metadata": {},
   "outputs": [
    {
     "data": {
      "text/plain": [
       "dict_values(['white', 'orange', 'green', 'yellow', 'red'])"
      ]
     },
     "execution_count": 8,
     "metadata": {},
     "output_type": "execute_result"
    }
   ],
   "source": [
    "dict.values()"
   ]
  },
  {
   "cell_type": "code",
   "execution_count": 9,
   "id": "b8e5628e",
   "metadata": {},
   "outputs": [
    {
     "data": {
      "text/plain": [
       "'yellow'"
      ]
     },
     "execution_count": 9,
     "metadata": {},
     "output_type": "execute_result"
    }
   ],
   "source": [
    "dict.pop(\"banana\")"
   ]
  },
  {
   "cell_type": "code",
   "execution_count": 10,
   "id": "ac901486",
   "metadata": {},
   "outputs": [
    {
     "data": {
      "text/plain": [
       "{'jackfruit': 'white', 'orange': 'orange', 'kiwi': 'green', 'apple': 'red'}"
      ]
     },
     "execution_count": 10,
     "metadata": {},
     "output_type": "execute_result"
    }
   ],
   "source": [
    "dict"
   ]
  },
  {
   "cell_type": "code",
   "execution_count": 11,
   "id": "d6f4124f",
   "metadata": {},
   "outputs": [],
   "source": [
    "dict.update({\"papaya\" : \"dark orange\"})"
   ]
  },
  {
   "cell_type": "code",
   "execution_count": 12,
   "id": "b56c1bb8",
   "metadata": {},
   "outputs": [
    {
     "data": {
      "text/plain": [
       "{'jackfruit': 'white',\n",
       " 'orange': 'orange',\n",
       " 'kiwi': 'green',\n",
       " 'apple': 'red',\n",
       " 'papaya': 'dark orange'}"
      ]
     },
     "execution_count": 12,
     "metadata": {},
     "output_type": "execute_result"
    }
   ],
   "source": [
    "dict"
   ]
  },
  {
   "cell_type": "code",
   "execution_count": null,
   "id": "744b3586",
   "metadata": {},
   "outputs": [],
   "source": []
  }
 ],
 "metadata": {
  "kernelspec": {
   "display_name": "Python 3 (ipykernel)",
   "language": "python",
   "name": "python3"
  },
  "language_info": {
   "codemirror_mode": {
    "name": "ipython",
    "version": 3
   },
   "file_extension": ".py",
   "mimetype": "text/x-python",
   "name": "python",
   "nbconvert_exporter": "python",
   "pygments_lexer": "ipython3",
   "version": "3.11.4"
  }
 },
 "nbformat": 4,
 "nbformat_minor": 5
}
