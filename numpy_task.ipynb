{
 "cells": [
  {
   "cell_type": "markdown",
   "id": "5ef416be",
   "metadata": {},
   "source": [
    " 1.Write a python code to create a array in different ways"
   ]
  },
  {
   "cell_type": "code",
   "execution_count": 1,
   "id": "21161386",
   "metadata": {},
   "outputs": [],
   "source": [
    "import numpy as np"
   ]
  },
  {
   "cell_type": "code",
   "execution_count": 2,
   "id": "3a43ed08",
   "metadata": {},
   "outputs": [
    {
     "data": {
      "text/plain": [
       "array([10, 20, 30, 40, 50, 60, 70, 80])"
      ]
     },
     "execution_count": 2,
     "metadata": {},
     "output_type": "execute_result"
    }
   ],
   "source": [
    "arr = np.array([10,20,30,40,50,60,70,80])\n",
    "arr"
   ]
  },
  {
   "cell_type": "code",
   "execution_count": 3,
   "id": "7ad762ce",
   "metadata": {},
   "outputs": [
    {
     "data": {
      "text/plain": [
       "numpy.ndarray"
      ]
     },
     "execution_count": 3,
     "metadata": {},
     "output_type": "execute_result"
    }
   ],
   "source": [
    "type(arr)"
   ]
  },
  {
   "cell_type": "code",
   "execution_count": 4,
   "id": "8e068fe1",
   "metadata": {},
   "outputs": [
    {
     "data": {
      "text/plain": [
       "array([11, 12, 13, 14, 15, 16, 17, 18])"
      ]
     },
     "execution_count": 4,
     "metadata": {},
     "output_type": "execute_result"
    }
   ],
   "source": [
    "# for tup\n",
    "tup = (11,12,13,14,15,16,17,18)\n",
    "arr1 = np.array(tup)\n",
    "arr1"
   ]
  },
  {
   "cell_type": "code",
   "execution_count": 6,
   "id": "c2dbbad3",
   "metadata": {},
   "outputs": [
    {
     "data": {
      "text/plain": [
       "array([11, 21, 31, 41, 51, 61, 71, 81])"
      ]
     },
     "execution_count": 6,
     "metadata": {},
     "output_type": "execute_result"
    }
   ],
   "source": [
    "# for list\n",
    "list1 = [11,21,31,41,51,61,71,81]\n",
    "arr3 = np.array(list1)\n",
    "arr3"
   ]
  },
  {
   "cell_type": "markdown",
   "id": "c0b73ff2",
   "metadata": {},
   "source": [
    "2.Array Creation:\n",
    "\n",
    "a. Create a 1D Numpy array containing the first 12 positive integers as arr1.\n",
    "\n",
    "b. Create a 1D Numpy array1 with 20 elements containing integers between 0 and 12 using linspace."
   ]
  },
  {
   "cell_type": "code",
   "execution_count": 7,
   "id": "46af89c9",
   "metadata": {},
   "outputs": [
    {
     "data": {
      "text/plain": [
       "array([ 1,  2,  3,  4,  5,  6,  7,  8,  9, 10, 11, 12])"
      ]
     },
     "execution_count": 7,
     "metadata": {},
     "output_type": "execute_result"
    }
   ],
   "source": [
    "# a\n",
    "arry = np.arange(1,13)\n",
    "arry"
   ]
  },
  {
   "cell_type": "code",
   "execution_count": 8,
   "id": "3d39a39f",
   "metadata": {},
   "outputs": [
    {
     "data": {
      "text/plain": [
       "array([ 1.        ,  3.07142857,  5.14285714,  7.21428571,  9.28571429,\n",
       "       11.35714286, 13.42857143, 15.5       , 17.57142857, 19.64285714,\n",
       "       21.71428571, 23.78571429, 25.85714286, 27.92857143, 30.        ])"
      ]
     },
     "execution_count": 8,
     "metadata": {},
     "output_type": "execute_result"
    }
   ],
   "source": [
    "# b\n",
    "arry1 = np.linspace(1,30,15)\n",
    "arry1"
   ]
  },
  {
   "cell_type": "markdown",
   "id": "f6a40ce5",
   "metadata": {},
   "source": [
    "3. Find all atrributes of array1 and array2."
   ]
  },
  {
   "cell_type": "code",
   "execution_count": 10,
   "id": "629686e4",
   "metadata": {},
   "outputs": [
    {
     "data": {
      "text/plain": [
       "array([ 1,  2,  3,  4,  5,  6,  7,  8,  9, 10, 11, 12])"
      ]
     },
     "execution_count": 10,
     "metadata": {},
     "output_type": "execute_result"
    }
   ],
   "source": [
    "array1 = np.arange(1,13)\n",
    "array1"
   ]
  },
  {
   "cell_type": "code",
   "execution_count": 11,
   "id": "6eae6584",
   "metadata": {},
   "outputs": [
    {
     "data": {
      "text/plain": [
       "array([ 1.        ,  3.07142857,  5.14285714,  7.21428571,  9.28571429,\n",
       "       11.35714286, 13.42857143, 15.5       , 17.57142857, 19.64285714,\n",
       "       21.71428571, 23.78571429, 25.85714286, 27.92857143, 30.        ])"
      ]
     },
     "execution_count": 11,
     "metadata": {},
     "output_type": "execute_result"
    }
   ],
   "source": [
    "array2 = np.linspace(1,30,15)\n",
    "array2"
   ]
  },
  {
   "cell_type": "code",
   "execution_count": 12,
   "id": "c58cc0a8",
   "metadata": {},
   "outputs": [
    {
     "data": {
      "text/plain": [
       "dtype('int32')"
      ]
     },
     "execution_count": 12,
     "metadata": {},
     "output_type": "execute_result"
    }
   ],
   "source": [
    "# Attributes of array1\n",
    "array1.dtype      #the datatype of values in the array"
   ]
  },
  {
   "cell_type": "code",
   "execution_count": 13,
   "id": "8971cc0e",
   "metadata": {},
   "outputs": [
    {
     "data": {
      "text/plain": [
       "1"
      ]
     },
     "execution_count": 13,
     "metadata": {},
     "output_type": "execute_result"
    }
   ],
   "source": [
    "array1.ndim           #the dimension of the array1"
   ]
  },
  {
   "cell_type": "code",
   "execution_count": 14,
   "id": "aa093fb7",
   "metadata": {},
   "outputs": [
    {
     "data": {
      "text/plain": [
       "12"
      ]
     },
     "execution_count": 14,
     "metadata": {},
     "output_type": "execute_result"
    }
   ],
   "source": [
    "array1.size           #number of elements in the array "
   ]
  },
  {
   "cell_type": "code",
   "execution_count": 15,
   "id": "6cc7156b",
   "metadata": {},
   "outputs": [
    {
     "data": {
      "text/plain": [
       "48"
      ]
     },
     "execution_count": 15,
     "metadata": {},
     "output_type": "execute_result"
    }
   ],
   "source": [
    "array1.nbytes          #the space occupied by all the elements"
   ]
  },
  {
   "cell_type": "code",
   "execution_count": 16,
   "id": "d87c068a",
   "metadata": {},
   "outputs": [
    {
     "data": {
      "text/plain": [
       "4"
      ]
     },
     "execution_count": 16,
     "metadata": {},
     "output_type": "execute_result"
    }
   ],
   "source": [
    "array1.itemsize          #the space occupied by the single element."
   ]
  },
  {
   "cell_type": "code",
   "execution_count": 17,
   "id": "26495ab2",
   "metadata": {},
   "outputs": [
    {
     "data": {
      "text/plain": [
       "dtype('float64')"
      ]
     },
     "execution_count": 17,
     "metadata": {},
     "output_type": "execute_result"
    }
   ],
   "source": [
    "# Attributes of array2\n",
    "array2.dtype"
   ]
  },
  {
   "cell_type": "code",
   "execution_count": 18,
   "id": "edea32c2",
   "metadata": {},
   "outputs": [
    {
     "data": {
      "text/plain": [
       "1"
      ]
     },
     "execution_count": 18,
     "metadata": {},
     "output_type": "execute_result"
    }
   ],
   "source": [
    "array2.ndim"
   ]
  },
  {
   "cell_type": "code",
   "execution_count": 19,
   "id": "147dc8ad",
   "metadata": {},
   "outputs": [
    {
     "data": {
      "text/plain": [
       "15"
      ]
     },
     "execution_count": 19,
     "metadata": {},
     "output_type": "execute_result"
    }
   ],
   "source": [
    "array2.size"
   ]
  },
  {
   "cell_type": "code",
   "execution_count": 20,
   "id": "3c710074",
   "metadata": {},
   "outputs": [
    {
     "data": {
      "text/plain": [
       "120"
      ]
     },
     "execution_count": 20,
     "metadata": {},
     "output_type": "execute_result"
    }
   ],
   "source": [
    "array2.nbytes"
   ]
  },
  {
   "cell_type": "code",
   "execution_count": 21,
   "id": "5a420091",
   "metadata": {},
   "outputs": [
    {
     "data": {
      "text/plain": [
       "8"
      ]
     },
     "execution_count": 21,
     "metadata": {},
     "output_type": "execute_result"
    }
   ],
   "source": [
    "array2.itemsize"
   ]
  },
  {
   "cell_type": "markdown",
   "id": "a98522cb",
   "metadata": {},
   "source": [
    "4.Apply measure and describe the data to above arrays usind Numpy."
   ]
  },
  {
   "cell_type": "code",
   "execution_count": 22,
   "id": "6566372d",
   "metadata": {},
   "outputs": [
    {
     "data": {
      "text/plain": [
       "array([ 1,  2,  3,  4,  5,  6,  7,  8,  9, 10, 11, 12])"
      ]
     },
     "execution_count": 22,
     "metadata": {},
     "output_type": "execute_result"
    }
   ],
   "source": [
    "array1"
   ]
  },
  {
   "cell_type": "markdown",
   "id": "2c5e6349",
   "metadata": {},
   "source": [
    "# Measure of central tendency for array1"
   ]
  },
  {
   "cell_type": "code",
   "execution_count": 23,
   "id": "791a12ae",
   "metadata": {},
   "outputs": [
    {
     "data": {
      "text/plain": [
       "6.5"
      ]
     },
     "execution_count": 23,
     "metadata": {},
     "output_type": "execute_result"
    }
   ],
   "source": [
    "array1.mean()"
   ]
  },
  {
   "cell_type": "code",
   "execution_count": 24,
   "id": "a1b95257",
   "metadata": {},
   "outputs": [
    {
     "data": {
      "text/plain": [
       "6.5"
      ]
     },
     "execution_count": 24,
     "metadata": {},
     "output_type": "execute_result"
    }
   ],
   "source": [
    "np.median(array1)"
   ]
  },
  {
   "cell_type": "markdown",
   "id": "e30026b5",
   "metadata": {},
   "source": [
    "# Measure of spread of array1"
   ]
  },
  {
   "cell_type": "code",
   "execution_count": 26,
   "id": "fed6f672",
   "metadata": {},
   "outputs": [
    {
     "data": {
      "text/plain": [
       "11"
      ]
     },
     "execution_count": 26,
     "metadata": {},
     "output_type": "execute_result"
    }
   ],
   "source": [
    "# range\n",
    "range1 = np.max(array1)-np.min(array1)\n",
    "range1"
   ]
  },
  {
   "cell_type": "code",
   "execution_count": 27,
   "id": "ae9c6be7",
   "metadata": {},
   "outputs": [
    {
     "data": {
      "text/plain": [
       "3.452052529534663"
      ]
     },
     "execution_count": 27,
     "metadata": {},
     "output_type": "execute_result"
    }
   ],
   "source": [
    "# std\n",
    "np.std(array1)"
   ]
  },
  {
   "cell_type": "code",
   "execution_count": 28,
   "id": "4a0323db",
   "metadata": {},
   "outputs": [
    {
     "data": {
      "text/plain": [
       "11.916666666666666"
      ]
     },
     "execution_count": 28,
     "metadata": {},
     "output_type": "execute_result"
    }
   ],
   "source": [
    "# varince\n",
    "np.var(array1)"
   ]
  },
  {
   "cell_type": "markdown",
   "id": "7ba1fb71",
   "metadata": {},
   "source": [
    "###  IQR of array1"
   ]
  },
  {
   "cell_type": "code",
   "execution_count": 29,
   "id": "c969edb2",
   "metadata": {},
   "outputs": [
    {
     "data": {
      "text/plain": [
       "array([ 1,  2,  3,  4,  5,  6,  7,  8,  9, 10, 11, 12])"
      ]
     },
     "execution_count": 29,
     "metadata": {},
     "output_type": "execute_result"
    }
   ],
   "source": [
    "array1"
   ]
  },
  {
   "cell_type": "code",
   "execution_count": 32,
   "id": "e57f69cb",
   "metadata": {},
   "outputs": [
    {
     "data": {
      "text/plain": [
       "9.25"
      ]
     },
     "execution_count": 32,
     "metadata": {},
     "output_type": "execute_result"
    }
   ],
   "source": [
    "q3 = np.percentile(array1,75)\n",
    "q3"
   ]
  },
  {
   "cell_type": "code",
   "execution_count": 33,
   "id": "8bf5dbbd",
   "metadata": {},
   "outputs": [
    {
     "data": {
      "text/plain": [
       "3.75"
      ]
     },
     "execution_count": 33,
     "metadata": {},
     "output_type": "execute_result"
    }
   ],
   "source": [
    "q1 = np.percentile(array1,25)\n",
    "q1"
   ]
  },
  {
   "cell_type": "code",
   "execution_count": 34,
   "id": "895f36aa",
   "metadata": {},
   "outputs": [
    {
     "data": {
      "text/plain": [
       "5.5"
      ]
     },
     "execution_count": 34,
     "metadata": {},
     "output_type": "execute_result"
    }
   ],
   "source": [
    "IQR = q3-q1\n",
    "IQR"
   ]
  },
  {
   "cell_type": "markdown",
   "id": "bd062686",
   "metadata": {},
   "source": [
    "# find outlier"
   ]
  },
  {
   "cell_type": "code",
   "execution_count": 35,
   "id": "bbb66b2d",
   "metadata": {},
   "outputs": [
    {
     "data": {
      "text/plain": [
       "-4.5"
      ]
     },
     "execution_count": 35,
     "metadata": {},
     "output_type": "execute_result"
    }
   ],
   "source": [
    "lower_limit = q1-(1.5*IQR)\n",
    "lower_limit"
   ]
  },
  {
   "cell_type": "code",
   "execution_count": 36,
   "id": "bf5a30b3",
   "metadata": {},
   "outputs": [
    {
     "data": {
      "text/plain": [
       "17.5"
      ]
     },
     "execution_count": 36,
     "metadata": {},
     "output_type": "execute_result"
    }
   ],
   "source": [
    "upper_limit = q3+(1.5*IQR)\n",
    "upper_limit"
   ]
  },
  {
   "cell_type": "code",
   "execution_count": 37,
   "id": "5e448ab7",
   "metadata": {},
   "outputs": [
    {
     "data": {
      "text/plain": [
       "array([False, False, False, False, False, False, False, False, False,\n",
       "       False, False, False])"
      ]
     },
     "execution_count": 37,
     "metadata": {},
     "output_type": "execute_result"
    }
   ],
   "source": [
    "array1>upper_limit"
   ]
  },
  {
   "cell_type": "code",
   "execution_count": 38,
   "id": "3152d93d",
   "metadata": {},
   "outputs": [
    {
     "data": {
      "text/plain": [
       "array([False, False, False, False, False, False, False, False, False,\n",
       "       False, False, False])"
      ]
     },
     "execution_count": 38,
     "metadata": {},
     "output_type": "execute_result"
    }
   ],
   "source": [
    "array1<lower_limit"
   ]
  },
  {
   "cell_type": "markdown",
   "id": "0e33b041",
   "metadata": {},
   "source": [
    "# Measure of central tendency for array1"
   ]
  },
  {
   "cell_type": "code",
   "execution_count": 40,
   "id": "1200309c",
   "metadata": {},
   "outputs": [
    {
     "data": {
      "text/plain": [
       "array([ 1.        ,  3.07142857,  5.14285714,  7.21428571,  9.28571429,\n",
       "       11.35714286, 13.42857143, 15.5       , 17.57142857, 19.64285714,\n",
       "       21.71428571, 23.78571429, 25.85714286, 27.92857143, 30.        ])"
      ]
     },
     "execution_count": 40,
     "metadata": {},
     "output_type": "execute_result"
    }
   ],
   "source": [
    "array2"
   ]
  },
  {
   "cell_type": "code",
   "execution_count": 41,
   "id": "c3b781f9",
   "metadata": {},
   "outputs": [
    {
     "data": {
      "text/plain": [
       "15.5"
      ]
     },
     "execution_count": 41,
     "metadata": {},
     "output_type": "execute_result"
    }
   ],
   "source": [
    "np.mean(array2)"
   ]
  },
  {
   "cell_type": "code",
   "execution_count": 42,
   "id": "ea62146f",
   "metadata": {},
   "outputs": [
    {
     "data": {
      "text/plain": [
       "15.500000000000002"
      ]
     },
     "execution_count": 42,
     "metadata": {},
     "output_type": "execute_result"
    }
   ],
   "source": [
    "np.median(array2)"
   ]
  },
  {
   "cell_type": "markdown",
   "id": "6fb47f38",
   "metadata": {},
   "source": [
    "# Measure of spread"
   ]
  },
  {
   "cell_type": "code",
   "execution_count": 44,
   "id": "631fa8eb",
   "metadata": {},
   "outputs": [
    {
     "data": {
      "text/plain": [
       "29.0"
      ]
     },
     "execution_count": 44,
     "metadata": {},
     "output_type": "execute_result"
    }
   ],
   "source": [
    "range2  =np.max(array2)-np.min(array2)\n",
    "range2"
   ]
  },
  {
   "cell_type": "code",
   "execution_count": 45,
   "id": "a073aa4a",
   "metadata": {},
   "outputs": [
    {
     "data": {
      "text/plain": [
       "80.09523809523812"
      ]
     },
     "execution_count": 45,
     "metadata": {},
     "output_type": "execute_result"
    }
   ],
   "source": [
    "np.var(array2)"
   ]
  },
  {
   "cell_type": "code",
   "execution_count": 46,
   "id": "725da031",
   "metadata": {},
   "outputs": [
    {
     "data": {
      "text/plain": [
       "8.949594297801331"
      ]
     },
     "execution_count": 46,
     "metadata": {},
     "output_type": "execute_result"
    }
   ],
   "source": [
    "np.std(array2)"
   ]
  },
  {
   "cell_type": "markdown",
   "id": "5c9d1214",
   "metadata": {},
   "source": [
    "# IQR"
   ]
  },
  {
   "cell_type": "code",
   "execution_count": 47,
   "id": "7f27181e",
   "metadata": {},
   "outputs": [
    {
     "data": {
      "text/plain": [
       "22.75"
      ]
     },
     "execution_count": 47,
     "metadata": {},
     "output_type": "execute_result"
    }
   ],
   "source": [
    "q3 = np.percentile(array2,75)\n",
    "q3"
   ]
  },
  {
   "cell_type": "code",
   "execution_count": 48,
   "id": "77050f07",
   "metadata": {},
   "outputs": [
    {
     "data": {
      "text/plain": [
       "8.25"
      ]
     },
     "execution_count": 48,
     "metadata": {},
     "output_type": "execute_result"
    }
   ],
   "source": [
    "q1 = np.percentile(array2,25)\n",
    "q1"
   ]
  },
  {
   "cell_type": "code",
   "execution_count": 49,
   "id": "f4cd2102",
   "metadata": {},
   "outputs": [
    {
     "data": {
      "text/plain": [
       "14.5"
      ]
     },
     "execution_count": 49,
     "metadata": {},
     "output_type": "execute_result"
    }
   ],
   "source": [
    "IQR = q3-q1\n",
    "IQR"
   ]
  },
  {
   "cell_type": "markdown",
   "id": "974dbe9e",
   "metadata": {},
   "source": [
    "# find outlier of array2"
   ]
  },
  {
   "cell_type": "code",
   "execution_count": 50,
   "id": "0713a508",
   "metadata": {},
   "outputs": [
    {
     "data": {
      "text/plain": [
       "array([ 1.        ,  3.07142857,  5.14285714,  7.21428571,  9.28571429,\n",
       "       11.35714286, 13.42857143, 15.5       , 17.57142857, 19.64285714,\n",
       "       21.71428571, 23.78571429, 25.85714286, 27.92857143, 30.        ])"
      ]
     },
     "execution_count": 50,
     "metadata": {},
     "output_type": "execute_result"
    }
   ],
   "source": [
    "array2"
   ]
  },
  {
   "cell_type": "code",
   "execution_count": 51,
   "id": "1f72532f",
   "metadata": {},
   "outputs": [
    {
     "data": {
      "text/plain": [
       "-13.5"
      ]
     },
     "execution_count": 51,
     "metadata": {},
     "output_type": "execute_result"
    }
   ],
   "source": [
    "lower_limit = q1-(1.5*IQR)\n",
    "lower_limit"
   ]
  },
  {
   "cell_type": "code",
   "execution_count": 52,
   "id": "42967b00",
   "metadata": {},
   "outputs": [
    {
     "data": {
      "text/plain": [
       "44.5"
      ]
     },
     "execution_count": 52,
     "metadata": {},
     "output_type": "execute_result"
    }
   ],
   "source": [
    "upper_limit = q3+(1.5*IQR)\n",
    "upper_limit"
   ]
  },
  {
   "cell_type": "code",
   "execution_count": 53,
   "id": "c1b6a807",
   "metadata": {},
   "outputs": [
    {
     "data": {
      "text/plain": [
       "array([False, False, False, False, False, False, False, False, False,\n",
       "       False, False, False, False, False, False])"
      ]
     },
     "execution_count": 53,
     "metadata": {},
     "output_type": "execute_result"
    }
   ],
   "source": [
    "array2>upper_limit"
   ]
  },
  {
   "cell_type": "code",
   "execution_count": 54,
   "id": "2ac6f872",
   "metadata": {},
   "outputs": [
    {
     "data": {
      "text/plain": [
       "array([False, False, False, False, False, False, False, False, False,\n",
       "       False, False, False, False, False, False])"
      ]
     },
     "execution_count": 54,
     "metadata": {},
     "output_type": "execute_result"
    }
   ],
   "source": [
    "array2<lower_limit"
   ]
  },
  {
   "cell_type": "code",
   "execution_count": null,
   "id": "92085b0a",
   "metadata": {},
   "outputs": [],
   "source": []
  }
 ],
 "metadata": {
  "kernelspec": {
   "display_name": "Python 3 (ipykernel)",
   "language": "python",
   "name": "python3"
  },
  "language_info": {
   "codemirror_mode": {
    "name": "ipython",
    "version": 3
   },
   "file_extension": ".py",
   "mimetype": "text/x-python",
   "name": "python",
   "nbconvert_exporter": "python",
   "pygments_lexer": "ipython3",
   "version": "3.11.4"
  }
 },
 "nbformat": 4,
 "nbformat_minor": 5
}
