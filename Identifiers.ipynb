{
 "cells": [
  {
   "cell_type": "markdown",
   "id": "5efd181d",
   "metadata": {},
   "source": [
    "# Check the valid Identifiers and invalid identifers using Python"
   ]
  },
  {
   "cell_type": "markdown",
   "id": "aebe5a40",
   "metadata": {},
   "source": [
    "1. **Run all the identifiers and seprate valid and Invalid Identifiers?**\n",
    "\n",
    "2. **Why Python treating them as invalid Identifers.Explain?**"
   ]
  },
  {
   "cell_type": "markdown",
   "id": "77c112d3",
   "metadata": {},
   "source": [
    "* my_variable = 25\n",
    "  =valid\n",
    "\n",
    "* counter = 40.7\n",
    "  =valid\n",
    "\n",
    "* _total = \"Hello\"\n",
    "   =valid\n",
    "\n",
    " - 123abc   = 34      \n",
    "     =invalid,the idrntifier should not start with number\n",
    "     \n",
    " - my variable   =6.7\n",
    "     = valid\n",
    "     \n",
    " - @count  = \"hi\"      \n",
    "    =invalid, the identifiershouldn't start with specail characater\n",
    "    \n",
    " - for   = \"True\"\n",
    "     = invalid,unterminated string literal detected at line 1\n",
    "\n",
    "\n",
    "* Name123 = 136\n",
    "      = valid\n",
    "\n",
    "* myFunction = True\n",
    "    =valid\n",
    "    \n",
    "* _data = False\n",
    "     =valid\n",
    "     \n",
    "- if_condition? = \"Innomatics\"\n",
    "      = invalid,the identifier shouldn't use key words\n",
    " \n",
    "- class = \"Hyderabad\"\n",
    "     = invalid,use only valid name "
   ]
  },
  {
   "cell_type": "markdown",
   "id": "35c32a6f",
   "metadata": {},
   "source": [
    "### Use different identifiers and assign the below values"
   ]
  },
  {
   "cell_type": "markdown",
   "id": "d606e5ac",
   "metadata": {},
   "source": [
    "num = 10 (interger)\n",
    "\n",
    "a = -5(integer)\n",
    "\n",
    "x =3.14159 (relational / comparative operators)\n",
    "\n",
    "y = -0.12345 (relational / comparative operators)\n",
    "\n",
    "a = 1000 (integer)\n",
    "\n",
    "python = \"Hello, World!\" (identifier)\n",
    "\n",
    "satish = \"Python\" (identifier)\n",
    "\n",
    "sam = \"I am learning\" (identifier)\n",
    "\n",
    "sai = \"Text type\" (identifier)\n",
    "\n",
    "\"string\" data_type = \"String\" (identifier)\n",
    "\n",
    "True = True (bool / logical operator)\n",
    "\n",
    "False = False(bool / logical operator)\n",
    "\n",
    "True = True(bool / logical operator)\n",
    "\n",
    "True = False (bool / logical operator)\n",
    "\n",
    "True = True (bool / logical operator)\n",
    "\n"
   ]
  },
  {
   "cell_type": "code",
   "execution_count": null,
   "id": "a8ce7a79",
   "metadata": {},
   "outputs": [],
   "source": []
  }
 ],
 "metadata": {
  "kernelspec": {
   "display_name": "Python 3 (ipykernel)",
   "language": "python",
   "name": "python3"
  },
  "language_info": {
   "codemirror_mode": {
    "name": "ipython",
    "version": 3
   },
   "file_extension": ".py",
   "mimetype": "text/x-python",
   "name": "python",
   "nbconvert_exporter": "python",
   "pygments_lexer": "ipython3",
   "version": "3.11.4"
  }
 },
 "nbformat": 4,
 "nbformat_minor": 5
}
