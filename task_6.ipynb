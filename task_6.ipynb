{
 "cells": [
  {
   "cell_type": "markdown",
   "id": "89e913e0",
   "metadata": {},
   "source": [
    "Assignment Task 1:\n",
    "\n",
    "Tuple Basics Create a Python tuple containing the names of your favorite fruits. Write a Python program to print each fruit name from the tuple.\n",
    "\n",
    "Assignment Task 2:\n",
    "\n",
    "Tuple Operations Given two tuples, write a Python program to concatenate them into a single tuple and then find the length of the resulting tuple.\n",
    "\n",
    "Assignment Task 3:\n",
    "\n",
    "Set Creation Create a Python set containing the first 10 even numbers (2, 4, 6, ...). Write a program to display this set.\n",
    "\n",
    "Assignment Task 4:\n",
    "\n",
    "Set Operations Given two sets, write a Python program to find the union, intersection, and difference of these sets.\n",
    "\n",
    "Assignment Task 5:\n",
    "\n",
    "Tuple and Set Conversion Write a Python program that takes a tuple of integers and converts it into a set. Then, find and print the maximum and minimum values from the set.\n",
    "\n",
    "Assignment Task 6:\n",
    "\n",
    "Tuple Immutability Explain the concept of immutability in Python tuples with examples. Discuss why tuples are considered immutable data structures.\n",
    "Assignment Task 7:\n",
    "\n",
    "Set Operations and Methods Write a Python program that takes a set of numbers and performs the following operations:\n",
    "\n",
    "Add a new number to the set. Remove a number from the set. Check if a specific number is in the set. Find the size of the set.\n",
    "\n",
    "Assignment Task 8:\n",
    "\n",
    "Tuple Slicing Given a tuple of 10 elements, write a Python program to print the elements from the 3rd to the 7thposition using slicing.\n",
    "\n",
    "Assignment Task 9:\n",
    "\n",
    "Set Operations with Lists Create a Python list with duplicate elements and convert it into a set to remove duplicates. Then, write a program to count how many duplicates were removed.\n",
    "\n",
    "Assignment Task 10:\n",
    "\n",
    "Tuple and Set Combinations Create a tuple containing the names of your friend's favorite movies and a set containing the names of your favorite movies. Write a Python program to find and display common elements (movies that feature your\n",
    "\n",
    "Assignment Task 1:\n",
    "\n",
    "Tuple Basics Create a Python tuple containing the names of your favorite fruits. Write a Python program to print each fruit name from the tuple."
   ]
  },
  {
   "cell_type": "code",
   "execution_count": 1,
   "id": "ca401471",
   "metadata": {},
   "outputs": [],
   "source": [
    "fruits = (\"mango\",\"apple\",\"banana\",\"grape\",\"kiwi\")"
   ]
  },
  {
   "cell_type": "code",
   "execution_count": 2,
   "id": "30b2c29d",
   "metadata": {},
   "outputs": [
    {
     "data": {
      "text/plain": [
       "('mango', 'apple', 'banana', 'grape', 'kiwi')"
      ]
     },
     "execution_count": 2,
     "metadata": {},
     "output_type": "execute_result"
    }
   ],
   "source": [
    "fruits"
   ]
  },
  {
   "cell_type": "code",
   "execution_count": 4,
   "id": "5f2ce995",
   "metadata": {},
   "outputs": [
    {
     "data": {
      "text/plain": [
       "tuple"
      ]
     },
     "execution_count": 4,
     "metadata": {},
     "output_type": "execute_result"
    }
   ],
   "source": [
    "type(fruits)"
   ]
  },
  {
   "cell_type": "code",
   "execution_count": 5,
   "id": "d38d1521",
   "metadata": {},
   "outputs": [
    {
     "data": {
      "text/plain": [
       "'mango'"
      ]
     },
     "execution_count": 5,
     "metadata": {},
     "output_type": "execute_result"
    }
   ],
   "source": [
    "fruits[0]"
   ]
  },
  {
   "cell_type": "code",
   "execution_count": 6,
   "id": "8509fd31",
   "metadata": {},
   "outputs": [
    {
     "data": {
      "text/plain": [
       "'apple'"
      ]
     },
     "execution_count": 6,
     "metadata": {},
     "output_type": "execute_result"
    }
   ],
   "source": [
    "fruits[1]"
   ]
  },
  {
   "cell_type": "code",
   "execution_count": 7,
   "id": "53a3bf54",
   "metadata": {},
   "outputs": [
    {
     "data": {
      "text/plain": [
       "'banana'"
      ]
     },
     "execution_count": 7,
     "metadata": {},
     "output_type": "execute_result"
    }
   ],
   "source": [
    "fruits[2]"
   ]
  },
  {
   "cell_type": "code",
   "execution_count": 8,
   "id": "16db2a0a",
   "metadata": {},
   "outputs": [
    {
     "data": {
      "text/plain": [
       "'grape'"
      ]
     },
     "execution_count": 8,
     "metadata": {},
     "output_type": "execute_result"
    }
   ],
   "source": [
    "fruits[3]"
   ]
  },
  {
   "cell_type": "code",
   "execution_count": 9,
   "id": "bd6f3055",
   "metadata": {},
   "outputs": [
    {
     "data": {
      "text/plain": [
       "'kiwi'"
      ]
     },
     "execution_count": 9,
     "metadata": {},
     "output_type": "execute_result"
    }
   ],
   "source": [
    "fruits[4]"
   ]
  },
  {
   "cell_type": "markdown",
   "id": "a65bb1d4",
   "metadata": {},
   "source": [
    "Assignment Task 2:\n",
    "\n",
    "Tuple Operations Given two tuples, write a Python program to concatenate them into a single tuple and then find the length of the resulting tuple."
   ]
  },
  {
   "cell_type": "code",
   "execution_count": 11,
   "id": "0f5e2ed3",
   "metadata": {},
   "outputs": [],
   "source": [
    "tuple1 = (1,2,3,4,5)\n",
    "tuple2 = (6,7,8,9,10)"
   ]
  },
  {
   "cell_type": "code",
   "execution_count": 12,
   "id": "4dcffcc7",
   "metadata": {},
   "outputs": [],
   "source": [
    "a = tuple1 + tuple2"
   ]
  },
  {
   "cell_type": "code",
   "execution_count": 13,
   "id": "708589ff",
   "metadata": {},
   "outputs": [
    {
     "data": {
      "text/plain": [
       "(1, 2, 3, 4, 5, 6, 7, 8, 9, 10)"
      ]
     },
     "execution_count": 13,
     "metadata": {},
     "output_type": "execute_result"
    }
   ],
   "source": [
    "a"
   ]
  },
  {
   "cell_type": "code",
   "execution_count": 14,
   "id": "457fa5e6",
   "metadata": {},
   "outputs": [
    {
     "data": {
      "text/plain": [
       "10"
      ]
     },
     "execution_count": 14,
     "metadata": {},
     "output_type": "execute_result"
    }
   ],
   "source": [
    "len(a)"
   ]
  },
  {
   "cell_type": "markdown",
   "id": "d1b2f2f4",
   "metadata": {},
   "source": [
    "Assignment Task 3:\n",
    "\n",
    "Set Creation Create a Python set containing the first 10 even numbers (2, 4, 6, ...). Write a program to display this set."
   ]
  },
  {
   "cell_type": "code",
   "execution_count": 18,
   "id": "604f5a3e",
   "metadata": {},
   "outputs": [],
   "source": [
    "a = {2,4,6,8,10,12,14,16,18,20}"
   ]
  },
  {
   "cell_type": "code",
   "execution_count": 19,
   "id": "9757eb00",
   "metadata": {},
   "outputs": [
    {
     "data": {
      "text/plain": [
       "{2, 4, 6, 8, 10, 12, 14, 16, 18, 20}"
      ]
     },
     "execution_count": 19,
     "metadata": {},
     "output_type": "execute_result"
    }
   ],
   "source": [
    "a"
   ]
  },
  {
   "cell_type": "code",
   "execution_count": 20,
   "id": "f1422b08",
   "metadata": {},
   "outputs": [
    {
     "data": {
      "text/plain": [
       "set"
      ]
     },
     "execution_count": 20,
     "metadata": {},
     "output_type": "execute_result"
    }
   ],
   "source": [
    "type(a)"
   ]
  },
  {
   "cell_type": "markdown",
   "id": "ac74731b",
   "metadata": {},
   "source": [
    "Assignment Task 4:\n",
    "\n",
    "Set Operations Given two sets, write a Python program to find the union, intersection, and difference of these sets."
   ]
  },
  {
   "cell_type": "code",
   "execution_count": 15,
   "id": "161dce67",
   "metadata": {},
   "outputs": [],
   "source": [
    "set1 ={1,2,3,4,5,6,7,8,9,10}\n",
    "set2 = {5,6,7,8,9,10,11,12,13}"
   ]
  },
  {
   "cell_type": "code",
   "execution_count": 16,
   "id": "6b28d3d7",
   "metadata": {},
   "outputs": [
    {
     "data": {
      "text/plain": [
       "{1, 2, 3, 4, 5, 6, 7, 8, 9, 10, 11, 12, 13}"
      ]
     },
     "execution_count": 16,
     "metadata": {},
     "output_type": "execute_result"
    }
   ],
   "source": [
    "set1.union(set2)       #union"
   ]
  },
  {
   "cell_type": "code",
   "execution_count": 17,
   "id": "df01c90e",
   "metadata": {},
   "outputs": [
    {
     "data": {
      "text/plain": [
       "{5, 6, 7, 8, 9, 10}"
      ]
     },
     "execution_count": 17,
     "metadata": {},
     "output_type": "execute_result"
    }
   ],
   "source": [
    "set1.intersection(set2)      #intersection"
   ]
  },
  {
   "cell_type": "code",
   "execution_count": 22,
   "id": "83bf1e63",
   "metadata": {},
   "outputs": [
    {
     "data": {
      "text/plain": [
       "{1, 2, 3, 4}"
      ]
     },
     "execution_count": 22,
     "metadata": {},
     "output_type": "execute_result"
    }
   ],
   "source": [
    "set1.difference(set2)      #difference"
   ]
  },
  {
   "cell_type": "markdown",
   "id": "f78dd7e2",
   "metadata": {},
   "source": [
    "Assignment Task 5:\n",
    "\n",
    "Tuple and Set Conversion Write a Python program that takes a tuple of integers and converts it into a set. Then, find and print the maximum and minimum values from the set."
   ]
  },
  {
   "cell_type": "code",
   "execution_count": 23,
   "id": "b6be9127",
   "metadata": {},
   "outputs": [],
   "source": [
    "tup = (1,2,3,4,5,6,7,8,9)"
   ]
  },
  {
   "cell_type": "code",
   "execution_count": 24,
   "id": "aaf61e91",
   "metadata": {},
   "outputs": [
    {
     "data": {
      "text/plain": [
       "tuple"
      ]
     },
     "execution_count": 24,
     "metadata": {},
     "output_type": "execute_result"
    }
   ],
   "source": [
    "type(tup)"
   ]
  },
  {
   "cell_type": "code",
   "execution_count": 25,
   "id": "58136bc9",
   "metadata": {},
   "outputs": [],
   "source": [
    "a = set(tup)"
   ]
  },
  {
   "cell_type": "code",
   "execution_count": 26,
   "id": "167677f9",
   "metadata": {},
   "outputs": [
    {
     "data": {
      "text/plain": [
       "{1, 2, 3, 4, 5, 6, 7, 8, 9}"
      ]
     },
     "execution_count": 26,
     "metadata": {},
     "output_type": "execute_result"
    }
   ],
   "source": [
    "a "
   ]
  },
  {
   "cell_type": "code",
   "execution_count": 27,
   "id": "b6ca0eb3",
   "metadata": {},
   "outputs": [
    {
     "data": {
      "text/plain": [
       "set"
      ]
     },
     "execution_count": 27,
     "metadata": {},
     "output_type": "execute_result"
    }
   ],
   "source": [
    "type(a)"
   ]
  },
  {
   "cell_type": "code",
   "execution_count": 28,
   "id": "8cb758b5",
   "metadata": {},
   "outputs": [
    {
     "data": {
      "text/plain": [
       "9"
      ]
     },
     "execution_count": 28,
     "metadata": {},
     "output_type": "execute_result"
    }
   ],
   "source": [
    "max(a)"
   ]
  },
  {
   "cell_type": "code",
   "execution_count": 29,
   "id": "663c71c0",
   "metadata": {},
   "outputs": [
    {
     "data": {
      "text/plain": [
       "1"
      ]
     },
     "execution_count": 29,
     "metadata": {},
     "output_type": "execute_result"
    }
   ],
   "source": [
    "min(a)"
   ]
  },
  {
   "cell_type": "markdown",
   "id": "e6769dec",
   "metadata": {},
   "source": [
    "Assignment Task 6:\n",
    "\n",
    "Tuple Immutability Explain the concept of immutability in Python tuples with examples. Discuss why tuples are considered immutable data structures.\n",
    "\n",
    "* Yes tuple is immutbale"
   ]
  },
  {
   "cell_type": "code",
   "execution_count": 1,
   "id": "c4fc3fa5",
   "metadata": {},
   "outputs": [],
   "source": [
    "tup =(1,2,3,4,5,6)\n",
    "tup1 =(7,8,9,10,11,12)"
   ]
  },
  {
   "cell_type": "code",
   "execution_count": 2,
   "id": "a32c4971",
   "metadata": {},
   "outputs": [],
   "source": [
    "a = tup + tup1"
   ]
  },
  {
   "cell_type": "code",
   "execution_count": 3,
   "id": "071a530b",
   "metadata": {},
   "outputs": [
    {
     "data": {
      "text/plain": [
       "(1, 2, 3, 4, 5, 6, 7, 8, 9, 10, 11, 12)"
      ]
     },
     "execution_count": 3,
     "metadata": {},
     "output_type": "execute_result"
    }
   ],
   "source": [
    "a\n"
   ]
  },
  {
   "cell_type": "code",
   "execution_count": 5,
   "id": "4b981166",
   "metadata": {},
   "outputs": [
    {
     "data": {
      "text/plain": [
       "1"
      ]
     },
     "execution_count": 5,
     "metadata": {},
     "output_type": "execute_result"
    }
   ],
   "source": [
    "a.count(11)"
   ]
  },
  {
   "cell_type": "markdown",
   "id": "5d092000",
   "metadata": {},
   "source": [
    "* original input cannot be changed because it is immutable. cannot be changed. we cannot add or remove the elements from the input"
   ]
  },
  {
   "cell_type": "code",
   "execution_count": 7,
   "id": "924cb07c",
   "metadata": {},
   "outputs": [
    {
     "ename": "AttributeError",
     "evalue": "'tuple' object has no attribute 'append'",
     "output_type": "error",
     "traceback": [
      "\u001b[1;31m---------------------------------------------------------------------------\u001b[0m",
      "\u001b[1;31mAttributeError\u001b[0m                            Traceback (most recent call last)",
      "Cell \u001b[1;32mIn[7], line 1\u001b[0m\n\u001b[1;32m----> 1\u001b[0m a\u001b[38;5;241m.\u001b[39mappend(\u001b[38;5;241m2\u001b[39m)\n",
      "\u001b[1;31mAttributeError\u001b[0m: 'tuple' object has no attribute 'append'"
     ]
    }
   ],
   "source": [
    "a.append(2)"
   ]
  },
  {
   "cell_type": "code",
   "execution_count": 8,
   "id": "792532a3",
   "metadata": {},
   "outputs": [],
   "source": [
    "## example why list and set is mutable"
   ]
  },
  {
   "cell_type": "code",
   "execution_count": 9,
   "id": "dc7392c0",
   "metadata": {},
   "outputs": [],
   "source": [
    "b = [1,2,3,4,5,6]"
   ]
  },
  {
   "cell_type": "code",
   "execution_count": 10,
   "id": "c7e31d52",
   "metadata": {},
   "outputs": [
    {
     "data": {
      "text/plain": [
       "list"
      ]
     },
     "execution_count": 10,
     "metadata": {},
     "output_type": "execute_result"
    }
   ],
   "source": [
    "type(b)"
   ]
  },
  {
   "cell_type": "code",
   "execution_count": 11,
   "id": "00dac22f",
   "metadata": {},
   "outputs": [],
   "source": [
    "b.append(50)"
   ]
  },
  {
   "cell_type": "code",
   "execution_count": 12,
   "id": "52363b11",
   "metadata": {},
   "outputs": [
    {
     "data": {
      "text/plain": [
       "[1, 2, 3, 4, 5, 6, 50]"
      ]
     },
     "execution_count": 12,
     "metadata": {},
     "output_type": "execute_result"
    }
   ],
   "source": [
    "b"
   ]
  },
  {
   "cell_type": "code",
   "execution_count": 14,
   "id": "02b4f386",
   "metadata": {},
   "outputs": [],
   "source": [
    "## input is 1,2,3,4,5,6 after we have did some operation or methods the input c has change to 1,2,3,4,50. it is mutable"
   ]
  },
  {
   "cell_type": "code",
   "execution_count": null,
   "id": "6e8dc415",
   "metadata": {},
   "outputs": [],
   "source": []
  },
  {
   "cell_type": "markdown",
   "id": "e802ae9c",
   "metadata": {},
   "source": [
    "Assignment Task 7: Set Operations and Methods Write a Python program that takes a set of numbers and performs the following operations:\n",
    "\n",
    "Add a new number to the set. Remove a number from the set. Check if a specific number is in the set. Find the size of the set."
   ]
  },
  {
   "cell_type": "code",
   "execution_count": 15,
   "id": "779b8fe9",
   "metadata": {},
   "outputs": [],
   "source": [
    "s ={90,91,95,96,99,97}"
   ]
  },
  {
   "cell_type": "code",
   "execution_count": 16,
   "id": "ad03abea",
   "metadata": {},
   "outputs": [
    {
     "data": {
      "text/plain": [
       "set"
      ]
     },
     "execution_count": 16,
     "metadata": {},
     "output_type": "execute_result"
    }
   ],
   "source": [
    "type(s)"
   ]
  },
  {
   "cell_type": "code",
   "execution_count": 17,
   "id": "5e5b0f98",
   "metadata": {},
   "outputs": [],
   "source": [
    "s.add(100)"
   ]
  },
  {
   "cell_type": "code",
   "execution_count": 19,
   "id": "9013de0d",
   "metadata": {},
   "outputs": [
    {
     "data": {
      "text/plain": [
       "{90, 91, 95, 96, 97, 99, 100}"
      ]
     },
     "execution_count": 19,
     "metadata": {},
     "output_type": "execute_result"
    }
   ],
   "source": [
    "s       # 100 is add in s"
   ]
  },
  {
   "cell_type": "code",
   "execution_count": 20,
   "id": "0bb0d0cf",
   "metadata": {},
   "outputs": [],
   "source": [
    "s.remove(91)"
   ]
  },
  {
   "cell_type": "code",
   "execution_count": 22,
   "id": "a079ed60",
   "metadata": {},
   "outputs": [
    {
     "data": {
      "text/plain": [
       "{90, 95, 96, 97, 99, 100}"
      ]
     },
     "execution_count": 22,
     "metadata": {},
     "output_type": "execute_result"
    }
   ],
   "source": [
    "s ## 91 has removed from s"
   ]
  },
  {
   "cell_type": "code",
   "execution_count": 23,
   "id": "97c20e93",
   "metadata": {},
   "outputs": [
    {
     "data": {
      "text/plain": [
       "set"
      ]
     },
     "execution_count": 23,
     "metadata": {},
     "output_type": "execute_result"
    }
   ],
   "source": [
    "type(s)"
   ]
  },
  {
   "cell_type": "code",
   "execution_count": 24,
   "id": "5d6f44e5",
   "metadata": {},
   "outputs": [
    {
     "data": {
      "text/plain": [
       "{90, 95, 96, 97, 99, 100}"
      ]
     },
     "execution_count": 24,
     "metadata": {},
     "output_type": "execute_result"
    }
   ],
   "source": [
    "s"
   ]
  },
  {
   "cell_type": "code",
   "execution_count": 25,
   "id": "45a30529",
   "metadata": {},
   "outputs": [
    {
     "data": {
      "text/plain": [
       "False"
      ]
     },
     "execution_count": 25,
     "metadata": {},
     "output_type": "execute_result"
    }
   ],
   "source": [
    "89 in s"
   ]
  },
  {
   "cell_type": "code",
   "execution_count": 26,
   "id": "1f4241be",
   "metadata": {},
   "outputs": [
    {
     "data": {
      "text/plain": [
       "True"
      ]
     },
     "execution_count": 26,
     "metadata": {},
     "output_type": "execute_result"
    }
   ],
   "source": [
    "90 in s"
   ]
  },
  {
   "cell_type": "code",
   "execution_count": 27,
   "id": "7b1331d1",
   "metadata": {},
   "outputs": [
    {
     "data": {
      "text/plain": [
       "False"
      ]
     },
     "execution_count": 27,
     "metadata": {},
     "output_type": "execute_result"
    }
   ],
   "source": [
    "90 not in s"
   ]
  },
  {
   "cell_type": "code",
   "execution_count": 28,
   "id": "e1a3103f",
   "metadata": {},
   "outputs": [
    {
     "data": {
      "text/plain": [
       "6"
      ]
     },
     "execution_count": 28,
     "metadata": {},
     "output_type": "execute_result"
    }
   ],
   "source": [
    "len(s)"
   ]
  },
  {
   "cell_type": "markdown",
   "id": "5a250d5e",
   "metadata": {},
   "source": [
    "Assignment Task 8: Tuple Slicing Given a tuple of 10 elements, write a Python program to print the elements from the 3rd to the 7th position using slicing."
   ]
  },
  {
   "cell_type": "code",
   "execution_count": 29,
   "id": "1e19ffc3",
   "metadata": {},
   "outputs": [],
   "source": [
    "tu = (\"sa\",\"as\",\"ss\",\"aa\",\"sal\")"
   ]
  },
  {
   "cell_type": "code",
   "execution_count": 30,
   "id": "b79344e1",
   "metadata": {},
   "outputs": [
    {
     "data": {
      "text/plain": [
       "tuple"
      ]
     },
     "execution_count": 30,
     "metadata": {},
     "output_type": "execute_result"
    }
   ],
   "source": [
    "type(tu)"
   ]
  },
  {
   "cell_type": "code",
   "execution_count": 33,
   "id": "cbbf2aae",
   "metadata": {},
   "outputs": [
    {
     "data": {
      "text/plain": [
       "('ss', 'aa')"
      ]
     },
     "execution_count": 33,
     "metadata": {},
     "output_type": "execute_result"
    }
   ],
   "source": [
    "tu[2:4]"
   ]
  },
  {
   "cell_type": "code",
   "execution_count": 34,
   "id": "8251425e",
   "metadata": {},
   "outputs": [
    {
     "data": {
      "text/plain": [
       "('as', 'ss', 'aa', 'sal')"
      ]
     },
     "execution_count": 34,
     "metadata": {},
     "output_type": "execute_result"
    }
   ],
   "source": [
    "tu[1:5]"
   ]
  },
  {
   "cell_type": "code",
   "execution_count": 39,
   "id": "affc3f48",
   "metadata": {},
   "outputs": [],
   "source": [
    "tp =tu[-5:-3:1]"
   ]
  },
  {
   "cell_type": "code",
   "execution_count": 40,
   "id": "f33c6410",
   "metadata": {},
   "outputs": [
    {
     "data": {
      "text/plain": [
       "('sa', 'as')"
      ]
     },
     "execution_count": 40,
     "metadata": {},
     "output_type": "execute_result"
    }
   ],
   "source": [
    "tp"
   ]
  },
  {
   "cell_type": "code",
   "execution_count": null,
   "id": "972187d6",
   "metadata": {},
   "outputs": [],
   "source": []
  },
  {
   "cell_type": "markdown",
   "id": "130a136d",
   "metadata": {},
   "source": [
    "Assignment Task 9: Set Operations with Lists Create a Python list with duplicate elements and convert it into a set to remove duplicates. Then, write a program to count how many duplicates were removed."
   ]
  },
  {
   "cell_type": "code",
   "execution_count": 44,
   "id": "58a10a39",
   "metadata": {},
   "outputs": [],
   "source": [
    "list_1 =[11,11,22,22,33,44,55,66,77,88,99]"
   ]
  },
  {
   "cell_type": "code",
   "execution_count": 45,
   "id": "ea69b2b1",
   "metadata": {},
   "outputs": [],
   "source": [
    "a = set(list_1)"
   ]
  },
  {
   "cell_type": "code",
   "execution_count": 46,
   "id": "2ad58a08",
   "metadata": {},
   "outputs": [
    {
     "data": {
      "text/plain": [
       "{11, 22, 33, 44, 55, 66, 77, 88, 99}"
      ]
     },
     "execution_count": 46,
     "metadata": {},
     "output_type": "execute_result"
    }
   ],
   "source": [
    "a"
   ]
  },
  {
   "cell_type": "code",
   "execution_count": 47,
   "id": "b8c69e3f",
   "metadata": {},
   "outputs": [
    {
     "data": {
      "text/plain": [
       "9"
      ]
     },
     "execution_count": 47,
     "metadata": {},
     "output_type": "execute_result"
    }
   ],
   "source": [
    "len(a)"
   ]
  },
  {
   "cell_type": "code",
   "execution_count": 48,
   "id": "54237af0",
   "metadata": {},
   "outputs": [],
   "source": [
    "no_of_duplicates = len(list_1) - len(a)"
   ]
  },
  {
   "cell_type": "code",
   "execution_count": 49,
   "id": "d709179c",
   "metadata": {},
   "outputs": [
    {
     "data": {
      "text/plain": [
       "2"
      ]
     },
     "execution_count": 49,
     "metadata": {},
     "output_type": "execute_result"
    }
   ],
   "source": [
    "no_of_duplicates"
   ]
  },
  {
   "cell_type": "code",
   "execution_count": null,
   "id": "e8e9e421",
   "metadata": {},
   "outputs": [],
   "source": []
  },
  {
   "cell_type": "markdown",
   "id": "2c03eb29",
   "metadata": {},
   "source": [
    "Assignment Task 10: Tuple and Set Combinations Create a tuple containing the names of your friend's favorite movies and a set containing the names of your favorite movies. Write a Python program to find and display common elements (movies that feature your"
   ]
  },
  {
   "cell_type": "code",
   "execution_count": 50,
   "id": "b5c6436b",
   "metadata": {},
   "outputs": [],
   "source": [
    "frnds_fav=(\"RRR\", \"Eega\", \"Kantara\", \"Pushpa\")"
   ]
  },
  {
   "cell_type": "code",
   "execution_count": 51,
   "id": "d5257329",
   "metadata": {},
   "outputs": [],
   "source": [
    "my_fav={\"Djtillu\", \"Birdbox\",\"Pushpa\",\"RRR\",\"Sitaramam\"}"
   ]
  },
  {
   "cell_type": "code",
   "execution_count": 52,
   "id": "e6c73c15",
   "metadata": {},
   "outputs": [],
   "source": [
    "both = set(frnds_fav)"
   ]
  },
  {
   "cell_type": "code",
   "execution_count": 53,
   "id": "aca44076",
   "metadata": {},
   "outputs": [
    {
     "data": {
      "text/plain": [
       "{'Eega', 'Kantara', 'Pushpa', 'RRR'}"
      ]
     },
     "execution_count": 53,
     "metadata": {},
     "output_type": "execute_result"
    }
   ],
   "source": [
    "both"
   ]
  },
  {
   "cell_type": "code",
   "execution_count": 54,
   "id": "5dfcbf3f",
   "metadata": {},
   "outputs": [
    {
     "data": {
      "text/plain": [
       "{'Pushpa', 'RRR'}"
      ]
     },
     "execution_count": 54,
     "metadata": {},
     "output_type": "execute_result"
    }
   ],
   "source": [
    "my_fav.intersection(both)"
   ]
  },
  {
   "cell_type": "code",
   "execution_count": null,
   "id": "75be9b5f",
   "metadata": {},
   "outputs": [],
   "source": []
  }
 ],
 "metadata": {
  "kernelspec": {
   "display_name": "Python 3 (ipykernel)",
   "language": "python",
   "name": "python3"
  },
  "language_info": {
   "codemirror_mode": {
    "name": "ipython",
    "version": 3
   },
   "file_extension": ".py",
   "mimetype": "text/x-python",
   "name": "python",
   "nbconvert_exporter": "python",
   "pygments_lexer": "ipython3",
   "version": "3.11.4"
  }
 },
 "nbformat": 4,
 "nbformat_minor": 5
}
