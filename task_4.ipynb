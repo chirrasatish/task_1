{
 "cells": [
  {
   "cell_type": "markdown",
   "id": "dc31ea8a",
   "metadata": {},
   "source": [
    "1)Ask user to enter a website name and check whether it is valid or not(True/False)\n",
    "\n",
    "2)name = \"Innomatics\", course = \"Data Science\" write python code in different ways to show output as : \"Hello World I am learning Data Science in Innomatics\"\n",
    "\n",
    "3)Replace Science with Analysis in the above output.\n",
    "\n",
    "4)string = ' Hello World I am learning Python in Innomatics ' a. How many characters are there in the string. b. Slice only 'Python' from above string c. Remove white spaces on both sides then find no.of characters in the string. d. Convert the string in Upper case\n",
    "\n",
    "5)What is the index number of 'World' in above string.\n",
    "\n",
    "6)Split the string with respect to whitespace.after that store that splitted into a variable and find the data typeof that variable.\n",
    "\n",
    "7)How many times 'a' is repeated in above string.\n",
    "\n",
    "1)Ask user to enter a website name and check whether it is valid or not(True/False)"
   ]
  },
  {
   "cell_type": "code",
   "execution_count": 1,
   "id": "712549fa",
   "metadata": {},
   "outputs": [
    {
     "name": "stdout",
     "output_type": "stream",
     "text": [
      "enter the website ::www.satish.com\n"
     ]
    },
    {
     "data": {
      "text/plain": [
       "True"
      ]
     },
     "execution_count": 1,
     "metadata": {},
     "output_type": "execute_result"
    }
   ],
   "source": [
    "name = input(\"enter the website ::\")\n",
    "name.startswith(\"www.\") and name.endswith(\".com\")"
   ]
  },
  {
   "cell_type": "code",
   "execution_count": 2,
   "id": "6ab5d9b0",
   "metadata": {},
   "outputs": [
    {
     "name": "stdout",
     "output_type": "stream",
     "text": [
      "Hello World I am learning Data Science in Innomaticsdata scienceininnomatics\n"
     ]
    }
   ],
   "source": [
    "name = \"innomatics\"\n",
    "course = \"data science\"\n",
    "print(\"Hello World I am learning Data Science in Innomatics\"+course+\"in\"+name)"
   ]
  },
  {
   "cell_type": "code",
   "execution_count": 3,
   "id": "171330fb",
   "metadata": {},
   "outputs": [
    {
     "name": "stdout",
     "output_type": "stream",
     "text": [
      "Hello World I am learning data science in innomatics\n"
     ]
    }
   ],
   "source": [
    "# second way\n",
    "print(\"Hello World I am learning {} in {}\".format(course,name))"
   ]
  },
  {
   "cell_type": "code",
   "execution_count": 4,
   "id": "62086f65",
   "metadata": {},
   "outputs": [
    {
     "name": "stdout",
     "output_type": "stream",
     "text": [
      "Hello World I am learning data science in innomatics\n"
     ]
    }
   ],
   "source": [
    "# third way\n",
    "print(f\"Hello World I am learning {course} in {name}\")"
   ]
  },
  {
   "cell_type": "code",
   "execution_count": 5,
   "id": "71c09274",
   "metadata": {},
   "outputs": [
    {
     "name": "stdout",
     "output_type": "stream",
     "text": [
      "Hello World I am learning  data science in  innomatics\n"
     ]
    }
   ],
   "source": [
    "#fourth way\n",
    "print ( \"Hello World I am learning \",course,\"in \",name)"
   ]
  },
  {
   "cell_type": "markdown",
   "id": "e9ef8b15",
   "metadata": {},
   "source": [
    "3)Replace Science with Analysis in the above output."
   ]
  },
  {
   "cell_type": "code",
   "execution_count": 6,
   "id": "84e3f75c",
   "metadata": {},
   "outputs": [],
   "source": [
    "str = \"Hello World I am learning Data Science in Innomatics\""
   ]
  },
  {
   "cell_type": "code",
   "execution_count": 7,
   "id": "12362cc5",
   "metadata": {},
   "outputs": [
    {
     "data": {
      "text/plain": [
       "'Hello World I am learning Data Science in Innomatics'"
      ]
     },
     "execution_count": 7,
     "metadata": {},
     "output_type": "execute_result"
    }
   ],
   "source": [
    "str.replace(\"science\",\"analysis\")"
   ]
  },
  {
   "cell_type": "markdown",
   "id": "bd2a401e",
   "metadata": {},
   "source": [
    "4)string = ' Hello World I am learning Python in Innomatics ' a. How many characters are there in the string. b. Slice only 'Python' from above string c. Remove white spaces on both sides then find no.of characters in the string. d. Convert the string in Upper case"
   ]
  },
  {
   "cell_type": "code",
   "execution_count": 8,
   "id": "f0d690d4",
   "metadata": {},
   "outputs": [],
   "source": [
    "string = \"hello world i am learning python in innomatics\""
   ]
  },
  {
   "cell_type": "code",
   "execution_count": 9,
   "id": "8011314c",
   "metadata": {},
   "outputs": [
    {
     "data": {
      "text/plain": [
       "46"
      ]
     },
     "execution_count": 9,
     "metadata": {},
     "output_type": "execute_result"
    }
   ],
   "source": [
    "# a)\n",
    "len(string)  # length of string givens the no . of charcater "
   ]
  },
  {
   "cell_type": "code",
   "execution_count": 10,
   "id": "de3ad7ef",
   "metadata": {},
   "outputs": [
    {
     "data": {
      "text/plain": [
       "' python'"
      ]
     },
     "execution_count": 10,
     "metadata": {},
     "output_type": "execute_result"
    }
   ],
   "source": [
    "string[-21:-14:]"
   ]
  },
  {
   "cell_type": "code",
   "execution_count": 11,
   "id": "ff6d2014",
   "metadata": {},
   "outputs": [
    {
     "data": {
      "text/plain": [
       "'hello world i am learning python in innomatics'"
      ]
     },
     "execution_count": 11,
     "metadata": {},
     "output_type": "execute_result"
    }
   ],
   "source": [
    "string.strip()"
   ]
  },
  {
   "cell_type": "code",
   "execution_count": 12,
   "id": "660871a5",
   "metadata": {},
   "outputs": [
    {
     "data": {
      "text/plain": [
       "'HELLO WORLD I AM LEARNING PYTHON IN INNOMATICS'"
      ]
     },
     "execution_count": 12,
     "metadata": {},
     "output_type": "execute_result"
    }
   ],
   "source": [
    "string.upper()"
   ]
  },
  {
   "cell_type": "code",
   "execution_count": 13,
   "id": "8444487a",
   "metadata": {},
   "outputs": [
    {
     "data": {
      "text/plain": [
       "'hello world i am learning python in innomatics'"
      ]
     },
     "execution_count": 13,
     "metadata": {},
     "output_type": "execute_result"
    }
   ],
   "source": [
    "string.lower()"
   ]
  },
  {
   "cell_type": "markdown",
   "id": "52bee1df",
   "metadata": {},
   "source": [
    "5)What is the index number of 'World' in above string."
   ]
  },
  {
   "cell_type": "code",
   "execution_count": 14,
   "id": "e73ad087",
   "metadata": {},
   "outputs": [
    {
     "data": {
      "text/plain": [
       "6"
      ]
     },
     "execution_count": 14,
     "metadata": {},
     "output_type": "execute_result"
    }
   ],
   "source": [
    "string.index(\"world\")"
   ]
  },
  {
   "cell_type": "markdown",
   "id": "8e1956e2",
   "metadata": {},
   "source": [
    "6)Split the string with respect to whitespace.after that store that splitted into a variable and find the data typeof that variable."
   ]
  },
  {
   "cell_type": "code",
   "execution_count": 15,
   "id": "7c7e3921",
   "metadata": {},
   "outputs": [
    {
     "data": {
      "text/plain": [
       "'hello world i am learning python in innomatics'"
      ]
     },
     "execution_count": 15,
     "metadata": {},
     "output_type": "execute_result"
    }
   ],
   "source": [
    "string"
   ]
  },
  {
   "cell_type": "code",
   "execution_count": 16,
   "id": "afdbd77b",
   "metadata": {},
   "outputs": [
    {
     "data": {
      "text/plain": [
       "['hello', 'world', 'i', 'am', 'learning', 'python', 'in', 'innomatics']"
      ]
     },
     "execution_count": 16,
     "metadata": {},
     "output_type": "execute_result"
    }
   ],
   "source": [
    "string.split()"
   ]
  },
  {
   "cell_type": "code",
   "execution_count": 17,
   "id": "d07c4a6b",
   "metadata": {},
   "outputs": [],
   "source": [
    "a = string.split()"
   ]
  },
  {
   "cell_type": "code",
   "execution_count": 18,
   "id": "1d61118a",
   "metadata": {},
   "outputs": [
    {
     "data": {
      "text/plain": [
       "list"
      ]
     },
     "execution_count": 18,
     "metadata": {},
     "output_type": "execute_result"
    }
   ],
   "source": [
    "type(a)"
   ]
  },
  {
   "cell_type": "markdown",
   "id": "b590756f",
   "metadata": {},
   "source": [
    "7)How many times 'a' is repeated in above string."
   ]
  },
  {
   "cell_type": "code",
   "execution_count": 19,
   "id": "9fc3a47a",
   "metadata": {},
   "outputs": [
    {
     "data": {
      "text/plain": [
       "'hello world i am learning python in innomatics'"
      ]
     },
     "execution_count": 19,
     "metadata": {},
     "output_type": "execute_result"
    }
   ],
   "source": [
    "string"
   ]
  },
  {
   "cell_type": "code",
   "execution_count": 20,
   "id": "71c67cb9",
   "metadata": {},
   "outputs": [
    {
     "data": {
      "text/plain": [
       "3"
      ]
     },
     "execution_count": 20,
     "metadata": {},
     "output_type": "execute_result"
    }
   ],
   "source": [
    "string.count(\"a\")"
   ]
  },
  {
   "cell_type": "code",
   "execution_count": null,
   "id": "959f765e",
   "metadata": {},
   "outputs": [],
   "source": []
  }
 ],
 "metadata": {
  "kernelspec": {
   "display_name": "Python 3 (ipykernel)",
   "language": "python",
   "name": "python3"
  },
  "language_info": {
   "codemirror_mode": {
    "name": "ipython",
    "version": 3
   },
   "file_extension": ".py",
   "mimetype": "text/x-python",
   "name": "python",
   "nbconvert_exporter": "python",
   "pygments_lexer": "ipython3",
   "version": "3.11.4"
  }
 },
 "nbformat": 4,
 "nbformat_minor": 5
}
